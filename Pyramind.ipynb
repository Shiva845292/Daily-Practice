{
 "cells": [
  {
   "cell_type": "code",
   "execution_count": 6,
   "id": "f6f42b97",
   "metadata": {},
   "outputs": [
    {
     "name": "stdout",
     "output_type": "stream",
     "text": [
      "+ \n",
      "++ \n",
      "+++ \n",
      "++++ \n",
      "+++++ \n"
     ]
    }
   ],
   "source": [
    "n=5\n",
    "for i in range(0,n):\n",
    "    for j in range(0,i+1):\n",
    "        print('+', end=\"\")\n",
    "    print(' ')    \n",
    "    "
   ]
  },
  {
   "cell_type": "code",
   "execution_count": 9,
   "id": "087e7aae",
   "metadata": {},
   "outputs": [
    {
     "name": "stdout",
     "output_type": "stream",
     "text": [
      "+++++ \n",
      "++++ \n",
      "+++ \n",
      "++ \n",
      "+ \n"
     ]
    }
   ],
   "source": [
    "n=5\n",
    "for i in range(0,n):\n",
    "    for j in range(0,n-i):\n",
    "        print('+', end=\"\")\n",
    "    print(' ')   "
   ]
  },
  {
   "cell_type": "code",
   "execution_count": 12,
   "id": "4e057e43",
   "metadata": {},
   "outputs": [
    {
     "name": "stdout",
     "output_type": "stream",
     "text": [
      "+++++ \n",
      "++++ \n",
      "+++ \n",
      "++ \n",
      "+ \n"
     ]
    }
   ],
   "source": [
    "n=5\n",
    "for i in range(0,n):\n",
    "    for j in range(0,n-i):\n",
    "        #print()\n",
    "        print('+', end=\"\")\n",
    "    print(' ')  "
   ]
  },
  {
   "cell_type": "code",
   "execution_count": 19,
   "id": "e59b34ac",
   "metadata": {},
   "outputs": [
    {
     "name": "stdout",
     "output_type": "stream",
     "text": [
      "+++++\r\n",
      "++++\r\n",
      "+++\r\n",
      "++\r\n",
      "+\r\n"
     ]
    }
   ],
   "source": [
    "n=5\n",
    "for i in range(0,n):\n",
    "    for j in range(0,n-i):\n",
    "        print('+', end='')\n",
    "    print('\\r')  \n",
    "    "
   ]
  },
  {
   "cell_type": "code",
   "execution_count": 56,
   "id": "d1c1993e",
   "metadata": {},
   "outputs": [
    {
     "name": "stdout",
     "output_type": "stream",
     "text": [
      "0-0-1-0-1-2-"
     ]
    }
   ],
   "source": [
    "n=4\n",
    "for i in range(n,0,-1):\n",
    "    for j in range(n-i):\n",
    "        print(j,end=\"-\")\n",
    "    ''''for j in range(2*i-1):\n",
    "        print('*',end=\" \")\n",
    "    print('')'''"
   ]
  },
  {
   "cell_type": "code",
   "execution_count": 55,
   "id": "5e5686ce",
   "metadata": {},
   "outputs": [],
   "source": [
    "  for j in range(0):\n",
    "        print(j)"
   ]
  },
  {
   "cell_type": "code",
   "execution_count": 136,
   "id": "289e857d",
   "metadata": {},
   "outputs": [
    {
     "name": "stdout",
     "output_type": "stream",
     "text": [
      "$$$$$$$\n",
      " $$$$$\n",
      "  $$$\n",
      "   $\n"
     ]
    }
   ],
   "source": [
    "n=4\n",
    "for i in range(n,0,-1):\n",
    "    for j in range(n-i):\n",
    "        print(end=\" \")#play with space u will get 3 types of triange pattens\n",
    "    for j in range(2*i-1):\n",
    "        print('$',end='')#play with space u will get 3 types of triange pattens\n",
    "    print('')"
   ]
  },
  {
   "cell_type": "code",
   "execution_count": 135,
   "id": "3d728c20",
   "metadata": {
    "scrolled": true
   },
   "outputs": [
    {
     "name": "stdout",
     "output_type": "stream",
     "text": [
      "* * * * * * \n",
      " * * * * * \n",
      "  * * * * \n",
      "   * * * \n",
      "    * * \n",
      "     * \n"
     ]
    }
   ],
   "source": [
    "n=5\n",
    "m=0\n",
    "for i in range(n,-1,-1):\n",
    "    for j in range(n-i,0,-1):#change n-i to m same result\n",
    "        print(end=' ')\n",
    "    #m=m+1\n",
    "    for j in range(0,i+1):\n",
    "        print('*',end=\" \")\n",
    "    print('')"
   ]
  },
  {
   "cell_type": "code",
   "execution_count": 150,
   "id": "4070c7c4",
   "metadata": {},
   "outputs": [
    {
     "name": "stdout",
     "output_type": "stream",
     "text": [
      "    * \n",
      "   * * \n",
      "  * * * \n",
      " * * * * \n",
      "* * * * * \n"
     ]
    }
   ],
   "source": [
    "n=5\n",
    "i=0\n",
    "while i<n:\n",
    "    print(' '*(n-i-1)+'* '*(i+1))\n",
    "    i+=1"
   ]
  },
  {
   "cell_type": "code",
   "execution_count": null,
   "id": "14880e32",
   "metadata": {},
   "outputs": [],
   "source": [
    "l=[[1,'shiva',23,3,'prasad','shiva'],['kid','child',3,82,],['cat','data',271,'wanted']]\n",
    "j=0\n",
    "for i in l:\n",
    "    if type(i)==list:\n",
    "        while j<len(i):\n",
    "            if type(i)==str:\n",
    "                print(l.index(i))\n",
    "        j+=1        \n",
    "            \n",
    "                \n",
    "            "
   ]
  },
  {
   "cell_type": "code",
   "execution_count": null,
   "id": "0e82ab0d",
   "metadata": {},
   "outputs": [],
   "source": []
  }
 ],
 "metadata": {
  "kernelspec": {
   "display_name": "Python 3 (ipykernel)",
   "language": "python",
   "name": "python3"
  },
  "language_info": {
   "codemirror_mode": {
    "name": "ipython",
    "version": 3
   },
   "file_extension": ".py",
   "mimetype": "text/x-python",
   "name": "python",
   "nbconvert_exporter": "python",
   "pygments_lexer": "ipython3",
   "version": "3.9.7"
  }
 },
 "nbformat": 4,
 "nbformat_minor": 5
}
