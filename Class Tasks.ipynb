{
 "cells": [
  {
   "cell_type": "code",
   "execution_count": 26,
   "id": "4d017e89",
   "metadata": {},
   "outputs": [],
   "source": [
    "import os\n",
    "os.mkdir('new')"
   ]
  },
  {
   "cell_type": "code",
   "execution_count": 19,
   "id": "03fce03c",
   "metadata": {},
   "outputs": [],
   "source": [
    "for i in range(10):\n",
    "    f=open(f\"{i}.txt\",\"w+\")\n",
    "    f.write('shivaprasad Reddy')\n",
    "    f.close()\n"
   ]
  },
  {
   "cell_type": "code",
   "execution_count": 22,
   "id": "99327cc5",
   "metadata": {},
   "outputs": [
    {
     "name": "stdout",
     "output_type": "stream",
     "text": [
      "shivaprasad Reddy\n",
      "shivaprasad Reddy\n",
      "shivaprasad Reddy\n",
      "shivaprasad Reddy\n",
      "shivaprasad Reddy\n",
      "shivaprasad Reddy\n",
      "shivaprasad Reddy\n",
      "shivaprasad Reddy\n",
      "shivaprasad Reddy\n",
      "shivaprasad Reddy\n"
     ]
    }
   ],
   "source": [
    "for i in range(10):\n",
    "    f=open(f'{i}.txt',\"r+\")\n",
    "    print(f.read())\n",
    "    f.close()"
   ]
  },
  {
   "cell_type": "code",
   "execution_count": 37,
   "id": "29b345a9",
   "metadata": {},
   "outputs": [
    {
     "name": "stdout",
     "output_type": "stream",
     "text": [
      "['shivaprasad Reddy', 'shivaprasad Reddy', 'shivaprasad Reddy', 'shivaprasad Reddy', 'shivaprasad Reddy', 'shivaprasad Reddy', 'shivaprasad Reddy', 'shivaprasad Reddy', 'shivaprasad Reddy', 'shivaprasad Reddy']\n"
     ]
    }
   ],
   "source": [
    "l=[]\n",
    "for i in range(10):\n",
    "    f=open(f'{i}.txt',\"r+\")\n",
    "    l.append(f.read())\n",
    "    f.close()\n",
    "print(l)"
   ]
  },
  {
   "cell_type": "code",
   "execution_count": 38,
   "id": "f18187a1",
   "metadata": {},
   "outputs": [
    {
     "data": {
      "text/plain": [
       "'C:\\\\Users\\\\M.shivaprasadreddy\\\\Desktop\\\\Python\\\\new\\\\new_folder'"
      ]
     },
     "execution_count": 38,
     "metadata": {},
     "output_type": "execute_result"
    }
   ],
   "source": [
    "pwd()"
   ]
  },
  {
   "cell_type": "code",
   "execution_count": 42,
   "id": "04e5c1f0",
   "metadata": {},
   "outputs": [
    {
     "ename": "FileNotFoundError",
     "evalue": "[Errno 2] No such file or directory: '1.txt'",
     "output_type": "error",
     "traceback": [
      "\u001b[1;31m---------------------------------------------------------------------------\u001b[0m",
      "\u001b[1;31mFileNotFoundError\u001b[0m                         Traceback (most recent call last)",
      "\u001b[1;32mC:\\Users\\M461F~1.SHI\\AppData\\Local\\Temp/ipykernel_7196/3719514464.py\u001b[0m in \u001b[0;36m<module>\u001b[1;34m\u001b[0m\n\u001b[0;32m      2\u001b[0m \u001b[0mf1\u001b[0m\u001b[1;33m=\u001b[0m\u001b[0mopen\u001b[0m\u001b[1;33m(\u001b[0m\u001b[1;34m'11.txt'\u001b[0m\u001b[1;33m,\u001b[0m\u001b[1;34m'w+'\u001b[0m\u001b[1;33m)\u001b[0m\u001b[1;33m\u001b[0m\u001b[1;33m\u001b[0m\u001b[0m\n\u001b[0;32m      3\u001b[0m \u001b[1;32mfor\u001b[0m \u001b[0mi\u001b[0m \u001b[1;32min\u001b[0m \u001b[0mrange\u001b[0m\u001b[1;33m(\u001b[0m\u001b[1;36m10\u001b[0m\u001b[1;33m)\u001b[0m\u001b[1;33m:\u001b[0m\u001b[1;33m\u001b[0m\u001b[1;33m\u001b[0m\u001b[0m\n\u001b[1;32m----> 4\u001b[1;33m     \u001b[0mf\u001b[0m\u001b[1;33m=\u001b[0m\u001b[0mopen\u001b[0m\u001b[1;33m(\u001b[0m\u001b[1;34mf'{i}.txt'\u001b[0m\u001b[1;33m,\u001b[0m\u001b[1;34m'r+'\u001b[0m\u001b[1;33m)\u001b[0m\u001b[1;33m\u001b[0m\u001b[1;33m\u001b[0m\u001b[0m\n\u001b[0m\u001b[0;32m      5\u001b[0m     \u001b[0mf1\u001b[0m\u001b[1;33m.\u001b[0m\u001b[0mwrite\u001b[0m\u001b[1;33m(\u001b[0m\u001b[0mf\u001b[0m\u001b[1;33m.\u001b[0m\u001b[0mread\u001b[0m\u001b[1;33m(\u001b[0m\u001b[1;33m)\u001b[0m\u001b[1;33m)\u001b[0m\u001b[1;33m\u001b[0m\u001b[1;33m\u001b[0m\u001b[0m\n\u001b[0;32m      6\u001b[0m     \u001b[0mf\u001b[0m\u001b[1;33m.\u001b[0m\u001b[0mclose\u001b[0m\u001b[1;33m(\u001b[0m\u001b[1;33m)\u001b[0m\u001b[1;33m\u001b[0m\u001b[1;33m\u001b[0m\u001b[0m\n",
      "\u001b[1;31mFileNotFoundError\u001b[0m: [Errno 2] No such file or directory: '1.txt'"
     ]
    }
   ],
   "source": [
    "#reading and changeing the files \n",
    "#os.mkdir(\"12\")\n",
    "f1=open('11.txt','w+')\n",
    "for i in range(10):\n",
    "    f=open(f'{i}.txt','r+')\n",
    "    f1.write(f.read())\n",
    "    f.close()\n",
    "print(f1.read())\n",
    "f1.close()\n",
    "\"\"\"import shutil\n",
    "for i in range(10):\n",
    "    shutil.move(f'C:\\\\Users\\\\M.shivaprasadreddy\\\\Desktop\\\\Python\\\\new\\\\new_folder\\\\{i}.txt','C:\\\\Users\\\\M.shivaprasadreddy\\\\Desktop\\\\Python\\\\new')\n",
    "   \"\"\" "
   ]
  },
  {
   "cell_type": "code",
   "execution_count": 23,
   "id": "0ae43f6d",
   "metadata": {},
   "outputs": [
    {
     "data": {
      "text/plain": [
       "['.ipynb_checkpoints',\n",
       " '0.txt',\n",
       " '1.txt',\n",
       " '2.txt',\n",
       " '3.txt',\n",
       " '4.txt',\n",
       " '5.txt',\n",
       " '6.txt',\n",
       " '7.txt',\n",
       " '8.txt',\n",
       " '9.txt',\n",
       " 'Basics.ipynb',\n",
       " 'Class Tasks.ipynb',\n",
       " 'Doubts in programs.ipynb',\n",
       " 'Hacker Ranks.ipynb',\n",
       " 'new_folder',\n",
       " 'Pyramind.ipynb',\n",
       " 'Python_Basic_programming_Assingment_1.ipynb',\n",
       " 'Python_Basic_programming_Assingment_2.ipynb',\n",
       " 'Python_Basic_programming_Assingment_3.ipynb',\n",
       " 'Python_Basic_programming_Assingment_4.ipynb',\n",
       " 'Python_Basic_programming_Assingment_5.ipynb']"
      ]
     },
     "execution_count": 23,
     "metadata": {},
     "output_type": "execute_result"
    }
   ],
   "source": [
    "os.listdir()"
   ]
  },
  {
   "cell_type": "code",
   "execution_count": 25,
   "id": "95a96558",
   "metadata": {},
   "outputs": [],
   "source": [
    "import shutil\n",
    "for i in range(1,10):\n",
    "    shutil.move(f'C:\\\\Users\\\\M.shivaprasadreddy\\\\Desktop\\\\Python\\\\{i}.txt','C:\\\\Users\\\\M.shivaprasadreddy\\\\Desktop\\\\Python\\\\new_folder')"
   ]
  },
  {
   "cell_type": "code",
   "execution_count": 27,
   "id": "26ac4b10",
   "metadata": {},
   "outputs": [
    {
     "data": {
      "text/plain": [
       "'C:\\\\Users\\\\M.shivaprasadreddy\\\\Desktop\\\\Python\\\\new\\\\new_folder'"
      ]
     },
     "execution_count": 27,
     "metadata": {},
     "output_type": "execute_result"
    }
   ],
   "source": [
    "shutil.move('C:\\\\Users\\\\M.shivaprasadreddy\\\\Desktop\\\\Python\\\\new_folder','C:\\\\Users\\\\M.shivaprasadreddy\\\\Desktop\\\\Python\\\\new')"
   ]
  },
  {
   "cell_type": "code",
   "execution_count": 28,
   "id": "0f31403d",
   "metadata": {},
   "outputs": [
    {
     "data": {
      "text/plain": [
       "['.ipynb_checkpoints',\n",
       " 'Basics.ipynb',\n",
       " 'Class Tasks.ipynb',\n",
       " 'Doubts in programs.ipynb',\n",
       " 'Hacker Ranks.ipynb',\n",
       " 'new',\n",
       " 'Pyramind.ipynb',\n",
       " 'Python_Basic_programming_Assingment_1.ipynb',\n",
       " 'Python_Basic_programming_Assingment_2.ipynb',\n",
       " 'Python_Basic_programming_Assingment_3.ipynb',\n",
       " 'Python_Basic_programming_Assingment_4.ipynb',\n",
       " 'Python_Basic_programming_Assingment_5.ipynb']"
      ]
     },
     "execution_count": 28,
     "metadata": {},
     "output_type": "execute_result"
    }
   ],
   "source": [
    "os.listdir()"
   ]
  },
  {
   "cell_type": "code",
   "execution_count": 30,
   "id": "32dcfe69",
   "metadata": {},
   "outputs": [
    {
     "data": {
      "text/plain": [
       "True"
      ]
     },
     "execution_count": 30,
     "metadata": {},
     "output_type": "execute_result"
    }
   ],
   "source": [
    "os.path.isdir('new')"
   ]
  },
  {
   "cell_type": "code",
   "execution_count": 31,
   "id": "d2f31fd9",
   "metadata": {},
   "outputs": [],
   "source": [
    "os.chdir('C:\\\\Users\\\\M.shivaprasadreddy\\\\Desktop\\\\Python\\\\new\\\\new_folder')"
   ]
  },
  {
   "cell_type": "code",
   "execution_count": 32,
   "id": "e2063b5d",
   "metadata": {},
   "outputs": [
    {
     "data": {
      "text/plain": [
       "'C:\\\\Users\\\\M.shivaprasadreddy\\\\Desktop\\\\Python\\\\new\\\\new_folder'"
      ]
     },
     "execution_count": 32,
     "metadata": {},
     "output_type": "execute_result"
    }
   ],
   "source": [
    "pwd()"
   ]
  },
  {
   "cell_type": "code",
   "execution_count": 12,
   "id": "4564420e",
   "metadata": {},
   "outputs": [
    {
     "data": {
      "text/plain": [
       "'C:\\\\Users\\\\M.shivaprasadreddy\\\\Desktop\\\\Python'"
      ]
     },
     "execution_count": 12,
     "metadata": {},
     "output_type": "execute_result"
    }
   ],
   "source": [
    "os.getcwd()"
   ]
  },
  {
   "cell_type": "code",
   "execution_count": 18,
   "id": "c66e6f92",
   "metadata": {},
   "outputs": [],
   "source": [
    "os.remove('shiva.txt')"
   ]
  }
 ],
 "metadata": {
  "kernelspec": {
   "display_name": "Python 3 (ipykernel)",
   "language": "python",
   "name": "python3"
  },
  "language_info": {
   "codemirror_mode": {
    "name": "ipython",
    "version": 3
   },
   "file_extension": ".py",
   "mimetype": "text/x-python",
   "name": "python",
   "nbconvert_exporter": "python",
   "pygments_lexer": "ipython3",
   "version": "3.9.7"
  }
 },
 "nbformat": 4,
 "nbformat_minor": 5
}
