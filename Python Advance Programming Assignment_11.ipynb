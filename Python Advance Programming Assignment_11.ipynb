{
 "cells": [
  {
   "cell_type": "code",
   "execution_count": 18,
   "id": "ade6a8dd",
   "metadata": {},
   "outputs": [
    {
     "name": "stdout",
     "output_type": "stream",
     "text": [
      "[3, 7, 11]\n",
      "[1009, 10007]\n",
      "[1, 3, 1091, 1093, 1097, 1009, 1087, 61]\n"
     ]
    }
   ],
   "source": [
    "\n",
    "def filter_primes(li):\n",
    "#     li=set(li)\n",
    "    l=[]\n",
    "    for i in li:\n",
    "        for j in range(2,i):\n",
    "            if (i%j) == 0:\n",
    "                l.append(i)\n",
    "                break\n",
    "            else:\n",
    "                pass\n",
    "    s=set(l)\n",
    "    s1=s.symmetric_difference(li)\n",
    "    return list(s1)\n",
    "\n",
    "print(filter_primes([7, 9, 3, 9, 10, 11, 27]))\n",
    "print(filter_primes([10007, 1009, 1007, 27, 147, 77, 1001, 70]))\n",
    "print(filter_primes([1009, 10, 10, 10, 3, 33, 9, 4, 1, 61, 63, 69, 1087, 1091, 1093,1097]))"
   ]
  },
  {
   "cell_type": "code",
   "execution_count": 19,
   "id": "630be01c",
   "metadata": {},
   "outputs": [
    {
     "name": "stdout",
     "output_type": "stream",
     "text": [
      "Lover,no lover,Lover,no lover,Lover,NO LOVER\n"
     ]
    }
   ],
   "source": [
    "l=[\"Lover\",\"no lover\"]\n",
    "n=6\n",
    "for i in range(n):\n",
    "    if i==(n-1):\n",
    "        print(l[i%2].upper())\n",
    "    elif i%2==0:\n",
    "        print(l[i%2],end=\",\")\n",
    "    else:\n",
    "        print(l[i%2], end=\",\")"
   ]
  },
  {
   "cell_type": "code",
   "execution_count": 31,
   "id": "7014dd34",
   "metadata": {},
   "outputs": [
    {
     "name": "stdout",
     "output_type": "stream",
     "text": [
      "c\n",
      "u\n",
      "b\n"
     ]
    }
   ],
   "source": [
    "import re\n",
    "s=[\"932c\", \"832u32\",\"2344b\"]\n",
    "l=[]\n",
    "for i in s:\n",
    "    if re.findall(\"[0-9]+([A-Za-z]+)\",i):\n",
    "        r=re.findall(\"[0-9]+([A-Za-z]+)\",i)\n",
    "        l.append(r)\n",
    "for i in l:\n",
    "    print(i[0])"
   ]
  },
  {
   "cell_type": "code",
   "execution_count": 58,
   "id": "ca72422f",
   "metadata": {},
   "outputs": [
    {
     "name": "stdout",
     "output_type": "stream",
     "text": [
      "[0, 1, 2, 3, 2, 1, 0]\n"
     ]
    }
   ],
   "source": [
    "l=[0, 0, 0, 3, 0, 0, 0]\n",
    "#[0, 0, 0, 0, 4, 0, 0, 0, 0]\n",
    "for j in range(0,len(l)):\n",
    "    if l[len(l)//2]<j:\n",
    "        l[j]=((len(l)//2)-(j-1))+((len(l)//2)-1)\n",
    "    elif l[j]==0:\n",
    "        l[j]=j\n",
    "print(l)"
   ]
  },
  {
   "cell_type": "code",
   "execution_count": 102,
   "id": "86607769",
   "metadata": {},
   "outputs": [
    {
     "name": "stdout",
     "output_type": "stream",
     "text": [
      "['304q2', '5y5', '572z']\n"
     ]
    }
   ],
   "source": [
    "import re\n",
    "def str_sort(s):\n",
    "    return list(map(str, re.findall(\"([A-Za-z])\",s)))[0]\n",
    "s=[\"572z\", \"5y5\", \"304q2\"]\n",
    "#[\"932c\", \"832u32\",\"2344b\"]\n",
    "s.sort(key=str_sort)\n",
    "print(s)\n"
   ]
  },
  {
   "cell_type": "code",
   "execution_count": null,
   "id": "e788436d",
   "metadata": {},
   "outputs": [],
   "source": []
  }
 ],
 "metadata": {
  "kernelspec": {
   "display_name": "Python 3 (ipykernel)",
   "language": "python",
   "name": "python3"
  },
  "language_info": {
   "codemirror_mode": {
    "name": "ipython",
    "version": 3
   },
   "file_extension": ".py",
   "mimetype": "text/x-python",
   "name": "python",
   "nbconvert_exporter": "python",
   "pygments_lexer": "ipython3",
   "version": "3.9.7"
  }
 },
 "nbformat": 4,
 "nbformat_minor": 5
}
