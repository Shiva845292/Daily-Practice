{
 "cells": [
  {
   "cell_type": "code",
   "execution_count": 11,
   "id": "23f835bd",
   "metadata": {},
   "outputs": [
    {
     "name": "stdout",
     "output_type": "stream",
     "text": [
      "new file is created..!\n"
     ]
    }
   ],
   "source": [
    "import docx\n",
    "import os\n",
    "\n",
    "\n",
    "def main():\n",
    "    template_file_path = \"S:\\\\New folder\\\\Oldfile.docx\"\n",
    "    output_file_path = \"S:\\\\New folder\\\\New.docx\"\n",
    "\n",
    "    variables = {\n",
    "        \"${EMPLOEE_NAME}\": \"Shiva\",\n",
    "        \"${UPN}\": \"Software Engineer\"\n",
    "    }\n",
    "\n",
    "    template_document = docx.Document(template_file_path)\n",
    "\n",
    "    for variable_key, variable_value in variables.items():\n",
    "        for paragraph in template_document.paragraphs:\n",
    "            replace_text_in_paragraph(paragraph, variable_key, variable_value)\n",
    "\n",
    "        for table in template_document.tables:\n",
    "            for col in table.columns:\n",
    "                for cell in col.cells:\n",
    "                    for paragraph in cell.paragraphs:\n",
    "                        replace_text_in_paragraph(paragraph, variable_key, variable_value)\n",
    "\n",
    "    template_document.save(output_file_path)\n",
    "\n",
    "\n",
    "def replace_text_in_paragraph(paragraph, key, value):\n",
    "    if key in paragraph.text:\n",
    "        inline = paragraph.runs\n",
    "        for item in inline:\n",
    "            if key in item.text:\n",
    "                item.text = item.text.replace(key, value)\n",
    "\n",
    "\n",
    "if __name__ == '__main__':\n",
    "    main()\n"
   ]
  },
  {
   "cell_type": "code",
   "execution_count": 8,
   "id": "9c8caace",
   "metadata": {},
   "outputs": [
    {
     "name": "stdout",
     "output_type": "stream",
     "text": [
      "Requirement already satisfied: python-docx in c:\\users\\m.shivaprasadreddy\\anaconda3\\lib\\site-packages (0.8.11)\n",
      "Requirement already satisfied: lxml>=2.3.2 in c:\\users\\m.shivaprasadreddy\\anaconda3\\lib\\site-packages (from python-docx) (4.6.3)\n"
     ]
    }
   ],
   "source": [
    "!pip install python-docx"
   ]
  },
  {
   "cell_type": "code",
   "execution_count": 12,
   "id": "1623391f",
   "metadata": {},
   "outputs": [],
   "source": [
    "import docx"
   ]
  },
  {
   "cell_type": "code",
   "execution_count": 57,
   "id": "d8139124",
   "metadata": {},
   "outputs": [
    {
     "name": "stdout",
     "output_type": "stream",
     "text": [
      "b'Shivaprasad Reddy.M -DXC/HYD'\n"
     ]
    }
   ],
   "source": [
    "import msilib\n",
    "path = \"S:\\\\New folder\\\\ZIC-ENG-VideoConverterPremium2021-21.2.0-ZNA-R1.msi\" #I cannot share msi\n",
    "dbobject = msilib.OpenDatabase(path, msilib.MSIDBOPEN_READONLY)\n",
    "view = dbobject.GetSummaryInformation(200)\n",
    "# result = view.Fetch()\n",
    "print(view.GetProperty(4))\n",
    "# rec = view.Execute()\n",
    "# s=view.Fetch()"
   ]
  },
  {
   "cell_type": "code",
   "execution_count": 60,
   "id": "fe3657eb",
   "metadata": {},
   "outputs": [],
   "source": [
    "from msilib import *\n",
    "\n",
    "def GetMsiProperty(path ,ProductCode):\n",
    "    db = OpenDatabase(path,msilib.MSIDBOPEN_READONLY)\n",
    "    view = db.OpenView (\"SELECT Value FROM Property WHERE Property='\" + ProductCode + \"'\")\n",
    "    view.Execute(None)\n",
    "    result = view.Fetch()\n",
    "    #print dir(result)\n",
    "    return result.GetString(1)\n",
    "msiVersion = GetMsiProperty('ZIC-ENG-VideoConverterPremium2021-21.2.0-ZNA-R1.msi' ,\"ProductCode\")"
   ]
  },
  {
   "cell_type": "code",
   "execution_count": 33,
   "id": "96d31311",
   "metadata": {},
   "outputs": [
    {
     "data": {
      "text/plain": [
       "'C:\\\\Users\\\\M.shivaprasadreddy\\\\Desktop\\\\Python'"
      ]
     },
     "execution_count": 33,
     "metadata": {},
     "output_type": "execute_result"
    }
   ],
   "source": [
    "pwd"
   ]
  },
  {
   "cell_type": "code",
   "execution_count": 61,
   "id": "34664b8b",
   "metadata": {},
   "outputs": [
    {
     "data": {
      "text/plain": [
       "'{8D1918E1-B5DB-42D7-8328-2B7BBA0A03D7}'"
      ]
     },
     "execution_count": 61,
     "metadata": {},
     "output_type": "execute_result"
    }
   ],
   "source": [
    "msiVersion"
   ]
  },
  {
   "cell_type": "code",
   "execution_count": 62,
   "id": "1732cef0",
   "metadata": {},
   "outputs": [
    {
     "data": {
      "text/plain": [
       "'S:\\\\New folder\\\\ZIC-ENG-VideoConverterPremium2021-21.2.0-ZNA-R1.msi'"
      ]
     },
     "execution_count": 62,
     "metadata": {},
     "output_type": "execute_result"
    }
   ],
   "source": [
    "path"
   ]
  },
  {
   "cell_type": "code",
   "execution_count": null,
   "id": "0c8d2abe",
   "metadata": {},
   "outputs": [],
   "source": []
  }
 ],
 "metadata": {
  "kernelspec": {
   "display_name": "Python 3 (ipykernel)",
   "language": "python",
   "name": "python3"
  },
  "language_info": {
   "codemirror_mode": {
    "name": "ipython",
    "version": 3
   },
   "file_extension": ".py",
   "mimetype": "text/x-python",
   "name": "python",
   "nbconvert_exporter": "python",
   "pygments_lexer": "ipython3",
   "version": "3.9.7"
  }
 },
 "nbformat": 4,
 "nbformat_minor": 5
}
