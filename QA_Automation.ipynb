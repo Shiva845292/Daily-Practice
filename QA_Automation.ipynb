{
 "cells": [
  {
   "cell_type": "code",
   "execution_count": 1,
   "id": "0600f515",
   "metadata": {},
   "outputs": [
    {
     "data": {
      "text/plain": [
       "'C:\\\\Users\\\\smallapalli\\\\Desktop\\\\QA_Automation'"
      ]
     },
     "execution_count": 1,
     "metadata": {},
     "output_type": "execute_result"
    }
   ],
   "source": [
    "import os \n",
    "import filecmp\n",
    "os.getcwd()"
   ]
  },
  {
   "cell_type": "code",
   "execution_count": 70,
   "id": "bf86e9cf",
   "metadata": {},
   "outputs": [
    {
     "name": "stdout",
     "output_type": "stream",
     "text": [
      "diff C:\\Users\\smallapalli\\Desktop\\QA_Automation\\Cassandra C:\\Cassandra\n",
      "Differing files : ['New Text Document.txt']\n",
      "Common subdirectories : ['apache-cassandra-3.11.14']\n"
     ]
    }
   ],
   "source": [
    "import filecmp\n",
    "\n",
    "folder_path = 'C:\\\\Users\\\\smallapalli\\\\Desktop\\\\QA_Automation\\\\Cassandra'\n",
    "location_path = 'C:\\\\Cassandra'\n",
    "\n",
    "comparison = filecmp.dircmp(folder_path, location_path)\n",
    "comparison.report()"
   ]
  },
  {
   "cell_type": "code",
   "execution_count": 16,
   "id": "2eca46af",
   "metadata": {},
   "outputs": [
    {
     "data": {
      "text/plain": [
       "['New Text Document.txt',\n",
       " 'C:\\\\Users\\\\smallapalli\\\\Desktop\\\\QA_Automation\\\\Cassandra\\\\apache-cassandra-3.11.14\\\\NEWS - Copy.txt']"
      ]
     },
     "execution_count": 16,
     "metadata": {},
     "output_type": "execute_result"
    }
   ],
   "source": [
    "\n",
    "def get_different_files(folder_path, location_path):\n",
    "    comparison = filecmp.dircmp(folder_path, location_path)\n",
    "    different_files = comparison.diff_files + comparison.funny_files\n",
    "    for sub_dir in comparison.subdirs:\n",
    "        sub_folder_path = os.path.join(folder_path, sub_dir)\n",
    "        sub_location_path = os.path.join(location_path, sub_dir)\n",
    "        different_files += get_different_files(sub_folder_path, sub_location_path)\n",
    "    different_files += [os.path.join(folder_path, file) for file in comparison.left_only]\n",
    "    return different_files\n",
    "\n",
    "# def get_all_different_files(folder_path, location_path):\n",
    "#     new_files = []\n",
    "#     comparison = filecmp.dircmp(folder_path, location_path)\n",
    "#     different_files = comparison.diff_files + comparison.funny_files\n",
    "#     for sub_dir in comparison.subdirs:\n",
    "#         sub_folder_path = os.path.join(folder_path, sub_dir)\n",
    "#         sub_location_path = os.path.join(location_path, sub_dir)\n",
    "#         new_files += get_new_files(sub_folder_path, sub_location_path)\n",
    "#         different_files += get_different_files(sub_folder_path, sub_location_path)\n",
    "#     new_files += [os.path.join(folder_path, file) for file in comparison.left_only]\n",
    "#     return new_files + different_files\n",
    "\n",
    "folder_path = 'C:\\\\Users\\\\smallapalli\\\\Desktop\\\\QA_Automation\\\\Cassandra'\n",
    "location_path = 'C:\\\\Cassandra'\n",
    "get_different_files(folder_path, location_path)"
   ]
  },
  {
   "cell_type": "code",
   "execution_count": 64,
   "id": "7ed98b50",
   "metadata": {},
   "outputs": [
    {
     "name": "stdout",
     "output_type": "stream",
     "text": [
      "ÿþWindows Registry Editor Version 5.00\n",
      "\n",
      "\n",
      "\n",
      "[HKEY_LOCAL_MACHINE\\SOFTWARE\\CSC\\Packages\\ZIC-MLT-Leonardo64-22.1.1-CH-R1]\n",
      "[HKEY_LOCAL_MACHINE\\SOFTWARE\\CSC\\Packages\\ZIC-MLT-Leonardo64-22.1.1-CH-R1]\n"
     ]
    }
   ],
   "source": [
    "with open(\"C:\\\\Users\\\\smallapalli\\\\Desktop\\\\QA_Automation\\\\DXC.reg\", 'r') as reg_file:\n",
    "    contents = reg_file.read()\n",
    "    \n",
    "for line in contents.splitlines():\n",
    "    line=line.replace('\\x00', '')\n",
    "    print(line)\n",
    "    if line.startswith('Windows Registry Editor Version'):\n",
    "        continue  # skip version line\n",
    "    elif '\\\\' in line:\n",
    "        hive = line.split(':', 1)[0]\n",
    "        print(hive)  # print hive name\n",
    "        break  # only print the first hive name"
   ]
  },
  {
   "cell_type": "code",
   "execution_count": 55,
   "id": "0b3a6c09",
   "metadata": {},
   "outputs": [
    {
     "name": "stdout",
     "output_type": "stream",
     "text": [
      "The 'SOFTWARE\\CSC\\Packages\\ZIC-MLT-Leonardo64-22.1.1-CH-R1' hive exists on the system.\n"
     ]
    },
    {
     "data": {
      "text/plain": [
       "True"
      ]
     },
     "execution_count": 55,
     "metadata": {},
     "output_type": "execute_result"
    }
   ],
   "source": [
    "import winreg\n",
    "\n",
    "def check_registry_hive(hive_path):\n",
    "#     hive_path = hive_path.replace('\\x00', '')\n",
    "    try:\n",
    "        key = winreg.OpenKey(winreg.HKEY_LOCAL_MACHINE, hive_path, 0, winreg.KEY_READ)\n",
    "        print(f\"The '{hive_path}' hive exists on the system.\")\n",
    "        winreg.CloseKey(key)\n",
    "        return True\n",
    "    except FileNotFoundError:\n",
    "        print(f\"The '{hive_path}' hive does not exist on the system.\")\n",
    "        return False\n",
    "    \n",
    "check_registry_hive(\"SOFTWARE\\\\CSC\\\\Packages\\\\ZIC-MLT-Leonardo64-22.1.1-CH-R1\")"
   ]
  },
  {
   "cell_type": "code",
   "execution_count": 53,
   "id": "a53f8f52",
   "metadata": {},
   "outputs": [],
   "source": [
    "def check_registry_hive(hive_path):\n",
    "    try:\n",
    "        key = winreg.OpenKey(winreg.HKEY_CURRENT_USER, hive_path, 0, winreg.KEY_READ)\n",
    "        print(f\"The '{hive_path}' hive exists on the system.\")\n",
    "        winreg.CloseKey(key)\n",
    "        return True\n",
    "    except WindowsError:\n",
    "        print(f\"The '{hive_path}' hive does not exist on the system.\")\n",
    "        return False"
   ]
  },
  {
   "cell_type": "code",
   "execution_count": 80,
   "id": "56d36428",
   "metadata": {},
   "outputs": [
    {
     "name": "stdout",
     "output_type": "stream",
     "text": [
      "enter shortcut nameExcel\n",
      "The shortcut 'C:\\ProgramData\\Microsoft\\Windows\\Start Menu\\Programs\\Applications\\Excel.lnk' was successfully launched.\n"
     ]
    },
    {
     "data": {
      "text/plain": [
       "True"
      ]
     },
     "execution_count": 80,
     "metadata": {},
     "output_type": "execute_result"
    }
   ],
   "source": [
    "\n",
    "def launch_shortcut(shortcut_path):\n",
    "    try:\n",
    "        os.startfile(shortcut_path)\n",
    "        print(f\"The shortcut '{shortcut_path}' was successfully launched.\")\n",
    "        return True\n",
    "    except OSError:\n",
    "        print(f\"Failed to launch the shortcut '{shortcut_path}'.\")\n",
    "        return False\n",
    "shortcut= \"C:\\\\ProgramData\\\\Microsoft\\\\Windows\\\\Start Menu\\\\Programs\\\\Applications\\\\\"\n",
    "add_new=input(\"enter shortcut name\")\n",
    "shortcut_path =shortcut+add_new+\".lnk\"\n",
    "launch_shortcut(shortcut_path)"
   ]
  },
  {
   "cell_type": "code",
   "execution_count": 77,
   "id": "a427edf8",
   "metadata": {},
   "outputs": [
    {
     "data": {
      "text/plain": [
       "['.ipynb_checkpoints', 'Cassandra', 'DXC.reg', 'QA_Automation.ipynb']"
      ]
     },
     "execution_count": 77,
     "metadata": {},
     "output_type": "execute_result"
    }
   ],
   "source": [
    "os.listdir()"
   ]
  },
  {
   "cell_type": "code",
   "execution_count": 79,
   "id": "474055bc",
   "metadata": {},
   "outputs": [
    {
     "name": "stdout",
     "output_type": "stream",
     "text": [
      "'.ipynb_checkpoints' is a directory.\n",
      "'Cassandra' is a directory.\n",
      "'DXC.reg' is not a directory.\n",
      "'QA_Automation.ipynb' is not a directory.\n"
     ]
    }
   ],
   "source": [
    "import os \n",
    "import filecmp\n",
    "\n",
    "def get_different_files(folder_path, location_path):\n",
    "    comparison = filecmp.dircmp(folder_path, location_path)\n",
    "    different_files = comparison.diff_files + comparison.funny_files\n",
    "    for sub_dir in comparison.subdirs:\n",
    "        sub_folder_path = os.path.join(folder_path, sub_dir)\n",
    "        sub_location_path = os.path.join(location_path, sub_dir)\n",
    "        different_files += get_different_files(sub_folder_path, sub_location_path)\n",
    "    different_files += [os.path.join(folder_path, file) for file in comparison.left_only]\n",
    "    \n",
    "    if not different_files:\n",
    "        print(\"All files match.\")\n",
    "        \n",
    "    print(get_different_files)\n",
    "    return different_files\n",
    "\n",
    "def is_directory(path):\n",
    "    if os.path.isdir(path):\n",
    "        print(path)\n",
    "        if path ==\"Program Files\":\n",
    "            location_path=\"C:\\\\Program Files\"\n",
    "            Program_Files=os.path.join(os.getcwd(),path)\n",
    "            os.chdir(Program_Files)\n",
    "            # folder is picture taker file path \n",
    "            folder_path=os.path.join(Program_Files,os.listdir()[0])\n",
    "            get_different_files(folder_path, location_path)\n",
    "            print(\"yes\")\n",
    "        return True\n",
    "    else:\n",
    "        print(f\"'{path}' is not a directory.\")\n",
    "        return False\n",
    "    \n",
    "for i in os.listdir():\n",
    "    is_directory(i)"
   ]
  },
  {
   "cell_type": "code",
   "execution_count": 12,
   "id": "db8551eb",
   "metadata": {},
   "outputs": [
    {
     "name": "stdout",
     "output_type": "stream",
     "text": [
      "The folder exists.\n",
      "Cassandra\n",
      "1 files in C:\\Users\\smallapalli\\Desktop\\QA_Automation\\Cassandra and C:\\Cassandra are different:\n",
      "\tC:\\Users\\smallapalli\\Desktop\\QA_Automation\\Cassandra\\New Text Document.txt\n",
      "The files in C:\\Users\\smallapalli\\Desktop\\QA_Automation\\Cassandra and C:\\$Recycle.Bin\\S-1-12-1-3832142411-1299036905-992289191-2815552894\\$RFGA3RW\\Cassandra are identical.\n",
      "The files in C:\\Users\\smallapalli\\Desktop\\QA_Automation\\Cassandra and C:\\Users\\smallapalli\\Desktop\\QA_Automation\\Cassandra are identical.\n",
      "Found 1 mismatched files in C:\\Users\\smallapalli\\Desktop\\QA_Automation\\Cassandra and other folders.\n"
     ]
    }
   ],
   "source": [
    "import os\n",
    "import filecmp\n",
    "import difflib\n",
    "\n",
    "def check_folder(folder_path):\n",
    "    if os.path.exists(folder_path):\n",
    "        print(\"The folder exists.\")\n",
    "        compare_with_folders(folder_path)\n",
    "#         compare_with_registries(folder_path)\n",
    "    else:\n",
    "        print(\"The folder does not exist.\")\n",
    "\n",
    "def compare_with_folders(folder_path):\n",
    "    folder_name = os.path.basename(folder_path)\n",
    "    print(folder_name)\n",
    "    num_mismatched_files = 0\n",
    "    for root, dirs, files in os.walk('C:\\\\'):\n",
    "        for dir_name in dirs:\n",
    "            if dir_name == folder_name and dir_name != os.path.basename(folder_path[:-1]):\n",
    "                folder_to_compare = os.path.join(root, dir_name)\n",
    "                result = filecmp.dircmp(folder_path, folder_to_compare)\n",
    "                if len(result.diff_files) == 0:\n",
    "                    print(f\"The files in {folder_path} and {folder_to_compare} are identical.\")\n",
    "                else:\n",
    "                    num_mismatched_files += len(result.diff_files)\n",
    "                    print(f\"{len(result.diff_files)} files in {folder_path} and {folder_to_compare} are different:\")\n",
    "                    for file_name in result.diff_files:\n",
    "                        file_path = os.path.join(result.left, file_name)\n",
    "                        print(f\"\\t{file_path}\")\n",
    "    if num_mismatched_files == 0:\n",
    "        print(f\"All files and subfolders in {folder_path} are identical.\")\n",
    "    else:\n",
    "        print(f\"Found {num_mismatched_files} mismatched files in {folder_path} and other folders.\")\n",
    "\n",
    "\n",
    "folder_path = \"C:\\\\Users\\\\smallapalli\\\\Desktop\\\\QA_Automation\\\\Cassandra\"\n",
    "check_folder(folder_path)\n"
   ]
  },
  {
   "cell_type": "code",
   "execution_count": 23,
   "id": "7be82268",
   "metadata": {},
   "outputs": [
    {
     "name": "stdout",
     "output_type": "stream",
     "text": [
      "Cassandra\n"
     ]
    },
    {
     "data": {
      "text/plain": [
       "['New Text Document.txt',\n",
       " 'C:\\\\Cassandra\\\\apache-cassandra-3.11.14\\\\doc\\\\New Text1.txt',\n",
       " 'C:\\\\Cassandra\\\\apache-cassandra-3.11.14\\\\interface\\\\New Text.vbs',\n",
       " 'C:\\\\Cassandra\\\\apache-cassandra-3.11.14\\\\New Text.txt']"
      ]
     },
     "execution_count": 23,
     "metadata": {},
     "output_type": "execute_result"
    }
   ],
   "source": [
    "import os\n",
    "import filecmp\n",
    "\n",
    "def get_different_files(folder_path, destination_path=None):\n",
    "    if destination_path is None:\n",
    "        folder_name = os.path.basename(folder_path)\n",
    "        destination_path = os.path.join('C:\\\\', folder_name)\n",
    "    comparison = filecmp.dircmp(folder_path, destination_path)\n",
    "    different_files = comparison.diff_files + comparison.funny_files\n",
    "    for sub_dir in comparison.subdirs:\n",
    "        sub_folder_path = os.path.join(folder_path, sub_dir)\n",
    "        sub_destination_path = os.path.join(destination_path, sub_dir)\n",
    "        different_files += get_different_files(sub_folder_path, sub_destination_path)\n",
    "    different_files += [os.path.join(destination_path, file) for file in comparison.right_only]\n",
    "    return different_files\n",
    "\n",
    "folder_path = 'C:\\\\Users\\\\smallapalli\\\\Desktop\\\\QA_Automation\\\\Cassandra'\n",
    "get_different_files(folder_path)\n"
   ]
  },
  {
   "cell_type": "code",
   "execution_count": 21,
   "id": "b654cbc8",
   "metadata": {},
   "outputs": [
    {
     "data": {
      "text/plain": [
       "['New Text Document.txt',\n",
       " 'C:\\\\Cassandra\\\\apache-cassandra-3.11.14\\\\doc\\\\New Text1.txt',\n",
       " 'C:\\\\Cassandra\\\\apache-cassandra-3.11.14\\\\interface\\\\New Text.vbs',\n",
       " 'C:\\\\Cassandra\\\\apache-cassandra-3.11.14\\\\New Text.txt']"
      ]
     },
     "execution_count": 21,
     "metadata": {},
     "output_type": "execute_result"
    }
   ],
   "source": [
    "#important \n",
    "\n",
    "import os\n",
    "import filecmp\n",
    "\n",
    "def get_different_files(folder_path, location_path):\n",
    "    comparison = filecmp.dircmp(folder_path, location_path)\n",
    "    different_files = comparison.diff_files + comparison.funny_files\n",
    "    for sub_dir in comparison.subdirs:\n",
    "        sub_folder_path = os.path.join(folder_path, sub_dir)\n",
    "        sub_location_path = os.path.join(location_path, sub_dir)\n",
    "        different_files += get_different_files(sub_folder_path, sub_location_path)\n",
    "    different_files += [os.path.join(location_path, file) for file in comparison.right_only]\n",
    "    return different_files\n",
    "\n",
    "folder_path = 'C:\\\\Users\\\\smallapalli\\\\Desktop\\\\QA_Automation\\\\Cassandra'\n",
    "location_path = 'C:\\\\Cassandra'\n",
    "get_different_files(folder_path, location_path)"
   ]
  },
  {
   "cell_type": "code",
   "execution_count": 38,
   "id": "3193a84a",
   "metadata": {},
   "outputs": [
    {
     "name": "stdout",
     "output_type": "stream",
     "text": [
      "QA check failed for directory Cassandra:\n",
      "New Text Document.txt\n",
      "C:\\Cassandra\\apache-cassandra-3.11.14\\doc\\New Text1.txt\n",
      "C:\\Cassandra\\apache-cassandra-3.11.14\\interface\\New Text.vbs\n",
      "C:\\Cassandra\\apache-cassandra-3.11.14\\New Text.txt\n",
      "C:\\Users\\smallapalli\\Desktop\\QA_Automation\\QA\\Cassandra contains 17 subfolders and 208 files.\n",
      "C:\\Cassandra contains 17 subfolders and 210 files.\n"
     ]
    }
   ],
   "source": [
    "\n",
    "\n",
    "def get_different_files(folder_path, destination_path=None):\n",
    "    if destination_path is None:\n",
    "        folder_name = os.path.basename(folder_path)\n",
    "        destination_path = os.path.join('C:\\\\', folder_name)\n",
    "    comparison = filecmp.dircmp(folder_path, destination_path)\n",
    "    different_files = comparison.diff_files + comparison.funny_files\n",
    "    for sub_dir in comparison.subdirs:\n",
    "        sub_folder_path = os.path.join(folder_path, sub_dir)\n",
    "        sub_destination_path = os.path.join(destination_path, sub_dir)\n",
    "        different_files += get_different_files(sub_folder_path, sub_destination_path)\n",
    "    different_files += [os.path.join(destination_path, file) for file in comparison.right_only]\n",
    "    return different_files\n",
    "\n",
    "folder_path = 'C:\\\\Users\\\\smallapalli\\\\Desktop\\\\QA_Automation\\\\QA'\n",
    "destination_dirs = [d for d in os.listdir(folder_path) if os.path.isdir(os.path.join(folder_path, d))]\n",
    "for dir_name in destination_dirs:\n",
    "    destination_path = os.path.join('C:\\\\', dir_name)\n",
    "    different_files = get_different_files(os.path.join(folder_path, dir_name), destination_path)\n",
    "    if different_files:\n",
    "        print(f\"QA check failed for directory {dir_name}:\")\n",
    "        for file in different_files:\n",
    "            print(file)\n",
    "    else:\n",
    "        print(f\"QA check successful for directory {dir_name}\")\n",
    "    \n",
    "def get_folder_properties(folder_path):\n",
    "    sub_folders = [name for name in os.listdir(folder_path) if os.path.isdir(os.path.join(folder_path, name))]\n",
    "    file_count = len([name for name in os.listdir(folder_path) if os.path.isfile(os.path.join(folder_path, name))])\n",
    "    subfolder_count = len(sub_folders)\n",
    "    for sub_folder in sub_folders:\n",
    "        subfolder_path = os.path.join(folder_path, sub_folder)\n",
    "        subfolder_count += get_folder_properties(subfolder_path)[0]\n",
    "        file_count += get_folder_properties(subfolder_path)[1]\n",
    "    return subfolder_count, file_count\n",
    "\n",
    "main_folder_path = 'C:\\\\Users\\\\smallapalli\\\\Desktop\\\\QA_Automation\\\\QA\\\\Cassandra'\n",
    "subfolder_count, file_count = get_folder_properties(main_folder_path)\n",
    "print(f\"{main_folder_path} contains {subfolder_count} subfolders and {file_count} files.\")\n",
    "\n",
    "main_folder_path = 'C:\\\\Cassandra'\n",
    "subfolder_count, file_count = get_folder_properties(main_folder_path)\n",
    "print(f\"{main_folder_path} contains {subfolder_count} subfolders and {file_count} files.\")\n"
   ]
  },
  {
   "cell_type": "code",
   "execution_count": 40,
   "id": "f14f64aa",
   "metadata": {},
   "outputs": [
    {
     "name": "stdout",
     "output_type": "stream",
     "text": [
      "QA check failed for directory Cassandra:\n",
      "New Text Document.txt\n",
      "C:\\Cassandra\\apache-cassandra-3.11.14\\doc\\New Text1.txt\n",
      "C:\\Cassandra\\apache-cassandra-3.11.14\\interface\\New Text.vbs\n",
      "C:\\Cassandra\\apache-cassandra-3.11.14\\New Text.txt\n"
     ]
    },
    {
     "ename": "FileNotFoundError",
     "evalue": "[WinError 3] The system cannot find the path specified: 'C:\\\\USERPROFILE'",
     "output_type": "error",
     "traceback": [
      "\u001b[1;31m---------------------------------------------------------------------------\u001b[0m",
      "\u001b[1;31mFileNotFoundError\u001b[0m                         Traceback (most recent call last)",
      "\u001b[1;32m~\\AppData\\Local\\Temp\\ipykernel_9408\\3818978223.py\u001b[0m in \u001b[0;36m<module>\u001b[1;34m\u001b[0m\n\u001b[0;32m     22\u001b[0m \u001b[1;32mfor\u001b[0m \u001b[0mdir_name\u001b[0m \u001b[1;32min\u001b[0m \u001b[0mdestination_dirs\u001b[0m\u001b[1;33m:\u001b[0m\u001b[1;33m\u001b[0m\u001b[1;33m\u001b[0m\u001b[0m\n\u001b[0;32m     23\u001b[0m     \u001b[0mdestination_path\u001b[0m \u001b[1;33m=\u001b[0m \u001b[0mos\u001b[0m\u001b[1;33m.\u001b[0m\u001b[0mpath\u001b[0m\u001b[1;33m.\u001b[0m\u001b[0mjoin\u001b[0m\u001b[1;33m(\u001b[0m\u001b[1;34m'C:\\\\'\u001b[0m\u001b[1;33m,\u001b[0m \u001b[0mdir_name\u001b[0m\u001b[1;33m)\u001b[0m\u001b[1;33m\u001b[0m\u001b[1;33m\u001b[0m\u001b[0m\n\u001b[1;32m---> 24\u001b[1;33m     \u001b[0mdifferent_files\u001b[0m \u001b[1;33m=\u001b[0m \u001b[0mget_different_files\u001b[0m\u001b[1;33m(\u001b[0m\u001b[0mos\u001b[0m\u001b[1;33m.\u001b[0m\u001b[0mpath\u001b[0m\u001b[1;33m.\u001b[0m\u001b[0mjoin\u001b[0m\u001b[1;33m(\u001b[0m\u001b[0mfolder_path\u001b[0m\u001b[1;33m,\u001b[0m \u001b[0mdir_name\u001b[0m\u001b[1;33m)\u001b[0m\u001b[1;33m,\u001b[0m \u001b[0mdestination_path\u001b[0m\u001b[1;33m)\u001b[0m\u001b[1;33m\u001b[0m\u001b[1;33m\u001b[0m\u001b[0m\n\u001b[0m\u001b[0;32m     25\u001b[0m     \u001b[1;32mif\u001b[0m \u001b[0mdifferent_files\u001b[0m\u001b[1;33m:\u001b[0m\u001b[1;33m\u001b[0m\u001b[1;33m\u001b[0m\u001b[0m\n\u001b[0;32m     26\u001b[0m         \u001b[0mprint\u001b[0m\u001b[1;33m(\u001b[0m\u001b[1;34mf\"QA check failed for directory {dir_name}:\"\u001b[0m\u001b[1;33m)\u001b[0m\u001b[1;33m\u001b[0m\u001b[1;33m\u001b[0m\u001b[0m\n",
      "\u001b[1;32m~\\AppData\\Local\\Temp\\ipykernel_9408\\3818978223.py\u001b[0m in \u001b[0;36mget_different_files\u001b[1;34m(folder_path, destination_path)\u001b[0m\n\u001b[0;32m     10\u001b[0m             \u001b[0mdestination_path\u001b[0m \u001b[1;33m=\u001b[0m \u001b[0mos\u001b[0m\u001b[1;33m.\u001b[0m\u001b[0mpath\u001b[0m\u001b[1;33m.\u001b[0m\u001b[0mjoin\u001b[0m\u001b[1;33m(\u001b[0m\u001b[1;34m'C:\\\\'\u001b[0m\u001b[1;33m,\u001b[0m \u001b[0mfolder_name\u001b[0m\u001b[1;33m)\u001b[0m\u001b[1;33m\u001b[0m\u001b[1;33m\u001b[0m\u001b[0m\n\u001b[0;32m     11\u001b[0m     \u001b[0mcomparison\u001b[0m \u001b[1;33m=\u001b[0m \u001b[0mfilecmp\u001b[0m\u001b[1;33m.\u001b[0m\u001b[0mdircmp\u001b[0m\u001b[1;33m(\u001b[0m\u001b[0mfolder_path\u001b[0m\u001b[1;33m,\u001b[0m \u001b[0mdestination_path\u001b[0m\u001b[1;33m)\u001b[0m\u001b[1;33m\u001b[0m\u001b[1;33m\u001b[0m\u001b[0m\n\u001b[1;32m---> 12\u001b[1;33m     \u001b[0mdifferent_files\u001b[0m \u001b[1;33m=\u001b[0m \u001b[0mcomparison\u001b[0m\u001b[1;33m.\u001b[0m\u001b[0mdiff_files\u001b[0m \u001b[1;33m+\u001b[0m \u001b[0mcomparison\u001b[0m\u001b[1;33m.\u001b[0m\u001b[0mfunny_files\u001b[0m\u001b[1;33m\u001b[0m\u001b[1;33m\u001b[0m\u001b[0m\n\u001b[0m\u001b[0;32m     13\u001b[0m     \u001b[1;32mfor\u001b[0m \u001b[0msub_dir\u001b[0m \u001b[1;32min\u001b[0m \u001b[0mcomparison\u001b[0m\u001b[1;33m.\u001b[0m\u001b[0msubdirs\u001b[0m\u001b[1;33m:\u001b[0m\u001b[1;33m\u001b[0m\u001b[1;33m\u001b[0m\u001b[0m\n\u001b[0;32m     14\u001b[0m         \u001b[0msub_folder_path\u001b[0m \u001b[1;33m=\u001b[0m \u001b[0mos\u001b[0m\u001b[1;33m.\u001b[0m\u001b[0mpath\u001b[0m\u001b[1;33m.\u001b[0m\u001b[0mjoin\u001b[0m\u001b[1;33m(\u001b[0m\u001b[0mfolder_path\u001b[0m\u001b[1;33m,\u001b[0m \u001b[0msub_dir\u001b[0m\u001b[1;33m)\u001b[0m\u001b[1;33m\u001b[0m\u001b[1;33m\u001b[0m\u001b[0m\n",
      "\u001b[1;32mC:\\ProgramData\\Anaconda3\\lib\\filecmp.py\u001b[0m in \u001b[0;36m__getattr__\u001b[1;34m(self, attr)\u001b[0m\n\u001b[0;32m    247\u001b[0m         \u001b[1;32mif\u001b[0m \u001b[0mattr\u001b[0m \u001b[1;32mnot\u001b[0m \u001b[1;32min\u001b[0m \u001b[0mself\u001b[0m\u001b[1;33m.\u001b[0m\u001b[0mmethodmap\u001b[0m\u001b[1;33m:\u001b[0m\u001b[1;33m\u001b[0m\u001b[1;33m\u001b[0m\u001b[0m\n\u001b[0;32m    248\u001b[0m             \u001b[1;32mraise\u001b[0m \u001b[0mAttributeError\u001b[0m\u001b[1;33m(\u001b[0m\u001b[0mattr\u001b[0m\u001b[1;33m)\u001b[0m\u001b[1;33m\u001b[0m\u001b[1;33m\u001b[0m\u001b[0m\n\u001b[1;32m--> 249\u001b[1;33m         \u001b[0mself\u001b[0m\u001b[1;33m.\u001b[0m\u001b[0mmethodmap\u001b[0m\u001b[1;33m[\u001b[0m\u001b[0mattr\u001b[0m\u001b[1;33m]\u001b[0m\u001b[1;33m(\u001b[0m\u001b[0mself\u001b[0m\u001b[1;33m)\u001b[0m\u001b[1;33m\u001b[0m\u001b[1;33m\u001b[0m\u001b[0m\n\u001b[0m\u001b[0;32m    250\u001b[0m         \u001b[1;32mreturn\u001b[0m \u001b[0mgetattr\u001b[0m\u001b[1;33m(\u001b[0m\u001b[0mself\u001b[0m\u001b[1;33m,\u001b[0m \u001b[0mattr\u001b[0m\u001b[1;33m)\u001b[0m\u001b[1;33m\u001b[0m\u001b[1;33m\u001b[0m\u001b[0m\n\u001b[0;32m    251\u001b[0m \u001b[1;33m\u001b[0m\u001b[0m\n",
      "\u001b[1;32mC:\\ProgramData\\Anaconda3\\lib\\filecmp.py\u001b[0m in \u001b[0;36mphase3\u001b[1;34m(self)\u001b[0m\n\u001b[0;32m    183\u001b[0m \u001b[1;33m\u001b[0m\u001b[0m\n\u001b[0;32m    184\u001b[0m     \u001b[1;32mdef\u001b[0m \u001b[0mphase3\u001b[0m\u001b[1;33m(\u001b[0m\u001b[0mself\u001b[0m\u001b[1;33m)\u001b[0m\u001b[1;33m:\u001b[0m \u001b[1;31m# Find out differences between common files\u001b[0m\u001b[1;33m\u001b[0m\u001b[1;33m\u001b[0m\u001b[0m\n\u001b[1;32m--> 185\u001b[1;33m         \u001b[0mxx\u001b[0m \u001b[1;33m=\u001b[0m \u001b[0mcmpfiles\u001b[0m\u001b[1;33m(\u001b[0m\u001b[0mself\u001b[0m\u001b[1;33m.\u001b[0m\u001b[0mleft\u001b[0m\u001b[1;33m,\u001b[0m \u001b[0mself\u001b[0m\u001b[1;33m.\u001b[0m\u001b[0mright\u001b[0m\u001b[1;33m,\u001b[0m \u001b[0mself\u001b[0m\u001b[1;33m.\u001b[0m\u001b[0mcommon_files\u001b[0m\u001b[1;33m)\u001b[0m\u001b[1;33m\u001b[0m\u001b[1;33m\u001b[0m\u001b[0m\n\u001b[0m\u001b[0;32m    186\u001b[0m         \u001b[0mself\u001b[0m\u001b[1;33m.\u001b[0m\u001b[0msame_files\u001b[0m\u001b[1;33m,\u001b[0m \u001b[0mself\u001b[0m\u001b[1;33m.\u001b[0m\u001b[0mdiff_files\u001b[0m\u001b[1;33m,\u001b[0m \u001b[0mself\u001b[0m\u001b[1;33m.\u001b[0m\u001b[0mfunny_files\u001b[0m \u001b[1;33m=\u001b[0m \u001b[0mxx\u001b[0m\u001b[1;33m\u001b[0m\u001b[1;33m\u001b[0m\u001b[0m\n\u001b[0;32m    187\u001b[0m \u001b[1;33m\u001b[0m\u001b[0m\n",
      "\u001b[1;32mC:\\ProgramData\\Anaconda3\\lib\\filecmp.py\u001b[0m in \u001b[0;36m__getattr__\u001b[1;34m(self, attr)\u001b[0m\n\u001b[0;32m    247\u001b[0m         \u001b[1;32mif\u001b[0m \u001b[0mattr\u001b[0m \u001b[1;32mnot\u001b[0m \u001b[1;32min\u001b[0m \u001b[0mself\u001b[0m\u001b[1;33m.\u001b[0m\u001b[0mmethodmap\u001b[0m\u001b[1;33m:\u001b[0m\u001b[1;33m\u001b[0m\u001b[1;33m\u001b[0m\u001b[0m\n\u001b[0;32m    248\u001b[0m             \u001b[1;32mraise\u001b[0m \u001b[0mAttributeError\u001b[0m\u001b[1;33m(\u001b[0m\u001b[0mattr\u001b[0m\u001b[1;33m)\u001b[0m\u001b[1;33m\u001b[0m\u001b[1;33m\u001b[0m\u001b[0m\n\u001b[1;32m--> 249\u001b[1;33m         \u001b[0mself\u001b[0m\u001b[1;33m.\u001b[0m\u001b[0mmethodmap\u001b[0m\u001b[1;33m[\u001b[0m\u001b[0mattr\u001b[0m\u001b[1;33m]\u001b[0m\u001b[1;33m(\u001b[0m\u001b[0mself\u001b[0m\u001b[1;33m)\u001b[0m\u001b[1;33m\u001b[0m\u001b[1;33m\u001b[0m\u001b[0m\n\u001b[0m\u001b[0;32m    250\u001b[0m         \u001b[1;32mreturn\u001b[0m \u001b[0mgetattr\u001b[0m\u001b[1;33m(\u001b[0m\u001b[0mself\u001b[0m\u001b[1;33m,\u001b[0m \u001b[0mattr\u001b[0m\u001b[1;33m)\u001b[0m\u001b[1;33m\u001b[0m\u001b[1;33m\u001b[0m\u001b[0m\n\u001b[0;32m    251\u001b[0m \u001b[1;33m\u001b[0m\u001b[0m\n",
      "\u001b[1;32mC:\\ProgramData\\Anaconda3\\lib\\filecmp.py\u001b[0m in \u001b[0;36mphase2\u001b[1;34m(self)\u001b[0m\n\u001b[0;32m    152\u001b[0m         \u001b[0mself\u001b[0m\u001b[1;33m.\u001b[0m\u001b[0mcommon_funny\u001b[0m \u001b[1;33m=\u001b[0m \u001b[1;33m[\u001b[0m\u001b[1;33m]\u001b[0m\u001b[1;33m\u001b[0m\u001b[1;33m\u001b[0m\u001b[0m\n\u001b[0;32m    153\u001b[0m \u001b[1;33m\u001b[0m\u001b[0m\n\u001b[1;32m--> 154\u001b[1;33m         \u001b[1;32mfor\u001b[0m \u001b[0mx\u001b[0m \u001b[1;32min\u001b[0m \u001b[0mself\u001b[0m\u001b[1;33m.\u001b[0m\u001b[0mcommon\u001b[0m\u001b[1;33m:\u001b[0m\u001b[1;33m\u001b[0m\u001b[1;33m\u001b[0m\u001b[0m\n\u001b[0m\u001b[0;32m    155\u001b[0m             \u001b[0ma_path\u001b[0m \u001b[1;33m=\u001b[0m \u001b[0mos\u001b[0m\u001b[1;33m.\u001b[0m\u001b[0mpath\u001b[0m\u001b[1;33m.\u001b[0m\u001b[0mjoin\u001b[0m\u001b[1;33m(\u001b[0m\u001b[0mself\u001b[0m\u001b[1;33m.\u001b[0m\u001b[0mleft\u001b[0m\u001b[1;33m,\u001b[0m \u001b[0mx\u001b[0m\u001b[1;33m)\u001b[0m\u001b[1;33m\u001b[0m\u001b[1;33m\u001b[0m\u001b[0m\n\u001b[0;32m    156\u001b[0m             \u001b[0mb_path\u001b[0m \u001b[1;33m=\u001b[0m \u001b[0mos\u001b[0m\u001b[1;33m.\u001b[0m\u001b[0mpath\u001b[0m\u001b[1;33m.\u001b[0m\u001b[0mjoin\u001b[0m\u001b[1;33m(\u001b[0m\u001b[0mself\u001b[0m\u001b[1;33m.\u001b[0m\u001b[0mright\u001b[0m\u001b[1;33m,\u001b[0m \u001b[0mx\u001b[0m\u001b[1;33m)\u001b[0m\u001b[1;33m\u001b[0m\u001b[1;33m\u001b[0m\u001b[0m\n",
      "\u001b[1;32mC:\\ProgramData\\Anaconda3\\lib\\filecmp.py\u001b[0m in \u001b[0;36m__getattr__\u001b[1;34m(self, attr)\u001b[0m\n\u001b[0;32m    247\u001b[0m         \u001b[1;32mif\u001b[0m \u001b[0mattr\u001b[0m \u001b[1;32mnot\u001b[0m \u001b[1;32min\u001b[0m \u001b[0mself\u001b[0m\u001b[1;33m.\u001b[0m\u001b[0mmethodmap\u001b[0m\u001b[1;33m:\u001b[0m\u001b[1;33m\u001b[0m\u001b[1;33m\u001b[0m\u001b[0m\n\u001b[0;32m    248\u001b[0m             \u001b[1;32mraise\u001b[0m \u001b[0mAttributeError\u001b[0m\u001b[1;33m(\u001b[0m\u001b[0mattr\u001b[0m\u001b[1;33m)\u001b[0m\u001b[1;33m\u001b[0m\u001b[1;33m\u001b[0m\u001b[0m\n\u001b[1;32m--> 249\u001b[1;33m         \u001b[0mself\u001b[0m\u001b[1;33m.\u001b[0m\u001b[0mmethodmap\u001b[0m\u001b[1;33m[\u001b[0m\u001b[0mattr\u001b[0m\u001b[1;33m]\u001b[0m\u001b[1;33m(\u001b[0m\u001b[0mself\u001b[0m\u001b[1;33m)\u001b[0m\u001b[1;33m\u001b[0m\u001b[1;33m\u001b[0m\u001b[0m\n\u001b[0m\u001b[0;32m    250\u001b[0m         \u001b[1;32mreturn\u001b[0m \u001b[0mgetattr\u001b[0m\u001b[1;33m(\u001b[0m\u001b[0mself\u001b[0m\u001b[1;33m,\u001b[0m \u001b[0mattr\u001b[0m\u001b[1;33m)\u001b[0m\u001b[1;33m\u001b[0m\u001b[1;33m\u001b[0m\u001b[0m\n\u001b[0;32m    251\u001b[0m \u001b[1;33m\u001b[0m\u001b[0m\n",
      "\u001b[1;32mC:\\ProgramData\\Anaconda3\\lib\\filecmp.py\u001b[0m in \u001b[0;36mphase1\u001b[1;34m(self)\u001b[0m\n\u001b[0;32m    141\u001b[0m \u001b[1;33m\u001b[0m\u001b[0m\n\u001b[0;32m    142\u001b[0m     \u001b[1;32mdef\u001b[0m \u001b[0mphase1\u001b[0m\u001b[1;33m(\u001b[0m\u001b[0mself\u001b[0m\u001b[1;33m)\u001b[0m\u001b[1;33m:\u001b[0m \u001b[1;31m# Compute common names\u001b[0m\u001b[1;33m\u001b[0m\u001b[1;33m\u001b[0m\u001b[0m\n\u001b[1;32m--> 143\u001b[1;33m         \u001b[0ma\u001b[0m \u001b[1;33m=\u001b[0m \u001b[0mdict\u001b[0m\u001b[1;33m(\u001b[0m\u001b[0mzip\u001b[0m\u001b[1;33m(\u001b[0m\u001b[0mmap\u001b[0m\u001b[1;33m(\u001b[0m\u001b[0mos\u001b[0m\u001b[1;33m.\u001b[0m\u001b[0mpath\u001b[0m\u001b[1;33m.\u001b[0m\u001b[0mnormcase\u001b[0m\u001b[1;33m,\u001b[0m \u001b[0mself\u001b[0m\u001b[1;33m.\u001b[0m\u001b[0mleft_list\u001b[0m\u001b[1;33m)\u001b[0m\u001b[1;33m,\u001b[0m \u001b[0mself\u001b[0m\u001b[1;33m.\u001b[0m\u001b[0mleft_list\u001b[0m\u001b[1;33m)\u001b[0m\u001b[1;33m)\u001b[0m\u001b[1;33m\u001b[0m\u001b[1;33m\u001b[0m\u001b[0m\n\u001b[0m\u001b[0;32m    144\u001b[0m         \u001b[0mb\u001b[0m \u001b[1;33m=\u001b[0m \u001b[0mdict\u001b[0m\u001b[1;33m(\u001b[0m\u001b[0mzip\u001b[0m\u001b[1;33m(\u001b[0m\u001b[0mmap\u001b[0m\u001b[1;33m(\u001b[0m\u001b[0mos\u001b[0m\u001b[1;33m.\u001b[0m\u001b[0mpath\u001b[0m\u001b[1;33m.\u001b[0m\u001b[0mnormcase\u001b[0m\u001b[1;33m,\u001b[0m \u001b[0mself\u001b[0m\u001b[1;33m.\u001b[0m\u001b[0mright_list\u001b[0m\u001b[1;33m)\u001b[0m\u001b[1;33m,\u001b[0m \u001b[0mself\u001b[0m\u001b[1;33m.\u001b[0m\u001b[0mright_list\u001b[0m\u001b[1;33m)\u001b[0m\u001b[1;33m)\u001b[0m\u001b[1;33m\u001b[0m\u001b[1;33m\u001b[0m\u001b[0m\n\u001b[0;32m    145\u001b[0m         \u001b[0mself\u001b[0m\u001b[1;33m.\u001b[0m\u001b[0mcommon\u001b[0m \u001b[1;33m=\u001b[0m \u001b[0mlist\u001b[0m\u001b[1;33m(\u001b[0m\u001b[0mmap\u001b[0m\u001b[1;33m(\u001b[0m\u001b[0ma\u001b[0m\u001b[1;33m.\u001b[0m\u001b[0m__getitem__\u001b[0m\u001b[1;33m,\u001b[0m \u001b[0mfilter\u001b[0m\u001b[1;33m(\u001b[0m\u001b[0mb\u001b[0m\u001b[1;33m.\u001b[0m\u001b[0m__contains__\u001b[0m\u001b[1;33m,\u001b[0m \u001b[0ma\u001b[0m\u001b[1;33m)\u001b[0m\u001b[1;33m)\u001b[0m\u001b[1;33m)\u001b[0m\u001b[1;33m\u001b[0m\u001b[1;33m\u001b[0m\u001b[0m\n",
      "\u001b[1;32mC:\\ProgramData\\Anaconda3\\lib\\filecmp.py\u001b[0m in \u001b[0;36m__getattr__\u001b[1;34m(self, attr)\u001b[0m\n\u001b[0;32m    247\u001b[0m         \u001b[1;32mif\u001b[0m \u001b[0mattr\u001b[0m \u001b[1;32mnot\u001b[0m \u001b[1;32min\u001b[0m \u001b[0mself\u001b[0m\u001b[1;33m.\u001b[0m\u001b[0mmethodmap\u001b[0m\u001b[1;33m:\u001b[0m\u001b[1;33m\u001b[0m\u001b[1;33m\u001b[0m\u001b[0m\n\u001b[0;32m    248\u001b[0m             \u001b[1;32mraise\u001b[0m \u001b[0mAttributeError\u001b[0m\u001b[1;33m(\u001b[0m\u001b[0mattr\u001b[0m\u001b[1;33m)\u001b[0m\u001b[1;33m\u001b[0m\u001b[1;33m\u001b[0m\u001b[0m\n\u001b[1;32m--> 249\u001b[1;33m         \u001b[0mself\u001b[0m\u001b[1;33m.\u001b[0m\u001b[0mmethodmap\u001b[0m\u001b[1;33m[\u001b[0m\u001b[0mattr\u001b[0m\u001b[1;33m]\u001b[0m\u001b[1;33m(\u001b[0m\u001b[0mself\u001b[0m\u001b[1;33m)\u001b[0m\u001b[1;33m\u001b[0m\u001b[1;33m\u001b[0m\u001b[0m\n\u001b[0m\u001b[0;32m    250\u001b[0m         \u001b[1;32mreturn\u001b[0m \u001b[0mgetattr\u001b[0m\u001b[1;33m(\u001b[0m\u001b[0mself\u001b[0m\u001b[1;33m,\u001b[0m \u001b[0mattr\u001b[0m\u001b[1;33m)\u001b[0m\u001b[1;33m\u001b[0m\u001b[1;33m\u001b[0m\u001b[0m\n\u001b[0;32m    251\u001b[0m \u001b[1;33m\u001b[0m\u001b[0m\n",
      "\u001b[1;32mC:\\ProgramData\\Anaconda3\\lib\\filecmp.py\u001b[0m in \u001b[0;36mphase0\u001b[1;34m(self)\u001b[0m\n\u001b[0;32m    135\u001b[0m         self.left_list = _filter(os.listdir(self.left),\n\u001b[0;32m    136\u001b[0m                                  self.hide+self.ignore)\n\u001b[1;32m--> 137\u001b[1;33m         self.right_list = _filter(os.listdir(self.right),\n\u001b[0m\u001b[0;32m    138\u001b[0m                                   self.hide+self.ignore)\n\u001b[0;32m    139\u001b[0m         \u001b[0mself\u001b[0m\u001b[1;33m.\u001b[0m\u001b[0mleft_list\u001b[0m\u001b[1;33m.\u001b[0m\u001b[0msort\u001b[0m\u001b[1;33m(\u001b[0m\u001b[1;33m)\u001b[0m\u001b[1;33m\u001b[0m\u001b[1;33m\u001b[0m\u001b[0m\n",
      "\u001b[1;31mFileNotFoundError\u001b[0m: [WinError 3] The system cannot find the path specified: 'C:\\\\USERPROFILE'"
     ]
    }
   ],
   "source": [
    "def get_different_files(folder_path, destination_path=None):\n",
    "    if destination_path is None:\n",
    "        folder_name = os.path.basename(folder_path)\n",
    "        if folder_name.startswith('userprofile'):\n",
    "            print(folder_name)\n",
    "            destination_path = os.environ['USERPROFILE'] + folder_path[11:]\n",
    "        elif folder_name.startswith('Appdata'):\n",
    "            destination_path = os.environ['APPDATA'] + folder_path[7:]\n",
    "        else:\n",
    "            destination_path = os.path.join('C:\\\\', folder_name)\n",
    "    comparison = filecmp.dircmp(folder_path, destination_path)\n",
    "    different_files = comparison.diff_files + comparison.funny_files\n",
    "    for sub_dir in comparison.subdirs:\n",
    "        sub_folder_path = os.path.join(folder_path, sub_dir)\n",
    "        sub_destination_path = os.path.join(destination_path, sub_dir)\n",
    "        different_files += get_different_files(sub_folder_path, sub_destination_path)\n",
    "    different_files += [os.path.join(destination_path, file) for file in comparison.right_only]\n",
    "    return different_files\n",
    "\n",
    "folder_path = 'C:\\\\Users\\\\smallapalli\\\\Desktop\\\\QA_Automation\\\\QA'\n",
    "destination_dirs = [d for d in os.listdir(folder_path) if os.path.isdir(os.path.join(folder_path, d))]\n",
    "for dir_name in destination_dirs:\n",
    "    destination_path = os.path.join('C:\\\\', dir_name)\n",
    "    different_files = get_different_files(os.path.join(folder_path, dir_name), destination_path)\n",
    "    if different_files:\n",
    "        print(f\"QA check failed for directory {dir_name}:\")\n",
    "        for file in different_files:\n",
    "            print(file)\n",
    "    else:\n",
    "        print(f\"QA check successful for directory {dir_name}\")"
   ]
  },
  {
   "cell_type": "code",
   "execution_count": 2,
   "id": "5c46651d",
   "metadata": {},
   "outputs": [
    {
     "name": "stdout",
     "output_type": "stream",
     "text": [
      "Directories: ['Cassandra', 'USERPROFILE']\n",
      "Files: ['DXC.reg']\n",
      "C:\\Cassandra contains 17 subfolders and 210 files.\n",
      "C:\\Users\\smallapalli\\Desktop\\QA_Automation\\QA\\Cassandra contains 17 subfolders and 208 files.\n",
      "\n",
      "QA check failed for directory Cassandra:\n",
      "New Text Document.txt\n",
      "C:\\Cassandra\\apache-cassandra-3.11.14\\doc\\New Text1.txt\n",
      "C:\\Cassandra\\apache-cassandra-3.11.14\\interface\\New Text.vbs\n",
      "C:\\Cassandra\\apache-cassandra-3.11.14\\New Text.txt\n",
      "\n",
      "C:\\Users\\smallapalli\\Java contains 1 subfolders and 11 files.\n",
      "C:\\Users\\smallapalli\\Desktop\\QA_Automation\\QA\\USERPROFILE\\Java contains 1 subfolders and 11 files.\n",
      "\n",
      "QA check successful for directory all files are matching USERPROFILE\n"
     ]
    }
   ],
   "source": [
    "def get_different_files(folder_path, destination_path=None):\n",
    "    if destination_path is None:\n",
    "        folder_name = os.path.basename(folder_path)\n",
    "        destination_path = os.path.join(os.environ['USERPROFILE'] if folder_name.startswith('userprofile') else os.environ['APPDATA'] if folder_name.startswith('Appdata') else 'C:\\\\', folder_name)\n",
    "    comparison = filecmp.dircmp(folder_path, destination_path)\n",
    "    different_files = comparison.diff_files + comparison.funny_files\n",
    "    for sub_dir in comparison.subdirs:\n",
    "        sub_folder_path = os.path.join(folder_path, sub_dir)\n",
    "        sub_destination_path = os.path.join(destination_path, sub_dir)\n",
    "        different_files += get_different_files(sub_folder_path, sub_destination_path)\n",
    "    different_files += [os.path.join(destination_path, file) for file in comparison.right_only]\n",
    "    return different_files\n",
    "\n",
    "def get_folder_properties(folder_path):\n",
    "    sub_folders = [name for name in os.listdir(folder_path) if os.path.isdir(os.path.join(folder_path, name))]\n",
    "    file_count = len([name for name in os.listdir(folder_path) if os.path.isfile(os.path.join(folder_path, name))])\n",
    "    subfolder_count = len(sub_folders)\n",
    "    for sub_folder in sub_folders:\n",
    "        subfolder_path = os.path.join(folder_path, sub_folder)\n",
    "        subfolder_count += get_folder_properties(subfolder_path)[0]\n",
    "        file_count += get_folder_properties(subfolder_path)[1]\n",
    "    return subfolder_count, file_count\n",
    "\n",
    "#os.getcwd()\n",
    "folder_path = 'C:\\\\Users\\\\smallapalli\\\\Desktop\\\\QA_Automation\\\\QA'\n",
    "# destination_dirs = [d for d in os.listdir(folder_path) if os.path.isdir(os.path.join(folder_path, d))]\n",
    "destination_dirs = []\n",
    "files = []\n",
    "for d in os.listdir(folder_path):\n",
    "    item_path = os.path.join(folder_path, d)\n",
    "    if os.path.isdir(item_path):\n",
    "        destination_dirs.append(d)\n",
    "    else:\n",
    "        files.append(d)\n",
    "print(f\"Directories: {destination_dirs}\")\n",
    "print(f\"Files: {files}\")\n",
    "\n",
    "for dir_name in destination_dirs:\n",
    "#     dir_name=str(dir_name).upper()\n",
    "    if dir_name.startswith('USERPROFILE'):\n",
    "        user=os.path.join(folder_path,dir_name)\n",
    "        userprofile=[d for d in os.listdir(user) if os.path.isdir(os.path.join(user, d))]\n",
    "        for user_file in userprofile:\n",
    "            destination_path = os.environ['USERPROFILE']\n",
    "            different_files = get_different_files(os.path.join(user,user_file), os.path.join(destination_path,user_file))\n",
    "            subfolder_count, file_count = get_folder_properties(os.path.join(destination_path,user_file))\n",
    "            print(f\"{os.path.join(destination_path,user_file)} contains {subfolder_count} subfolders and {file_count} files.\")\n",
    "            subfolder_count, file_count = get_folder_properties(os.path.join(user,user_file))\n",
    "            print(f\"{os.path.join(user,user_file)} contains {subfolder_count} subfolders and {file_count} files.\")\n",
    "            print(\"\")\n",
    "    elif dir_name.startswith('APPDATA'):\n",
    "        app=os.path.join(folder_path,dir_name)\n",
    "        appdata=[d for d in os.listdir(app) if os.path.isdir(os.path.join(app, d))]\n",
    "        for app_file in userprofile:\n",
    "            destination_path = os.environ['APPDATA']\n",
    "            different_files = get_different_files(os.path.join(app,app_file), os.path.join(destination_path,app_file))\n",
    "            subfolder_count, file_count = get_folder_properties(os.path.join(destination_path,app_file))\n",
    "            print(f\"{os.path.join(destination_path,app_file)} contains {subfolder_count} subfolders and {file_count} files.\")\n",
    "            subfolder_count, file_count = get_folder_properties(os.path.join(app,app_file))\n",
    "            print(f\"{os.path.join(app,app_file)} contains {subfolder_count} subfolders and {file_count} files.\")\n",
    "            print(\"\")\n",
    "    else:\n",
    "        destination_path = os.path.join('C:\\\\', dir_name)\n",
    "        different_files = get_different_files(os.path.join(folder_path, dir_name), destination_path)\n",
    "        subfolder_count, file_count = get_folder_properties(destination_path)\n",
    "        print(f\"{destination_path} contains {subfolder_count} subfolders and {file_count} files.\")\n",
    "        subfolder_count, file_count = get_folder_properties(os.path.join(folder_path, dir_name))\n",
    "        print(f\"{os.path.join(folder_path, dir_name)} contains {subfolder_count} subfolders and {file_count} files.\")\n",
    "        print(\"\")\n",
    "    if different_files:\n",
    "        print(f\"QA check failed for directory {dir_name}:\")\n",
    "        for file in different_files:\n",
    "            print(file)\n",
    "        print(\"\")\n",
    "    else:\n",
    "        print(f\"QA check successful for directory all files are matching {dir_name}\")\n"
   ]
  },
  {
   "cell_type": "code",
   "execution_count": 78,
   "id": "f90037fa",
   "metadata": {},
   "outputs": [
    {
     "name": "stdout",
     "output_type": "stream",
     "text": [
      "The 'SOFTWARE\\\\CSC\\\\Packages\\\\ZIC-MLT-Leonardo64-22.1.1-CH-R1' hive exists on the system.\n"
     ]
    }
   ],
   "source": [
    "import winreg\n",
    "\n",
    "for reg_file_path in files:\n",
    "# read the contents of the .reg file\n",
    "    with open(os.path.join(folder_path,reg_file_path), 'r') as file:\n",
    "        contents = file.read()\n",
    "    # extract the hive information\n",
    "    for line in contents.splitlines():\n",
    "        line=line.replace('\\x00', '')\n",
    "        if line.startswith('Windows Registry Editor Version') :\n",
    "            continue  # skip version line\n",
    "        elif '\\\\' in line:\n",
    "            hive = line.split(':', 1)[0]\n",
    "            if \"HKEY_LOCAL_MACHINE\" in hive:\n",
    "                hive=hive.replace(\"HKEY_LOCAL_MACHINE\\\\\",\"\")\n",
    "                hive=hive.replace(\"[\",\"\")\n",
    "                hive=hive.replace(\"]\",\"\")\n",
    "                hive=hive.replace(\"\\\\\",\"\\\\\\\\\")\n",
    "                hive_key = winreg.HKEY_LOCAL_MACHINE\n",
    "                check_registry_hive(hive,hive_key)\n",
    "            elif \"HKEY_CURRENT_USER\" in hive:\n",
    "                hive=hive.replace(\"HKEY_CURRENT_USER\\\\\",\"\")\n",
    "                hive=hive.replace(\"[\",\"\")\n",
    "                hive=hive.replace(\"]\",\"\")\n",
    "                hive=hive.replace(\"\\\\\",\"\\\\\\\\\")\n",
    "                hive_key = winreg.HKEY_CURRENT_USER\n",
    "                check_registry_hive(hive,hive_key)\n",
    "            elif \"HKEY_CLASSES_ROOT\" in hive:\n",
    "                hive=hive.replace(\"HKEY_CLASSES_ROOT\\\\\",\"\")\n",
    "                hive=hive.replace(\"[\",\"\")\n",
    "                hive=hive.replace(\"]\",\"\")\n",
    "                hive=hive.replace(\"\\\\\",\"\\\\\\\\\")\n",
    "                hive_key = winreg.HKEY_CLASSES_ROOT\n",
    "                check_registry_hive(hive,hive_key)\n",
    "            else:\n",
    "                print(f\"Invalid registry hive: {hive}\")"
   ]
  },
  {
   "cell_type": "code",
   "execution_count": 75,
   "id": "b2675aff",
   "metadata": {},
   "outputs": [],
   "source": [
    "def check_registry_hive(hive,hive_key):\n",
    "    try:\n",
    "        key = winreg.OpenKey(hive_key, hive, 0, winreg.KEY_READ)\n",
    "        print(f\"The '{hive}' hive exists on the system.\")\n",
    "        winreg.CloseKey(key)\n",
    "        return True\n",
    "    except FileNotFoundError:\n",
    "        print(f\"The '{hive}' hive does not exist on the system.\")\n",
    "        return False"
   ]
  },
  {
   "cell_type": "code",
   "execution_count": 76,
   "id": "0d99fc29",
   "metadata": {},
   "outputs": [
    {
     "name": "stdout",
     "output_type": "stream",
     "text": [
      "The 'SOFTWARE\\\\CSC\\\\Packages\\\\ZIC-MLT-Leonardo64-22.1.1-CH-R1' hive exists on the system.\n"
     ]
    },
    {
     "data": {
      "text/plain": [
       "True"
      ]
     },
     "execution_count": 76,
     "metadata": {},
     "output_type": "execute_result"
    }
   ],
   "source": [
    "check_registry_hive(hive,hive_key)"
   ]
  },
  {
   "cell_type": "code",
   "execution_count": null,
   "id": "b7e20d3c",
   "metadata": {},
   "outputs": [],
   "source": []
  }
 ],
 "metadata": {
  "kernelspec": {
   "display_name": "Python 3 (ipykernel)",
   "language": "python",
   "name": "python3"
  },
  "language_info": {
   "codemirror_mode": {
    "name": "ipython",
    "version": 3
   },
   "file_extension": ".py",
   "mimetype": "text/x-python",
   "name": "python",
   "nbconvert_exporter": "python",
   "pygments_lexer": "ipython3",
   "version": "3.9.13"
  }
 },
 "nbformat": 4,
 "nbformat_minor": 5
}
