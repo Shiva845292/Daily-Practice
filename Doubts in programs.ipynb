{
 "cells": [
  {
   "cell_type": "code",
   "execution_count": 13,
   "id": "bf9f6452",
   "metadata": {},
   "outputs": [
    {
     "name": "stdout",
     "output_type": "stream",
     "text": [
      "shiva 0\n",
      "prasad 3\n",
      "shiva 4\n",
      "kid 0\n",
      "child 1\n",
      "cat 0\n",
      "data 1\n",
      "wanted 3\n",
      "[1, [23, 3], [3, 82], [271]]\n",
      "Wall time: 998 µs\n"
     ]
    }
   ],
   "source": [
    "%%time\n",
    "l=[1,['shiva',23,3,'prasad','shiva'],['kid','child',3,82,],['cat','data',271,'wanted']]\n",
    "#l.insert(1,'write a letter')\n",
    "#l.insert(1,'8+5j')\n",
    "#print(l)\n",
    "# j=0\n",
    "for i in l:\n",
    "    if type(i) is list:\n",
    "        #print(i)\n",
    "        j=0 # when i give j=0 in globelly its not getting  desire output\n",
    "        while j < len(i):\n",
    "            if type(i[j])==str:\n",
    "                #print(j)\n",
    "                print(i[j],j)\n",
    "                \n",
    "            j=j+1\n",
    "        j=0\n",
    "        while j < len(i):\n",
    "            if type(i[j]) == str:\n",
    "                i.remove(i[j])\n",
    "                continue\n",
    "            j = j +1\n",
    "print(l)\n",
    "\n",
    "\n",
    "                "
   ]
  },
  {
   "cell_type": "code",
   "execution_count": 1,
   "id": "02e93b91",
   "metadata": {},
   "outputs": [
    {
     "data": {
      "text/plain": [
       "1"
      ]
     },
     "execution_count": 1,
     "metadata": {},
     "output_type": "execute_result"
    }
   ],
   "source": [
    "3%2"
   ]
  },
  {
   "cell_type": "code",
   "execution_count": 33,
   "id": "81b65484",
   "metadata": {},
   "outputs": [
    {
     "ename": "SyntaxError",
     "evalue": "invalid syntax (Temp/ipykernel_7096/3701181092.py, line 1)",
     "output_type": "error",
     "traceback": [
      "\u001b[1;36m  File \u001b[1;32m\"C:\\Users\\M461F~1.SHI\\AppData\\Local\\Temp/ipykernel_7096/3701181092.py\"\u001b[1;36m, line \u001b[1;32m1\u001b[0m\n\u001b[1;33m    [ i for i in range(10) i%2==0 ] #\u001b[0m\n\u001b[1;37m                           ^\u001b[0m\n\u001b[1;31mSyntaxError\u001b[0m\u001b[1;31m:\u001b[0m invalid syntax\n"
     ]
    }
   ],
   "source": [
    "[ i for i in range(10) i%2==0 ] # why i am geeting an error"
   ]
  },
  {
   "cell_type": "code",
   "execution_count": null,
   "id": "d3d53df1",
   "metadata": {},
   "outputs": [],
   "source": [
    "# tuple set dic\n",
    "p=input('plz enter the paragragh :')\n",
    "l=list(p)\n",
    "s=set(l)\n",
    "print('this is list values    :',l)\n",
    "print( 'this is a set values   :',s)\n",
    "d={i:'shiva' for i in l}\n",
    "t=tuple(d.keys())\n",
    "print(d)\n"
   ]
  },
  {
   "cell_type": "code",
   "execution_count": 30,
   "id": "ed088c32",
   "metadata": {},
   "outputs": [],
   "source": [
    "def fun(a,b):\n",
    "    sl=input('enter any one of the operater +,-,*,%,/ :')\n",
    "    i=0\n",
    "    if sl == '+':# when we using 'is'in place of == its giving any error or warng\n",
    "        return a+b\n",
    "    elif sl == '-':\n",
    "        return a-b\n",
    "    elif sl == '*':\n",
    "        return a*b\n",
    "    elif sl == '%':\n",
    "        return a%b\n",
    "    elif sl == '/':\n",
    "        return a/b\n",
    "    else:\n",
    "        print('plz enter valid opertr')\n",
    "         \n",
    "    "
   ]
  },
  {
   "cell_type": "code",
   "execution_count": 32,
   "id": "0b42cc3a",
   "metadata": {},
   "outputs": [
    {
     "name": "stdout",
     "output_type": "stream",
     "text": [
      "enter any one of the operater +,-,*,%,/ :(\n",
      "plz enter valid opertr\n"
     ]
    }
   ],
   "source": [
    "fun(12,3)"
   ]
  },
  {
   "cell_type": "code",
   "execution_count": 29,
   "id": "50cefbfa",
   "metadata": {},
   "outputs": [
    {
     "name": "stdout",
     "output_type": "stream",
     "text": [
      "3\n"
     ]
    }
   ],
   "source": [
    "s='my name is shiva i want to find the name again'\n",
    "p=s.find('name')\n",
    "for i in range(p+1,len(s)):# i am using p length and trying to find another name but its give me same name\n",
    "    q=s.find('name')\n",
    "    break\n",
    "print(q)\n",
    "#doubt satya"
   ]
  },
  {
   "cell_type": "code",
   "execution_count": 12,
   "id": "c5913b0b",
   "metadata": {},
   "outputs": [
    {
     "ename": "IndentationError",
     "evalue": "expected an indented block (Temp/ipykernel_2892/825109935.py, line 8)",
     "output_type": "error",
     "traceback": [
      "\u001b[1;36m  File \u001b[1;32m\"C:\\Users\\M461F~1.SHI\\AppData\\Local\\Temp/ipykernel_2892/825109935.py\"\u001b[1;36m, line \u001b[1;32m8\u001b[0m\n\u001b[1;33m    j=j+1\u001b[0m\n\u001b[1;37m    ^\u001b[0m\n\u001b[1;31mIndentationError\u001b[0m\u001b[1;31m:\u001b[0m expected an indented block\n"
     ]
    }
   ],
   "source": [
    "s='my name is shiva i want to find the name again'# how to find 2nd name\n",
    "j=0\n",
    "print(len(s))\n",
    "print(s[9])\n",
    "while j<len(s):\n",
    "    if s.find('name')=='name':\n",
    "        #print('index of n is:',j)\n",
    "    j=j+1"
   ]
  },
  {
   "cell_type": "code",
   "execution_count": 2,
   "id": "26fd0bef",
   "metadata": {},
   "outputs": [
    {
     "data": {
      "text/plain": [
       "286"
      ]
     },
     "execution_count": 2,
     "metadata": {},
     "output_type": "execute_result"
    }
   ],
   "source": [
    "#logging\n",
    "import logging as l\n",
    "l.basicConfig(filename=\"C:\\\\Users\\\\M.shivaprasadreddy\\\\Desktop\\\\Python\\\\info.log\",level=l.INFO)\n",
    "l.info('hwofh')\n",
    "l.warning('efuas')\n",
    "l.error('Uiuuisd')\n",
    "def s(*args):\n",
    "    l.info(\"Strating\")\n",
    "    c=0\n",
    "    for i in args:\n",
    "        l.info(str(i))# this line is not excuting run and check it \n",
    "        c=c+i\n",
    "    return c\n",
    "    l.info('End')\n",
    "s(1,2,44,66,9,66,98)\n",
    "# why sometimes its not working in jupytr"
   ]
  },
  {
   "cell_type": "code",
   "execution_count": null,
   "id": "e5f7bf4e",
   "metadata": {},
   "outputs": [],
   "source": []
  }
 ],
 "metadata": {
  "kernelspec": {
   "display_name": "Python 3 (ipykernel)",
   "language": "python",
   "name": "python3"
  },
  "language_info": {
   "codemirror_mode": {
    "name": "ipython",
    "version": 3
   },
   "file_extension": ".py",
   "mimetype": "text/x-python",
   "name": "python",
   "nbconvert_exporter": "python",
   "pygments_lexer": "ipython3",
   "version": "3.9.7"
  }
 },
 "nbformat": 4,
 "nbformat_minor": 5
}
