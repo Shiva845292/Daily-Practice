{
 "cells": [
  {
   "cell_type": "code",
   "execution_count": 15,
   "id": "03997851",
   "metadata": {},
   "outputs": [],
   "source": [
    "from msilib import *\n",
    "import os\n",
    "\n",
    "def GetMsiProperty(path ,MSI):\n",
    "    db = OpenDatabase(path,MSIDBOPEN_READONLY)\n",
    "    view = db.OpenView (\"SELECT Value FROM Property WHERE Property='\" + MSI + \"'\")\n",
    "    view.Execute(None)\n",
    "    result = view.Fetch()\n",
    "    #print dir(result)\n",
    "    return result.GetString(1)\n",
    "#if u geting any error, just check the pwd()\n",
    "UPN='ZIC-ENG-VideoConverterPremium2021-21.2.0-ZNA-R1.msi'\n",
    "Location='S:\\\\New folder'\n",
    "path=os.path.join(Location,UPN)\n",
    "MSI=\"ProductCode\"\n",
    "productcode = GetMsiProperty(path ,MSI)\n",
    "UpgradeCode=GetMsiProperty(path,\"UpgradeCode\")\n"
   ]
  },
  {
   "cell_type": "code",
   "execution_count": 26,
   "id": "dd4cfed4",
   "metadata": {},
   "outputs": [
    {
     "name": "stdout",
     "output_type": "stream",
     "text": [
      "ZIC-ENG-VideoConverterPremium2021-21.2.0-ZNA-R1.msi\n"
     ]
    }
   ],
   "source": [
    "os.listdir()\n",
    "for file in os.listdir():\n",
    "    if (\"ZIC-\" in file) or (\"ZCX-\" in file ):\n",
    "        print(file)"
   ]
  },
  {
   "cell_type": "code",
   "execution_count": 16,
   "id": "584f00cf",
   "metadata": {},
   "outputs": [
    {
     "data": {
      "text/plain": [
       "'{8D1918E1-B5DB-42D7-8328-2B7BBA0A03D7}'"
      ]
     },
     "execution_count": 16,
     "metadata": {},
     "output_type": "execute_result"
    }
   ],
   "source": [
    "productcode"
   ]
  },
  {
   "cell_type": "code",
   "execution_count": 17,
   "id": "fcdb7886",
   "metadata": {},
   "outputs": [],
   "source": [
    "UpgradeCode=GetMsiProperty(path,\"UpgradeCode\")"
   ]
  },
  {
   "cell_type": "code",
   "execution_count": 18,
   "id": "08b7179c",
   "metadata": {},
   "outputs": [
    {
     "data": {
      "text/plain": [
       "'{4F09A79E-6D72-4D5A-A665-B6AEE12E1D18}'"
      ]
     },
     "execution_count": 18,
     "metadata": {},
     "output_type": "execute_result"
    }
   ],
   "source": [
    "UpgradeCode"
   ]
  },
  {
   "cell_type": "code",
   "execution_count": 28,
   "id": "be270826",
   "metadata": {},
   "outputs": [
    {
     "name": "stdout",
     "output_type": "stream",
     "text": [
      "b'Shivaprasad Reddy.M -DXC/HYD'\n"
     ]
    }
   ],
   "source": [
    "import msilib\n",
    "path = \"S:\\\\New folder\\\\ZIC-ENG-VideoConverterPremium2021-21.2.0-ZNA-R1.msi\"\n",
    "dbobject = msilib.OpenDatabase(path, msilib.MSIDBOPEN_READONLY)\n",
    "view = dbobject.GetSummaryInformation(200)\n",
    "# result = view.Fetch()\n",
    "print(view.GetProperty(4))"
   ]
  },
  {
   "cell_type": "code",
   "execution_count": 11,
   "id": "618dd474",
   "metadata": {},
   "outputs": [
    {
     "data": {
      "text/plain": [
       "'S:\\\\New folder\\\\ZIC-ENG-VideoConverterPremium2021-21.2.0-ZNA-R1.msi'"
      ]
     },
     "execution_count": 11,
     "metadata": {},
     "output_type": "execute_result"
    }
   ],
   "source": [
    "UPN='ZIC-ENG-VideoConverterPremium2021-21.2.0-ZNA-R1.msi'\n",
    "Location='S:\\\\New folder'\n",
    "path=os.path.join(Location,UPN)\n",
    "path"
   ]
  },
  {
   "cell_type": "code",
   "execution_count": 8,
   "id": "bebd165a",
   "metadata": {},
   "outputs": [
    {
     "data": {
      "text/plain": [
       "'S:\\\\New folder'"
      ]
     },
     "execution_count": 8,
     "metadata": {},
     "output_type": "execute_result"
    }
   ],
   "source": [
    "os.getcwd()"
   ]
  },
  {
   "cell_type": "code",
   "execution_count": null,
   "id": "f5029d17",
   "metadata": {},
   "outputs": [],
   "source": []
  }
 ],
 "metadata": {
  "kernelspec": {
   "display_name": "Python 3 (ipykernel)",
   "language": "python",
   "name": "python3"
  },
  "language_info": {
   "codemirror_mode": {
    "name": "ipython",
    "version": 3
   },
   "file_extension": ".py",
   "mimetype": "text/x-python",
   "name": "python",
   "nbconvert_exporter": "python",
   "pygments_lexer": "ipython3",
   "version": "3.9.7"
  }
 },
 "nbformat": 4,
 "nbformat_minor": 5
}
