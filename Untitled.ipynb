{
 "cells": [
  {
   "cell_type": "code",
   "execution_count": 67,
   "id": "03997851",
   "metadata": {},
   "outputs": [],
   "source": [
    "from msilib import *\n",
    "import os\n",
    "\n",
    "def GetMsiProperty(path ,Properties):\n",
    "    db = OpenDatabase(path,MSIDBOPEN_READONLY)\n",
    "    view = db.OpenView (\"SELECT Value FROM Property WHERE Property='\" + Properties + \"'\")\n",
    "    view.Execute(None)\n",
    "    result = view.Fetch()\n",
    "    #print dir(result)\n",
    "    return result.GetString(1)\n",
    "#if u geting any error, just check the pwd()\n",
    "MSI='ZIC-ENG-VideoConverterPremium2021-21.2.0-ZNA-R1.msi'\n",
    "Location='S:\\\\New folder'\n",
    "path=os.path.join(Location,MSI)\n",
    "Properties=\"ProductCode\"\n",
    "productcode = GetMsiProperty(path ,Properties)\n",
    "UpgradeCode=GetMsiProperty(path,\"UpgradeCode\")\n"
   ]
  },
  {
   "cell_type": "code",
   "execution_count": 2,
   "id": "95c5f53b",
   "metadata": {},
   "outputs": [
    {
     "ename": "NameError",
     "evalue": "name 'os' is not defined",
     "output_type": "error",
     "traceback": [
      "\u001b[1;31m---------------------------------------------------------------------------\u001b[0m",
      "\u001b[1;31mNameError\u001b[0m                                 Traceback (most recent call last)",
      "\u001b[1;32mC:\\Users\\M461F~1.SHI\\AppData\\Local\\Temp/ipykernel_9400/1282873857.py\u001b[0m in \u001b[0;36m<module>\u001b[1;34m\u001b[0m\n\u001b[1;32m----> 1\u001b[1;33m \u001b[0mos\u001b[0m\u001b[1;33m.\u001b[0m\u001b[0mgetcwd\u001b[0m\u001b[1;33m(\u001b[0m\u001b[1;33m)\u001b[0m\u001b[1;33m\u001b[0m\u001b[1;33m\u001b[0m\u001b[0m\n\u001b[0m",
      "\u001b[1;31mNameError\u001b[0m: name 'os' is not defined"
     ]
    }
   ],
   "source": [
    "os.getcwd()"
   ]
  },
  {
   "cell_type": "code",
   "execution_count": 4,
   "id": "dd4cfed4",
   "metadata": {},
   "outputs": [
    {
     "data": {
      "text/plain": [
       "'NO FOUND...!'"
      ]
     },
     "execution_count": 4,
     "metadata": {},
     "output_type": "execute_result"
    }
   ],
   "source": [
    "import os \n",
    "os.chdir('S:\\\\New folder')\n",
    "for file in os.listdir():\n",
    "    if (\"ZIC\" in file ) or (file.startswith(\"ZCX\")) and (file.endswith(\".exe\")) and (file.endswith(\".msi\")):\n",
    "        l=[]\n",
    "        l.append(file)\n",
    "        for i in l:\n",
    "            if i.endswith(\".msi\"):\n",
    "                MSI=i\n",
    "#                 print(\"one\",i)\n",
    "                break\n",
    "    elif (file.startswith(\"ZIC\")) or (file.startswith(\"ZCX\")) and (file.endswith(\".mst\")):\n",
    "        MSI=file\n",
    "        break\n",
    "    elif (file.startswith(\"ZIC-\",0,2)) or (file.startswith(\"ZCX\")) and (file.endswith(\".msi\")):\n",
    "#         print(\"msi :\",file)\n",
    "        MSI=file\n",
    "        break\n",
    "    elif (file.startswith(\"ZIC-\")) or (file.startswith(\"ZCX-\")) and (file.endswith(\".exe\")):\n",
    "        MSI=file\n",
    "    else:\n",
    "        MSI=\"NO FOUND...!\"\n",
    "MSI\n",
    "# if MSI.endswith(\".msi\"):\n",
    "#     print(MSI)\n",
    "# else:\n",
    "#     print(MSI)"
   ]
  },
  {
   "cell_type": "code",
   "execution_count": 1,
   "id": "584f00cf",
   "metadata": {},
   "outputs": [
    {
     "ename": "NameError",
     "evalue": "name 'productcode' is not defined",
     "output_type": "error",
     "traceback": [
      "\u001b[1;31m---------------------------------------------------------------------------\u001b[0m",
      "\u001b[1;31mNameError\u001b[0m                                 Traceback (most recent call last)",
      "\u001b[1;32mC:\\Users\\M461F~1.SHI\\AppData\\Local\\Temp/ipykernel_13420/4052427743.py\u001b[0m in \u001b[0;36m<module>\u001b[1;34m\u001b[0m\n\u001b[1;32m----> 1\u001b[1;33m \u001b[0mproductcode\u001b[0m\u001b[1;33m\u001b[0m\u001b[1;33m\u001b[0m\u001b[0m\n\u001b[0m",
      "\u001b[1;31mNameError\u001b[0m: name 'productcode' is not defined"
     ]
    }
   ],
   "source": [
    "productcode"
   ]
  },
  {
   "cell_type": "code",
   "execution_count": 35,
   "id": "a6262189",
   "metadata": {},
   "outputs": [],
   "source": [
    "os.chdir('S:\\\\New folder')"
   ]
  },
  {
   "cell_type": "code",
   "execution_count": 70,
   "id": "fcdb7886",
   "metadata": {},
   "outputs": [],
   "source": [
    "UpgradeCode=GetMsiProperty(path,\"UpgradeCode\")"
   ]
  },
  {
   "cell_type": "code",
   "execution_count": 18,
   "id": "08b7179c",
   "metadata": {},
   "outputs": [
    {
     "data": {
      "text/plain": [
       "'{4F09A79E-6D72-4D5A-A665-B6AEE12E1D18}'"
      ]
     },
     "execution_count": 18,
     "metadata": {},
     "output_type": "execute_result"
    }
   ],
   "source": [
    "UpgradeCode"
   ]
  },
  {
   "cell_type": "code",
   "execution_count": 28,
   "id": "be270826",
   "metadata": {},
   "outputs": [
    {
     "name": "stdout",
     "output_type": "stream",
     "text": [
      "b'Shivaprasad Reddy.M -DXC/HYD'\n"
     ]
    }
   ],
   "source": [
    "import msilib\n",
    "path = \"S:\\\\New folder\\\\ZIC-ENG-VideoConverterPremium2021-21.2.0-ZNA-R1.msi\"\n",
    "dbobject = msilib.OpenDatabase(path, msilib.MSIDBOPEN_READONLY)\n",
    "view = dbobject.GetSummaryInformation(200)\n",
    "# result = view.Fetch()\n",
    "print(view.GetProperty(4))"
   ]
  },
  {
   "cell_type": "code",
   "execution_count": 11,
   "id": "618dd474",
   "metadata": {},
   "outputs": [
    {
     "data": {
      "text/plain": [
       "'S:\\\\New folder\\\\ZIC-ENG-VideoConverterPremium2021-21.2.0-ZNA-R1.msi'"
      ]
     },
     "execution_count": 11,
     "metadata": {},
     "output_type": "execute_result"
    }
   ],
   "source": [
    "UPN='ZIC-ENG-VideoConverterPremium2021-21.2.0-ZNA-R1.msi'\n",
    "Location='S:\\\\New folder'\n",
    "path=os.path.join(Location,UPN)\n",
    "path"
   ]
  },
  {
   "cell_type": "code",
   "execution_count": 8,
   "id": "bebd165a",
   "metadata": {},
   "outputs": [
    {
     "data": {
      "text/plain": [
       "'S:\\\\New folder'"
      ]
     },
     "execution_count": 8,
     "metadata": {},
     "output_type": "execute_result"
    }
   ],
   "source": [
    "os.getcwd()"
   ]
  },
  {
   "cell_type": "code",
   "execution_count": null,
   "id": "f5029d17",
   "metadata": {},
   "outputs": [],
   "source": []
  }
 ],
 "metadata": {
  "kernelspec": {
   "display_name": "Python 3 (ipykernel)",
   "language": "python",
   "name": "python3"
  },
  "language_info": {
   "codemirror_mode": {
    "name": "ipython",
    "version": 3
   },
   "file_extension": ".py",
   "mimetype": "text/x-python",
   "name": "python",
   "nbconvert_exporter": "python",
   "pygments_lexer": "ipython3",
   "version": "3.9.7"
  }
 },
 "nbformat": 4,
 "nbformat_minor": 5
}
