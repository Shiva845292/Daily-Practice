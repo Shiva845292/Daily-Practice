{
 "cells": [
  {
   "cell_type": "code",
   "execution_count": 11,
   "id": "23f835bd",
   "metadata": {},
   "outputs": [
    {
     "name": "stdout",
     "output_type": "stream",
     "text": [
      "new file is created..!\n"
     ]
    }
   ],
   "source": [
    "import docx\n",
    "import os\n",
    "\n",
    "\n",
    "def main():\n",
    "    template_file_path = \"S:\\\\New folder\\\\Oldfile.docx\"\n",
    "    output_file_path = \"S:\\\\New folder\\\\New.docx\"\n",
    "\n",
    "    variables = {\n",
    "        \"${EMPLOEE_NAME}\": \"Shiva\",\n",
    "        \"${UPN}\": \"Software Engineer\"\n",
    "    }\n",
    "\n",
    "    template_document = docx.Document(template_file_path)\n",
    "\n",
    "    for variable_key, variable_value in variables.items():\n",
    "        for paragraph in template_document.paragraphs:\n",
    "            replace_text_in_paragraph(paragraph, variable_key, variable_value)\n",
    "\n",
    "        for table in template_document.tables:\n",
    "            for col in table.columns:\n",
    "                for cell in col.cells:\n",
    "                    for paragraph in cell.paragraphs:\n",
    "                        replace_text_in_paragraph(paragraph, variable_key, variable_value)\n",
    "\n",
    "    template_document.save(output_file_path)\n",
    "\n",
    "\n",
    "def replace_text_in_paragraph(paragraph, key, value):\n",
    "    if key in paragraph.text:\n",
    "        inline = paragraph.runs\n",
    "        for item in inline:\n",
    "            if key in item.text:\n",
    "                item.text = item.text.replace(key, value)\n",
    "\n",
    "\n",
    "if __name__ == '__main__':\n",
    "    main()\n"
   ]
  },
  {
   "cell_type": "code",
   "execution_count": 6,
   "id": "e7abd4e8",
   "metadata": {},
   "outputs": [
    {
     "name": "stdout",
     "output_type": "stream",
     "text": [
      "saved\n",
      "C:\\Users\\M.shivaprasadreddy\\Desktop\\Python\n"
     ]
    }
   ],
   "source": [
    "from docx import Document\n",
    "import os\n",
    "document = Document()\n",
    "p=document.add_heading('Shivaprasad', 0)\n",
    "document.save('demo.docx')\n",
    "print(\"saved\")\n",
    "print(os.getcwd())"
   ]
  },
  {
   "cell_type": "code",
   "execution_count": 17,
   "id": "3a97c9b8",
   "metadata": {},
   "outputs": [
    {
     "data": {
      "text/plain": [
       "'Global Application Packaging Report\\n\\t\\nPackage Build Report v1.A for\\n${UPN}\\n\\nSummary Details\\n\\nChange History\\n\\nApplication Details\\n\\nPackage Details\\nPrerequisites and Dependencies\\n\\n\\nSecurity\\n\\n\\n\\n\\n\\n\\nUninstalls/Upgrade\\n\\n\\n\\n\\n\\nScripting Additions\\n\\nPackage Installation\\nStatistics\\n\\nManual Installation Instructions\\n${UPN}_Install.exe /s\\n\\nAutomated Install Command Line\\n${UPN}_Install.exe /s\\n\\nAutomated Uninstall Command Line\\n${UPN}_UnInstall.exe /s\\n\\nMSI Logging\\n\\n\\nVerification Tests\\n\\n\\nKnown Issues & Restrictions \\n\\n\\nClient/Server Application - Data Connections\\n\\nData Sources\\n\\n\\nFile Access\\n\\n\\nMiddleware Configuration\\n\\n\\n\\nAbbreviations\\n\\n\\n\\nReferences \\nPackage Test Plan\\nPackage Record in Packaging Database\\n\\nAnalysis Aids\\n\\n'"
      ]
     },
     "execution_count": 17,
     "metadata": {},
     "output_type": "execute_result"
    }
   ],
   "source": [
    "import os \n",
    "import docx\n",
    "os.chdir(\"S:\\\\New folder\")\n",
    "def getText(filename):\n",
    "    doc = docx.Document(filename)\n",
    "    fullText = []\n",
    "    for para in doc.paragraphs:\n",
    "        fullText.append(para.text)\n",
    "    return '\\n'.join(fullText)\n",
    "getText(\"Oldfile.docx\")\n",
    "# document=Document(\"Oldfile.docx\")\n",
    "# print(len(document.paragraphs))\n",
    "# # document.paragraphs[2].runs[0].text\n",
    "# for i in range(len(document.paragraphs)):\n",
    "#     print(document.paragraphs[i].runs[0].text)"
   ]
  },
  {
   "cell_type": "code",
   "execution_count": 56,
   "id": "60400003",
   "metadata": {},
   "outputs": [
    {
     "name": "stdout",
     "output_type": "stream",
     "text": [
      "Application Description\t  Cloud Agent\t  \n",
      "Supplier Name \t  Qualys\t  \n",
      "Supplier Internet address\t  NA\t  \n",
      "Application Components\t  N/A\t  \n",
      "License Details\t  N/A\t  \n",
      "Application Owner/SME \t  mike.kehl@zurichna.com\t  \n",
      "\n"
     ]
    }
   ],
   "source": [
    "import docx\n",
    "doc = docx.Document(\"Oldfile.docx\")\n",
    "\n",
    "for index, table in enumerate(doc.tables):\n",
    "# \tprint(\"Table\", index)\n",
    "    if index == 2:\n",
    "        for row in range(len(table.rows)):\n",
    "            for col in range(len(table.columns)):\n",
    "                    print(table.cell(row, col).text, end=\"\\t  \")\n",
    "            print()\n",
    "        print()"
   ]
  },
  {
   "cell_type": "code",
   "execution_count": 53,
   "id": "f08c1948",
   "metadata": {},
   "outputs": [
    {
     "name": "stdout",
     "output_type": "stream",
     "text": [
      "THIS Upgrade Code\n"
     ]
    }
   ],
   "source": [
    "import re \n",
    "doc = docx.Document(\"Oldfile.docx\")\n",
    "for table in doc.tables:\n",
    "    for row in table.rows:\n",
    "        for cell in row.cells:\n",
    "            for paragraph in cell.paragraphs:\n",
    "                if paragraph.text.endswith(\"Code\"):\n",
    "                    print(\"THIS\",paragraph.text)\n",
    "                else:\n",
    "                    pass"
   ]
  },
  {
   "cell_type": "code",
   "execution_count": 67,
   "id": "1711fbe1",
   "metadata": {
    "scrolled": true
   },
   "outputs": [
    {
     "name": "stdout",
     "output_type": "stream",
     "text": [
      "\tGlobal Application Packaging Report Template 1.3.1.doc\n",
      "\t\t\n",
      "\n"
     ]
    }
   ],
   "source": [
    "from docx import Document\n",
    "document = Document(\"Oldfile.docx\")\n",
    "section = document.sections[0]\n",
    "header = section.header\n",
    "header_para = header.paragraphs[0]\n",
    "header_para.text = \"\\tGlobal Application Packaging Report Template 1.3.1.doc\"\n",
    "# document.add_heading('GeeksForGeeks')\n",
    "for paragraph in header.paragraphs:\n",
    "    print(paragraph.text)\n",
    "document.save(\"new.docx\")"
   ]
  },
  {
   "cell_type": "code",
   "execution_count": 71,
   "id": "f24aad2a",
   "metadata": {},
   "outputs": [
    {
     "name": "stdout",
     "output_type": "stream",
     "text": [
      "ZIC-ENG-VideoConverterPremium64-21.2.0-ZNA-R1\n",
      "ZNA\n"
     ]
    }
   ],
   "source": [
    "s=\"ZIC-ENG-VideoConverterPremium64-21.2.0-ZNA-R1\"\n",
    "if (\"64-\" in s):\n",
    "    print(s)\n",
    "print(s[len(s)-6:len(s)-3])"
   ]
  },
  {
   "cell_type": "code",
   "execution_count": 8,
   "id": "9c8caace",
   "metadata": {},
   "outputs": [
    {
     "name": "stdout",
     "output_type": "stream",
     "text": [
      "Requirement already satisfied: python-docx in c:\\users\\m.shivaprasadreddy\\anaconda3\\lib\\site-packages (0.8.11)\n",
      "Requirement already satisfied: lxml>=2.3.2 in c:\\users\\m.shivaprasadreddy\\anaconda3\\lib\\site-packages (from python-docx) (4.6.3)\n"
     ]
    }
   ],
   "source": [
    "!pip install python-docx"
   ]
  },
  {
   "cell_type": "code",
   "execution_count": 12,
   "id": "1623391f",
   "metadata": {},
   "outputs": [],
   "source": [
    "import docx"
   ]
  },
  {
   "cell_type": "code",
   "execution_count": null,
   "id": "f497ee0b",
   "metadata": {},
   "outputs": [],
   "source": [
    "from msilib import *\n",
    "import os\n",
    "\n",
    "def GetMsiProperty(path ,ProductCode):\n",
    "    db = OpenDatabase(path,msilib.MSIDBOPEN_READONLY)\n",
    "    view = db.OpenView (\"SELECT Value FROM Property WHERE Property='\" + ProductCode + \"'\")\n",
    "    view.Execute(None)\n",
    "    result = view.Fetch()\n",
    "    #print dir(result)\n",
    "    return result.GetString(1)\n",
    "path\n",
    "productcode = GetMsiProperty('ZIC-ENG-VideoConverterPremium2021-21.2.0-ZNA-R1.msi' ,\"ProductCode\")"
   ]
  },
  {
   "cell_type": "code",
   "execution_count": null,
   "id": "1ae8d192",
   "metadata": {},
   "outputs": [],
   "source": []
  },
  {
   "cell_type": "code",
   "execution_count": null,
   "id": "17d6a962",
   "metadata": {},
   "outputs": [],
   "source": []
  },
  {
   "cell_type": "code",
   "execution_count": 1,
   "id": "d8139124",
   "metadata": {},
   "outputs": [
    {
     "ename": "MSIError",
     "evalue": "open failed",
     "output_type": "error",
     "traceback": [
      "\u001b[1;31m---------------------------------------------------------------------------\u001b[0m",
      "\u001b[1;31mMSIError\u001b[0m                                  Traceback (most recent call last)",
      "\u001b[1;32mC:\\Users\\M461F~1.SHI\\AppData\\Local\\Temp/ipykernel_3100/2954640688.py\u001b[0m in \u001b[0;36m<module>\u001b[1;34m\u001b[0m\n\u001b[0;32m      1\u001b[0m \u001b[1;32mimport\u001b[0m \u001b[0mmsilib\u001b[0m\u001b[1;33m\u001b[0m\u001b[1;33m\u001b[0m\u001b[0m\n\u001b[0;32m      2\u001b[0m \u001b[0mpath\u001b[0m \u001b[1;33m=\u001b[0m \u001b[1;34m\"S:\\\\New folder\\\\ZIC-ENG-VideoConverterPremium2021-21.2.0-ZNA-R1.msi\"\u001b[0m \u001b[1;31m#I cannot share msi\u001b[0m\u001b[1;33m\u001b[0m\u001b[1;33m\u001b[0m\u001b[0m\n\u001b[1;32m----> 3\u001b[1;33m \u001b[0mdbobject\u001b[0m \u001b[1;33m=\u001b[0m \u001b[0mmsilib\u001b[0m\u001b[1;33m.\u001b[0m\u001b[0mOpenDatabase\u001b[0m\u001b[1;33m(\u001b[0m\u001b[0mpath\u001b[0m\u001b[1;33m,\u001b[0m \u001b[0mmsilib\u001b[0m\u001b[1;33m.\u001b[0m\u001b[0mMSIDBOPEN_READONLY\u001b[0m\u001b[1;33m)\u001b[0m\u001b[1;33m\u001b[0m\u001b[1;33m\u001b[0m\u001b[0m\n\u001b[0m\u001b[0;32m      4\u001b[0m \u001b[0mview\u001b[0m \u001b[1;33m=\u001b[0m \u001b[0mdbobject\u001b[0m\u001b[1;33m.\u001b[0m\u001b[0mGetSummaryInformation\u001b[0m\u001b[1;33m(\u001b[0m\u001b[1;36m200\u001b[0m\u001b[1;33m)\u001b[0m\u001b[1;33m\u001b[0m\u001b[1;33m\u001b[0m\u001b[0m\n\u001b[0;32m      5\u001b[0m \u001b[1;31m# result = view.Fetch()\u001b[0m\u001b[1;33m\u001b[0m\u001b[1;33m\u001b[0m\u001b[0m\n",
      "\u001b[1;31mMSIError\u001b[0m: open failed"
     ]
    }
   ],
   "source": [
    "import msilib\n",
    "path = \"S:\\\\New folder\\\\ZIC-ENG-VideoConverterPremium2021-21.2.0-ZNA-R1.msi\" #I cannot share msi\n",
    "dbobject = msilib.OpenDatabase(path, msilib.MSIDBOPEN_READONLY)\n",
    "view = dbobject.GetSummaryInformation(200)\n",
    "# result = view.Fetch()\n",
    "print(view.GetProperty(1))\n",
    "# rec = view.Execute()\n",
    "# s=view.Fetch()"
   ]
  },
  {
   "cell_type": "code",
   "execution_count": 60,
   "id": "fe3657eb",
   "metadata": {},
   "outputs": [],
   "source": [
    "from msilib import *\n",
    "\n",
    "def GetMsiProperty(path ,ProductCode):\n",
    "    db = OpenDatabase(path,msilib.MSIDBOPEN_READONLY)\n",
    "    view = db.OpenView (\"SELECT Value FROM Property WHERE Property='\" + ProductCode + \"'\")\n",
    "    view.Execute(None)\n",
    "    result = view.Fetch()\n",
    "    #print dir(result)\n",
    "    return result.GetString(1)\n",
    "msiVersion = GetMsiProperty('ZIC-ENG-VideoConverterPremium2021-21.2.0-ZNA-R1.msi' ,\"ProductCode\")"
   ]
  },
  {
   "cell_type": "code",
   "execution_count": 33,
   "id": "0377c44f",
   "metadata": {},
   "outputs": [
    {
     "data": {
      "text/plain": [
       "'C:\\\\Users\\\\M.shivaprasadreddy\\\\Desktop\\\\Python'"
      ]
     },
     "execution_count": 33,
     "metadata": {},
     "output_type": "execute_result"
    }
   ],
   "source": [
    "pwd"
   ]
  },
  {
   "cell_type": "code",
   "execution_count": 61,
   "id": "289d977c",
   "metadata": {},
   "outputs": [
    {
     "data": {
      "text/plain": [
       "'{8D1918E1-B5DB-42D7-8328-2B7BBA0A03D7}'"
      ]
     },
     "execution_count": 61,
     "metadata": {},
     "output_type": "execute_result"
    }
   ],
   "source": [
    "msiVersion"
   ]
  },
  {
   "cell_type": "code",
   "execution_count": 62,
   "id": "10d5e39b",
   "metadata": {},
   "outputs": [
    {
     "data": {
      "text/plain": [
       "'S:\\\\New folder\\\\ZIC-ENG-VideoConverterPremium2021-21.2.0-ZNA-R1.msi'"
      ]
     },
     "execution_count": 62,
     "metadata": {},
     "output_type": "execute_result"
    }
   ],
   "source": [
    "path"
   ]
  },
  {
   "cell_type": "code",
   "execution_count": null,
   "id": "ec3aebfe",
   "metadata": {},
   "outputs": [],
   "source": []
  }
 ],
 "metadata": {
  "kernelspec": {
   "display_name": "Python 3 (ipykernel)",
   "language": "python",
   "name": "python3"
  },
  "language_info": {
   "codemirror_mode": {
    "name": "ipython",
    "version": 3
   },
   "file_extension": ".py",
   "mimetype": "text/x-python",
   "name": "python",
   "nbconvert_exporter": "python",
   "pygments_lexer": "ipython3",
   "version": "3.9.7"
  }
 },
 "nbformat": 4,
 "nbformat_minor": 5
}
