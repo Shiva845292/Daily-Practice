{
 "cells": [
  {
   "cell_type": "code",
   "execution_count": 7,
   "id": "eb605f0f",
   "metadata": {},
   "outputs": [
    {
     "name": "stdout",
     "output_type": "stream",
     "text": [
      "2000\n",
      "True\n"
     ]
    }
   ],
   "source": [
    "#This means that in the Gregorian calendar, the years 2000 and 2400 are leap years, while 1800, 1900, 2100, 2200, 2300 and 2500 are NOT leap years.\n",
    "#400 % is leap year but not 100% \n",
    "def is_leap(year):\n",
    "    \n",
    "    if year%400 is 0:\n",
    "        return True\n",
    "    elif year%100 is 0:\n",
    "        return False\n",
    "    elif year%4==0:\n",
    "        return True\n",
    "    else:\n",
    "        return False\n",
    "year = int(input())\n",
    "print(is_leap(year))"
   ]
  },
  {
   "cell_type": "code",
   "execution_count": 17,
   "id": "b473a110",
   "metadata": {},
   "outputs": [
    {
     "name": "stdout",
     "output_type": "stream",
     "text": [
      "150\n",
      "123456789101112131415161718192021222324252627282930313233343536373839404142434445464748495051525354555657585960616263646566676869707172737475767778798081828384858687888990919293949596979899100101102103104105106107108109110111112113114115116117118119120121122123124125126127128129130131132133134135136137138139140141142143144145146147148149150"
     ]
    }
   ],
   "source": [
    "    n = int(input())\n",
    "    for i in range(1,n+1):\n",
    "        print(i, end=\"\")"
   ]
  },
  {
   "cell_type": "code",
   "execution_count": 16,
   "id": "5838bdd2",
   "metadata": {},
   "outputs": [
    {
     "name": "stdout",
     "output_type": "stream",
     "text": [
      "0123456789"
     ]
    }
   ],
   "source": [
    "n=10\n",
    "for i in range(n):\n",
    "    print(i, end=\"\")\n"
   ]
  },
  {
   "cell_type": "code",
   "execution_count": 81,
   "id": "e450f480",
   "metadata": {},
   "outputs": [
    {
     "name": "stdout",
     "output_type": "stream",
     "text": [
      "[[], [], [], []]\n"
     ]
    }
   ],
   "source": [
    "x=3\n",
    "y=3\n",
    "\n",
    "for i in range(x+1):\n",
    "    l.append([])\n",
    "    #for j in range(y+1):\n",
    "     #   l[i].append(i)\n",
    "print(l)"
   ]
  },
  {
   "cell_type": "code",
   "execution_count": 70,
   "id": "7ed82226",
   "metadata": {},
   "outputs": [
    {
     "name": "stdout",
     "output_type": "stream",
     "text": [
      "[[0, 1, 2, 3, 4], [0, 1, 2, 3, 4], [0, 1, 2, 3, 4], [0, 1, 2, 3, 4], [0, 1, 2, 3, 4]]\n"
     ]
    }
   ],
   "source": [
    "matrix = []\n",
    "\n",
    "for i in range(5):\n",
    "\t\n",
    "\t# Append an empty sublist inside the list\n",
    "\tmatrix.append([])\n",
    "\t\n",
    "\tfor j in range(5):\n",
    "\t\tmatrix[i].append(j)\n",
    "\t\t\n",
    "print(matrix)\n"
   ]
  },
  {
   "cell_type": "code",
   "execution_count": 2,
   "id": "09abad4d",
   "metadata": {},
   "outputs": [
    {
     "name": "stdout",
     "output_type": "stream",
     "text": [
      "2\n",
      "2\n",
      "2\n",
      "[[0, 0], [0, 1], [1, 0], [1, 2], [2, 1], [2, 2]]\n"
     ]
    }
   ],
   "source": [
    "x = int(input())\n",
    "y = int(input())\n",
    "#z = int(input())\n",
    "n = int(input())\n",
    "ans = [[i,j] for i in range(x + 1) for j in range(y + 1) if i + j  != n]\n",
    "print (ans)"
   ]
  },
  {
   "cell_type": "code",
   "execution_count": 11,
   "id": "73d9ae74",
   "metadata": {},
   "outputs": [
    {
     "name": "stdout",
     "output_type": "stream",
     "text": [
      "2\n",
      "qw\n",
      "32\n",
      "qw\n",
      "34\n",
      "{34.0, 'qw'}\n",
      "[['qw', 32.0], ['qw', 34.0]]\n"
     ]
    }
   ],
   "source": [
    "if __name__ == '__main__':\n",
    "    l=[]\n",
    "    for i in range(int(input())):\n",
    "        name = input()\n",
    "        score = float(input())\n",
    "        l.append([name,score])\n",
    "        l.sort()\n",
    "    print(s)\n",
    "    print(l)"
   ]
  },
  {
   "cell_type": "code",
   "execution_count": 27,
   "id": "7fd7bb90",
   "metadata": {},
   "outputs": [
    {
     "name": "stdout",
     "output_type": "stream",
     "text": [
      "fuwdvbe\n",
      "['fuwdvbe']\n",
      "fuwdvbe\n"
     ]
    }
   ],
   "source": [
    "n=input().split()\n",
    "print(n)\n",
    "print(n[0])"
   ]
  },
  {
   "cell_type": "code",
   "execution_count": 6,
   "id": "fb7999f2",
   "metadata": {},
   "outputs": [
    {
     "name": "stdout",
     "output_type": "stream",
     "text": [
      "32\n",
      "422\n",
      "543\n",
      "577\n",
      "{32, 577, 422, 543}\n",
      "543\n",
      "[32, 422, 543, 577]\n"
     ]
    }
   ],
   "source": [
    "#runner-up\n",
    "l=[]\n",
    "for i in range(4):\n",
    "    n=int(input())\n",
    "    l.append(n)\n",
    "l.sort()\n",
    "print(set(l))\n",
    "s=list(set(l))\n",
    "print(l[-2])\n",
    "print(l)"
   ]
  },
  {
   "cell_type": "code",
   "execution_count": 40,
   "id": "622ac72c",
   "metadata": {},
   "outputs": [
    {
     "name": "stdout",
     "output_type": "stream",
     "text": [
      "AJKhjiNANijiKANkKNKN\n"
     ]
    }
   ],
   "source": [
    "s='ajkHJInanIJIkanKknkn'\n",
    "'''\n",
    "for i in s:\n",
    "    if (i.islower()) == True:\n",
    "        print(i.upper(), end='')\n",
    "    elif (i.isupper()) == True:\n",
    "        print(i.lower(), end='')\n",
    "'''\n",
    "print(s.swapcase())\n",
    "        s."
   ]
  },
  {
   "cell_type": "code",
   "execution_count": 12,
   "id": "5ae0175e",
   "metadata": {},
   "outputs": [
    {
     "name": "stdout",
     "output_type": "stream",
     "text": [
      "12 26 1996\n",
      "Thursday\n"
     ]
    }
   ],
   "source": [
    "import datetime\n",
    "import calendar\n",
    "\n",
    "m, d, y = map(int, input().split())\n",
    "input_date = datetime.date(y, m, d)\n",
    "print(calendar.day_name[input_date.weekday()])\n"
   ]
  },
  {
   "cell_type": "code",
   "execution_count": 15,
   "id": "308ec69e",
   "metadata": {},
   "outputs": [
    {
     "name": "stdout",
     "output_type": "stream",
     "text": [
      "1996\n",
      "12\n",
      "26\n",
      "THURSDAY\n"
     ]
    }
   ],
   "source": [
    "import datetime\n",
    "year=int(input())\n",
    "month=int(input())\n",
    "day=int(input())\n",
    "p=datetime.date(year,month,day)\n",
    "print(calendar.day_name[p.weekday()].upper())"
   ]
  },
  {
   "cell_type": "code",
   "execution_count": 7,
   "id": "2b4ecd21",
   "metadata": {},
   "outputs": [
    {
     "name": "stdout",
     "output_type": "stream",
     "text": [
      "2\n",
      "Anurag 26 28 30\n",
      "Harsh 25 26.5 28\n",
      "Harsh\n",
      "the total is:  79.5\n",
      "26.5\n"
     ]
    }
   ],
   "source": [
    "# percentage\n",
    "if __name__ == '__main__':\n",
    "    n = int(input())\n",
    "    student_marks = {}\n",
    "    for _ in range(n):\n",
    "        name, *line = input().split()\n",
    "        scores = list(map(float, line))\n",
    "        student_marks[name] = scores\n",
    "    query_name = input()\n",
    "    avg=0\n",
    "    c=0\n",
    "    for i in student_marks[query_name]:\n",
    "            c=c+i\n",
    "    print(\"the total is: \", c)\n",
    "    avg=c/(len(scores))\n",
    "    print(avg)"
   ]
  },
  {
   "cell_type": "code",
   "execution_count": 16,
   "id": "19f64684",
   "metadata": {},
   "outputs": [
    {
     "name": "stdout",
     "output_type": "stream",
     "text": [
      "8.30\n"
     ]
    }
   ],
   "source": [
    "a=8.3\n",
    "print('%.2f'%a)"
   ]
  },
  {
   "cell_type": "code",
   "execution_count": 1,
   "id": "314944a1",
   "metadata": {},
   "outputs": [
    {
     "name": "stdout",
     "output_type": "stream",
     "text": [
      "2\n",
      "enter 1st name and numbers: append 32\n",
      "enter 1st name and numbers: print\n",
      "[32]\n"
     ]
    }
   ],
   "source": [
    "#list\n",
    "if __name__ == '__main__':\n",
    "    N = int(input())\n",
    "    n=0\n",
    "    l=[]\n",
    "    for i in range(N):\n",
    "        c,*b=input('enter 1st name and numbers: ').split()\n",
    "        b=list(map(int,b))\n",
    "        if c == 'print':\n",
    "            print(l)\n",
    "        elif c == 'pop':\n",
    "            l.pop(-1)\n",
    "        elif c=='reverse':\n",
    "            l.reverse()\n",
    "        elif c== 'sort':\n",
    "            l.sort()\n",
    "        elif c=='append':\n",
    "            l.append(b[0])\n",
    "        elif c== 'insert':\n",
    "            l.insert(b[0],b[1])\n",
    "        elif c=='remove':\n",
    "            n=int(input())\n",
    "            l.remove(n)\n",
    "        else:\n",
    "            print('invalid entry')"
   ]
  },
  {
   "cell_type": "code",
   "execution_count": 8,
   "id": "04bc1b45",
   "metadata": {},
   "outputs": [
    {
     "name": "stdout",
     "output_type": "stream",
     "text": [
      "3\n",
      "A\n",
      "10\n",
      "B\n",
      "5\n",
      "C\n",
      "3\n",
      "[['A', 10.0], ['B', 5.0], ['C', 3.0]]\n"
     ]
    }
   ],
   "source": [
    "if __name__ == '__main__':\n",
    "    l=[]\n",
    "    for i in range(int(input())):\n",
    "        name = input()\n",
    "        score = float(input())\n",
    "        l.append([name,score])\n",
    "    l.sort()\n",
    "    print(l)"
   ]
  },
  {
   "cell_type": "code",
   "execution_count": null,
   "id": "555548e0",
   "metadata": {},
   "outputs": [],
   "source": []
  }
 ],
 "metadata": {
  "kernelspec": {
   "display_name": "Python 3 (ipykernel)",
   "language": "python",
   "name": "python3"
  },
  "language_info": {
   "codemirror_mode": {
    "name": "ipython",
    "version": 3
   },
   "file_extension": ".py",
   "mimetype": "text/x-python",
   "name": "python",
   "nbconvert_exporter": "python",
   "pygments_lexer": "ipython3",
   "version": "3.9.7"
  }
 },
 "nbformat": 4,
 "nbformat_minor": 5
}
