{
 "cells": [
  {
   "cell_type": "code",
   "execution_count": 7,
   "id": "eb605f0f",
   "metadata": {},
   "outputs": [
    {
     "name": "stdout",
     "output_type": "stream",
     "text": [
      "2000\n",
      "True\n"
     ]
    }
   ],
   "source": [
    "#This means that in the Gregorian calendar, the years 2000 and 2400 are leap years, while 1800, 1900, 2100, 2200, 2300 and 2500 are NOT leap years.\n",
    "#400 % is leap year but not 100% \n",
    "def is_leap(year):\n",
    "    \n",
    "    if year%400 is 0:\n",
    "        return True\n",
    "    elif year%100 is 0:\n",
    "        return False\n",
    "    elif year%4==0:\n",
    "        return True\n",
    "    else:\n",
    "        return False\n",
    "year = int(input())\n",
    "print(is_leap(year))"
   ]
  },
  {
   "cell_type": "code",
   "execution_count": null,
   "id": "551739b5",
   "metadata": {},
   "outputs": [],
   "source": [
    "def destroytime(l,t):\n",
    "    \n",
    "launch=input()\n",
    "travel=input()\n",
    "re=destroytime(launch,travel)\n",
    "print(re)"
   ]
  },
  {
   "cell_type": "code",
   "execution_count": 24,
   "id": "9c507c07",
   "metadata": {},
   "outputs": [
    {
     "data": {
      "text/plain": [
       "118"
      ]
     },
     "execution_count": 24,
     "metadata": {},
     "output_type": "execute_result"
    }
   ],
   "source": [
    "60"
   ]
  },
  {
   "cell_type": "code",
   "execution_count": 53,
   "id": "4bd5cfae",
   "metadata": {},
   "outputs": [
    {
     "name": "stdout",
     "output_type": "stream",
     "text": [
      "Wall time: 0 ns\n",
      "02 17\n"
     ]
    }
   ],
   "source": [
    "\n",
    "#siri \n",
    "\n",
    "\n",
    "s=input()\n",
    "l=input()\n",
    "q=int(s[:2])+int(l[:2])\n",
    "p=int(s[2:])+int(l[2:])\n",
    "z=z1=0\n",
    "if p>=60:\n",
    "    p=p-60\n",
    "    z1+=1\n",
    "q=q+z1\n",
    "if q>=24:\n",
    "    q=q-24\n",
    "if len(str(q))==1:\n",
    "    q=\"0\"+str(q)\n",
    "if len(str(p))==1:\n",
    "    p=\"0\"+str(p)\n",
    "print(str(q)+\" \"+(str(p))) \n",
    "\n",
    "    \n",
    "    \n"
   ]
  },
  {
   "cell_type": "code",
   "execution_count": 1,
   "id": "85156ce5",
   "metadata": {},
   "outputs": [
    {
     "data": {
      "text/plain": [
       "[('s', 1212), ('h', 1221), ('i', 1212), ('v', 2323), ('a', 3434)]"
      ]
     },
     "execution_count": 1,
     "metadata": {},
     "output_type": "execute_result"
    }
   ],
   "source": [
    "list(zip(\"shiva\",[1212,1221,1212,2323,3434,5445]))"
   ]
  },
  {
   "cell_type": "code",
   "execution_count": 14,
   "id": "2a341b6e",
   "metadata": {},
   "outputs": [
    {
     "name": "stdout",
     "output_type": "stream",
     "text": [
      "04:59:59\n"
     ]
    }
   ],
   "source": [
    "s=\"04:59:59AM\"\n",
    "if s[:7:-1] == \"MP\"and s[:2]==\"12\":\n",
    "    print(s[:8])\n",
    "elif s[:7:-1] == \"MP\":\n",
    "    w=int(s[:2])+12\n",
    "    q=s.replace(s[:2],str(w))\n",
    "    print(q[:8])\n",
    "elif s[:7:-1] == \"MA\" and s[:2]==\"12\":\n",
    "    q1=s.replace(s[:2],\"00\")\n",
    "    print(q1[:8])\n",
    "elif s[:7:-1] == \"MA\":\n",
    "    print(s[:8])"
   ]
  },
  {
   "cell_type": "code",
   "execution_count": 37,
   "id": "649f0d02",
   "metadata": {},
   "outputs": [
    {
     "name": "stdout",
     "output_type": "stream",
     "text": [
      "6\n",
      "-4 3 -9 0 4 1\n",
      "0.5000\n",
      "0.3333\n",
      "0.1667\n"
     ]
    }
   ],
   "source": [
    "def plusMinus(arr):\n",
    "    # Write your code here\n",
    "    p=n=z=0\n",
    "    for i in arr:\n",
    "        if i>0:\n",
    "            p+=1\n",
    "        elif i<0:\n",
    "            n+=1\n",
    "        else:\n",
    "            z+=1\n",
    "    p1=p/len(arr)\n",
    "    n1=n/len(arr)\n",
    "    z1=z/len(arr)\n",
    "    print(\"%.4f\" % p1)\n",
    "    print(\"%.4f\" % n1)\n",
    "    print(\"%.4f\" % z1)\n",
    "#     return((\"%.4f\" %p1),(\"%.4f\" %n1),(\"%.4f\"%z1))\n",
    "if __name__ == '__main__':\n",
    "    n = int(input().strip())\n",
    "\n",
    "    arr = list(map(int, input().rstrip().split()))\n",
    "\n",
    "    plusMinus(arr)"
   ]
  },
  {
   "cell_type": "code",
   "execution_count": 49,
   "id": "ca25908d",
   "metadata": {},
   "outputs": [
    {
     "name": "stdout",
     "output_type": "stream",
     "text": [
      "Counter({34: 2, 95: 2, 64: 2, 16: 2, 80: 2, 75: 2, 3: 2, 25: 2, 31: 2, 45: 1})\n",
      "45\n"
     ]
    }
   ],
   "source": [
    "import collections\n",
    "a=[34,95, 34 ,64, 45, 95, 16, 80, 80, 75, 3 ,25 ,75 ,25, 31, 3 ,64 ,16 ,31]\n",
    "l=collections.Counter(a)\n",
    "print(l)\n",
    "for i in l:\n",
    "    if  l[i]== 1:\n",
    "        print(i)\n"
   ]
  },
  {
   "cell_type": "code",
   "execution_count": 20,
   "id": "88ac383e",
   "metadata": {},
   "outputs": [
    {
     "name": "stdout",
     "output_type": "stream",
     "text": [
      "2\n",
      "212122121\n",
      "998898989\n",
      "NO\n",
      "NO\n",
      "['212122121', '998898989']\n"
     ]
    }
   ],
   "source": [
    "# vallided phone number\n",
    "import re\n",
    "n=int(input())\n",
    "l=[]\n",
    "for i in range(n):\n",
    "    m=input()\n",
    "    l.append(m)\n",
    "for i in l:\n",
    "    if len(i) == 10 and re.findall(\"[9|8|7]\\d{9}\",i):\n",
    "        print(\"YES\")\n",
    "    else:\n",
    "        print(\"NO\")\n",
    "print(l)        \n",
    "        \n",
    "        \n",
    "            "
   ]
  },
  {
   "cell_type": "code",
   "execution_count": 26,
   "id": "607c2e2d",
   "metadata": {},
   "outputs": [
    {
     "name": "stdout",
     "output_type": "stream",
     "text": [
      "10.0000\n"
     ]
    }
   ],
   "source": [
    "a=10\n",
    "print(\"%.4f\" % a)"
   ]
  },
  {
   "cell_type": "code",
   "execution_count": null,
   "id": "d8340ed2",
   "metadata": {},
   "outputs": [],
   "source": []
  },
  {
   "cell_type": "code",
   "execution_count": 8,
   "id": "63075497",
   "metadata": {},
   "outputs": [
    {
     "name": "stdout",
     "output_type": "stream",
     "text": [
      "12 21 \n",
      "23 432 \n",
      "17.5\n",
      "226.5\n"
     ]
    }
   ],
   "source": [
    "l=[]\n",
    "for i in range(2):\n",
    "    i=map(float,input().split())\n",
    "    l.append(i)\n",
    "for i in zip(*l):\n",
    "    print(sum(i)/2)\n",
    "\n",
    "    "
   ]
  },
  {
   "cell_type": "code",
   "execution_count": 9,
   "id": "2e8eb01d",
   "metadata": {},
   "outputs": [
    {
     "name": "stdout",
     "output_type": "stream",
     "text": [
      "Counter({1: 2, 2: 2, 3: 2, 4: 2, 5: 2, 6: 2, 7: 2, 8: 2, 9: 2, 10: 2, 200: 1})\n",
      "1 2 3 4 5 6 7 8 9 10 200 \n",
      "\n",
      "200\n"
     ]
    }
   ],
   "source": [
    "from collections import Counter\n",
    "s=[1,2,3,4,5,6,7,8,9,9,8,7,6,5,4,3,2,1,10,10,200]\n",
    "s1=Counter(s)\n",
    "print(s1)\n",
    "for i in s1:\n",
    "    print(i, end=\" \")\n",
    "    if s1[i] == 1 :\n",
    "#         print(s1.values)\n",
    "        print(\"\\n\")\n",
    "        print(i)"
   ]
  },
  {
   "cell_type": "code",
   "execution_count": null,
   "id": "c5a2a8b4",
   "metadata": {},
   "outputs": [],
   "source": [
    "import collections\n",
    "collections."
   ]
  },
  {
   "cell_type": "code",
   "execution_count": null,
   "id": "2aa05336",
   "metadata": {},
   "outputs": [],
   "source": []
  },
  {
   "cell_type": "code",
   "execution_count": null,
   "id": "c46a3815",
   "metadata": {},
   "outputs": [],
   "source": []
  },
  {
   "cell_type": "code",
   "execution_count": null,
   "id": "4dfb1aa1",
   "metadata": {},
   "outputs": [],
   "source": []
  },
  {
   "cell_type": "code",
   "execution_count": null,
   "id": "93b54f93",
   "metadata": {},
   "outputs": [],
   "source": []
  },
  {
   "cell_type": "code",
   "execution_count": null,
   "id": "144b45fc",
   "metadata": {},
   "outputs": [],
   "source": []
  },
  {
   "cell_type": "code",
   "execution_count": 6,
   "id": "e40c4c05",
   "metadata": {},
   "outputs": [
    {
     "name": "stdout",
     "output_type": "stream",
     "text": [
      "32 24  245 314 1 23 1 2123 \n",
      "3\n",
      "pop\n",
      "pop\n",
      "discard 1\n",
      "2729\n"
     ]
    }
   ],
   "source": [
    "#set\n",
    "#n = int(input())\n",
    "def RPD_set(s):\n",
    "    m=int(input())\n",
    "    for i in range(m):\n",
    "        c=input().split()\n",
    "        #b=set(map(int,b))\n",
    "        if c[0] == 'pop':\n",
    "            s.pop()\n",
    "        elif c[0] == 'remove':\n",
    "            s.remove(int(c[1]))\n",
    "        elif c[0] == 'discard':\n",
    "            s.discard(int(c[1]))\n",
    "        else:\n",
    "            print('invalid entry: ')\n",
    "    return s\n",
    "s = set(map(int, input().split()))\n",
    "result=sum(list(RPD_set(s)))\n",
    "print(result)"
   ]
  },
  {
   "cell_type": "code",
   "execution_count": null,
   "id": "b662d9c4",
   "metadata": {},
   "outputs": [],
   "source": [
    "def set_mutation(s):\n",
    "    m=int(input('entr loop'))\n",
    "    for i in range(m):\n",
    "        n,*b=input().split()\n",
    "        b=set(map(int,b))\n",
    "        if n[0]=='intersection_update':\n",
    "            s.intersection_update(b)\n",
    "        elif n[0]=='update':\n",
    "            s.update(b)\n",
    "        elif n[0]=='symmetric_difference_update':\n",
    "            s.symmetric_difference_update(b)\n",
    "        elif n[0]=='difference_update':\n",
    "            s.difference_update(b)\n",
    "    return s            \n",
    "n=int(input('enter numbr'))\n",
    "s=set(map(int,input('enter set').split()))\n",
    "result=sum(list(set_mutation(s)))\n",
    "print(result)\n"
   ]
  },
  {
   "cell_type": "code",
   "execution_count": 1,
   "id": "babd600a",
   "metadata": {},
   "outputs": [
    {
     "name": "stdout",
     "output_type": "stream",
     "text": [
      "9\n",
      "1 2 3 4 5 6 7 8 9\n",
      "9\n",
      "10 1 2 3 11 21 55 6 8\n",
      "13\n"
     ]
    }
   ],
   "source": [
    "#set union\n",
    "n = int(input())\n",
    "s = set(map(int, input().split()))\n",
    "m=int(input())\n",
    "s1=set(map(int, input().split()))\n",
    "s2=s.union(s1)\n",
    "print(len(s2))"
   ]
  },
  {
   "cell_type": "code",
   "execution_count": 2,
   "id": "550724c0",
   "metadata": {},
   "outputs": [
    {
     "name": "stdout",
     "output_type": "stream",
     "text": [
      "5\n",
      "a\n",
      "100\n",
      "b\n",
      "98\n",
      "c\n",
      "99\n",
      "d\n",
      "102\n",
      "e\n",
      "99\n",
      "e\n",
      "c\n"
     ]
    }
   ],
   "source": [
    "# second lowest score \n",
    "if __name__ == '__main__':\n",
    "    l=[]\n",
    "    l1=[]\n",
    "    s=[]\n",
    "    s1=[]\n",
    "    for i in range(int(input())):\n",
    "        name = input()\n",
    "        score = float(input())\n",
    "        l.append([name,score])\n",
    "    l.sort(key=lambda x: x[1])\n",
    "    s=l[0][1]\n",
    "    for i in range(len(l)):\n",
    "        if s<l[i][1]:\n",
    "            l1.append(l[i])\n",
    "    s1=l1[0][1]\n",
    "    for i in range(1,len(l1)):\n",
    "        if s1 == l1[i][1]:\n",
    "            print(l1[i][0])\n",
    "    print(l1[0][0])"
   ]
  },
  {
   "cell_type": "code",
   "execution_count": 6,
   "id": "6f9e1558",
   "metadata": {},
   "outputs": [
    {
     "name": "stdout",
     "output_type": "stream",
     "text": [
      "3\n",
      "shiva prasade redy\n",
      "5\n"
     ]
    }
   ],
   "source": [
    "#debug\n",
    "def is_vowel(letter):\n",
    "    return letter in ['a', 'e', 'i', 'o', 'u', 'y']\n",
    "\n",
    "def score_words(words):\n",
    "    score = 0\n",
    "    for word in words:\n",
    "        num_vowels = 0\n",
    "        for letter in word:\n",
    "            if is_vowel(letter):\n",
    "                num_vowels += 1\n",
    "        if num_vowels % 2 == 0:\n",
    "            score += 2\n",
    "        else:\n",
    "            score+=1\n",
    "    return score\n",
    "\n",
    "\n",
    "n = int(input())\n",
    "words = input().split()\n",
    "#print(is_vowel(letter))\n",
    "print(score_words(words))"
   ]
  },
  {
   "cell_type": "code",
   "execution_count": 3,
   "id": "4e5ac367",
   "metadata": {},
   "outputs": [
    {
     "name": "stdout",
     "output_type": "stream",
     "text": [
      "21 12 12 12 32 32 4 4 \n",
      "13 3 3 43 34 31  1 32 4 \n",
      "1\n",
      "3\n",
      "12\n",
      "13\n",
      "21\n",
      "31\n",
      "34\n",
      "43\n"
     ]
    }
   ],
   "source": [
    "#symmerti_difference in set\n",
    "#n=int(input())\n",
    "s=set(list(map(int,input().split())))\n",
    "#n1=int(input())\n",
    "s1=set(list(map(int,input().split())))\n",
    "s2=list(sorted(s.symmetric_difference(s1)))\n",
    "for i in s2:\n",
    "    print(i)"
   ]
  },
  {
   "cell_type": "code",
   "execution_count": 5,
   "id": "ad051e69",
   "metadata": {},
   "outputs": [
    {
     "name": "stdout",
     "output_type": "stream",
     "text": [
      "10\n",
      "161 182 161 154 176 170 167 171 170 174\n",
      "<class 'set'>\n",
      "169.375\n"
     ]
    }
   ],
   "source": [
    "#set\n",
    "def average(array):\n",
    "    s=0\n",
    "    avg=0\n",
    "    s1=set(arr)\n",
    "    for i in s1:\n",
    "        s=s+i\n",
    "    avg=s/len(s1)\n",
    "    print(type(s1))\n",
    "    return avg\n",
    "    # your code goes here\n",
    "\n",
    "if __name__ == '__main__':\n",
    "    n = int(input())\n",
    "    arr = list(map(int, input().split()))\n",
    "    result = average(arr)\n",
    "    print(result)\n",
    "    "
   ]
  },
  {
   "cell_type": "code",
   "execution_count": 2,
   "id": "bf47a8d2",
   "metadata": {},
   "outputs": [
    {
     "name": "stdout",
     "output_type": "stream",
     "text": [
      "iaiiidiaiaiiaiiaiaiaiaiiaiaiaiaiaiaiaiaiaiiaiaiaiiaiaia\n",
      "ia\n",
      "23\n"
     ]
    }
   ],
   "source": [
    "#counting strings with functions\n",
    "def count_substring(string, sub_string):\n",
    "    count=0\n",
    "    for i in range(len(string)):\n",
    "        if string[i:i+len(sub_string)]==sub_string:\n",
    "            count+=1\n",
    "    #return count\n",
    "    print(count)\n",
    "string = input().strip()\n",
    "sub_string = input().strip()    \n",
    "count = count_substring(string, sub_string)\n",
    "#print(count)"
   ]
  },
  {
   "cell_type": "code",
   "execution_count": 1,
   "id": "17d1f258",
   "metadata": {},
   "outputs": [
    {
     "name": "stdout",
     "output_type": "stream",
     "text": [
      "True\n",
      "True\n",
      "True\n",
      "True\n",
      "False\n"
     ]
    }
   ],
   "source": [
    "#print string type\n",
    "s='12inewfi'\n",
    "print(any(i.isalnum() for i in s ))\n",
    "print(any(i.isalpha() for i in s ))\n",
    "print(any(i.isdigit() for i in s))\n",
    "print(any(i.islower() for i in s ))\n",
    "print(any(i.isupper() for i in s ))"
   ]
  },
  {
   "cell_type": "code",
   "execution_count": null,
   "id": "eed157ee",
   "metadata": {},
   "outputs": [],
   "source": [
    "#funtions \n",
    "cube = lambda x: x**3\n",
    "def fibonacci(n):\n",
    "    l=[]\n",
    "    n1=0\n",
    "    n2=1\n",
    "    #n3=1\n",
    "    for i in range(n):\n",
    "        l.append(n1)\n",
    "        n=n1+n2\n",
    "        n1=n2\n",
    "        print(n1)\n",
    "        n2=n\n",
    "    # return a list of fibonacci numbers\n",
    "    \n",
    "    return l\n",
    "if __name__ == '__main__':\n",
    "    n = int(input())\n",
    "    print(list(map(cube, fibonacci(n))))"
   ]
  },
  {
   "cell_type": "code",
   "execution_count": 17,
   "id": "b473a110",
   "metadata": {},
   "outputs": [
    {
     "name": "stdout",
     "output_type": "stream",
     "text": [
      "150\n",
      "123456789101112131415161718192021222324252627282930313233343536373839404142434445464748495051525354555657585960616263646566676869707172737475767778798081828384858687888990919293949596979899100101102103104105106107108109110111112113114115116117118119120121122123124125126127128129130131132133134135136137138139140141142143144145146147148149150"
     ]
    }
   ],
   "source": [
    "    n = int(input())\n",
    "    for i in range(1,n+1):\n",
    "        print(i, end=\"\")"
   ]
  },
  {
   "cell_type": "code",
   "execution_count": 16,
   "id": "5838bdd2",
   "metadata": {},
   "outputs": [
    {
     "name": "stdout",
     "output_type": "stream",
     "text": [
      "0123456789"
     ]
    }
   ],
   "source": [
    "n=10\n",
    "for i in range(n):\n",
    "    print(i, end=\"\")\n"
   ]
  },
  {
   "cell_type": "code",
   "execution_count": 81,
   "id": "e450f480",
   "metadata": {},
   "outputs": [
    {
     "name": "stdout",
     "output_type": "stream",
     "text": [
      "[[], [], [], []]\n"
     ]
    }
   ],
   "source": [
    "x=3\n",
    "y=3\n",
    "\n",
    "for i in range(x+1):\n",
    "    l.append([])\n",
    "    #for j in range(y+1):\n",
    "     #   l[i].append(i)\n",
    "print(l)"
   ]
  },
  {
   "cell_type": "code",
   "execution_count": 70,
   "id": "7ed82226",
   "metadata": {},
   "outputs": [
    {
     "name": "stdout",
     "output_type": "stream",
     "text": [
      "[[0, 1, 2, 3, 4], [0, 1, 2, 3, 4], [0, 1, 2, 3, 4], [0, 1, 2, 3, 4], [0, 1, 2, 3, 4]]\n"
     ]
    }
   ],
   "source": [
    "matrix = []\n",
    "\n",
    "for i in range(5):\n",
    "\t\n",
    "\t# Append an empty sublist inside the list\n",
    "\tmatrix.append([])\n",
    "\t\n",
    "\tfor j in range(5):\n",
    "\t\tmatrix[i].append(j)\n",
    "\t\t\n",
    "print(matrix)\n"
   ]
  },
  {
   "cell_type": "code",
   "execution_count": 2,
   "id": "09abad4d",
   "metadata": {},
   "outputs": [
    {
     "name": "stdout",
     "output_type": "stream",
     "text": [
      "2\n",
      "2\n",
      "2\n",
      "[[0, 0], [0, 1], [1, 0], [1, 2], [2, 1], [2, 2]]\n"
     ]
    }
   ],
   "source": [
    "x = int(input())\n",
    "y = int(input())\n",
    "#z = int(input())\n",
    "n = int(input())\n",
    "ans = [[i,j] for i in range(x + 1) for j in range(y + 1) if i + j  != n]\n",
    "print (ans)"
   ]
  },
  {
   "cell_type": "code",
   "execution_count": 11,
   "id": "73d9ae74",
   "metadata": {},
   "outputs": [
    {
     "name": "stdout",
     "output_type": "stream",
     "text": [
      "2\n",
      "qw\n",
      "32\n",
      "qw\n",
      "34\n",
      "{34.0, 'qw'}\n",
      "[['qw', 32.0], ['qw', 34.0]]\n"
     ]
    }
   ],
   "source": [
    "if __name__ == '__main__':\n",
    "    l=[]\n",
    "    for i in range(int(input())):\n",
    "        name = input()\n",
    "        score = float(input())\n",
    "        l.append([name,score])\n",
    "        l.sort()\n",
    "    print(s)\n",
    "    print(l)"
   ]
  },
  {
   "cell_type": "code",
   "execution_count": 27,
   "id": "7fd7bb90",
   "metadata": {},
   "outputs": [
    {
     "name": "stdout",
     "output_type": "stream",
     "text": [
      "fuwdvbe\n",
      "['fuwdvbe']\n",
      "fuwdvbe\n"
     ]
    }
   ],
   "source": [
    "n=input().split()\n",
    "print(n)\n",
    "print(n[0])"
   ]
  },
  {
   "cell_type": "code",
   "execution_count": 6,
   "id": "fb7999f2",
   "metadata": {},
   "outputs": [
    {
     "name": "stdout",
     "output_type": "stream",
     "text": [
      "32\n",
      "422\n",
      "543\n",
      "577\n",
      "{32, 577, 422, 543}\n",
      "543\n",
      "[32, 422, 543, 577]\n"
     ]
    }
   ],
   "source": [
    "#runner-up\n",
    "l=[]\n",
    "for i in range(4):\n",
    "    n=int(input())\n",
    "    l.append(n)\n",
    "l.sort()\n",
    "print(set(l))\n",
    "s=list(set(l))\n",
    "print(l[-2])\n",
    "print(l)"
   ]
  },
  {
   "cell_type": "code",
   "execution_count": 40,
   "id": "622ac72c",
   "metadata": {},
   "outputs": [
    {
     "name": "stdout",
     "output_type": "stream",
     "text": [
      "AJKhjiNANijiKANkKNKN\n"
     ]
    }
   ],
   "source": [
    "s='ajkHJInanIJIkanKknkn'\n",
    "'''\n",
    "for i in s:\n",
    "    if (i.islower()) == True:\n",
    "        print(i.upper(), end='')\n",
    "    elif (i.isupper()) == True:\n",
    "        print(i.lower(), end='')\n",
    "'''\n",
    "print(s.swapcase())\n",
    "        s."
   ]
  },
  {
   "cell_type": "code",
   "execution_count": 12,
   "id": "5ae0175e",
   "metadata": {},
   "outputs": [
    {
     "name": "stdout",
     "output_type": "stream",
     "text": [
      "12 26 1996\n",
      "Thursday\n"
     ]
    }
   ],
   "source": [
    "import datetime\n",
    "import calendar\n",
    "\n",
    "m, d, y = map(int, input().split())\n",
    "input_date = datetime.date(y, m, d)\n",
    "print(calendar.day_name[input_date.weekday()])\n"
   ]
  },
  {
   "cell_type": "code",
   "execution_count": 15,
   "id": "308ec69e",
   "metadata": {},
   "outputs": [
    {
     "name": "stdout",
     "output_type": "stream",
     "text": [
      "1996\n",
      "12\n",
      "26\n",
      "THURSDAY\n"
     ]
    }
   ],
   "source": [
    "import datetime\n",
    "year=int(input())\n",
    "month=int(input())\n",
    "day=int(input())\n",
    "p=datetime.date(year,month,day)\n",
    "print(calendar.day_name[p.weekday()].upper())"
   ]
  },
  {
   "cell_type": "code",
   "execution_count": 7,
   "id": "2b4ecd21",
   "metadata": {},
   "outputs": [
    {
     "name": "stdout",
     "output_type": "stream",
     "text": [
      "2\n",
      "Anurag 26 28 30\n",
      "Harsh 25 26.5 28\n",
      "Harsh\n",
      "the total is:  79.5\n",
      "26.5\n"
     ]
    }
   ],
   "source": [
    "# percentage\n",
    "if __name__ == '__main__':\n",
    "    n = int(input())\n",
    "    student_marks = {}\n",
    "    for _ in range(n):\n",
    "        name, *line = input().split()\n",
    "        scores = list(map(float, line))\n",
    "        student_marks[name] = scores\n",
    "    query_name = input()\n",
    "    avg=0\n",
    "    c=0\n",
    "    for i in student_marks[query_name]:\n",
    "            c=c+i\n",
    "    print(\"the total is: \", c)\n",
    "    avg=c/(len(scores))\n",
    "    print(avg)"
   ]
  },
  {
   "cell_type": "code",
   "execution_count": 16,
   "id": "19f64684",
   "metadata": {},
   "outputs": [
    {
     "name": "stdout",
     "output_type": "stream",
     "text": [
      "8.30\n"
     ]
    }
   ],
   "source": [
    "a=8.3\n",
    "print('%.2f'%a)"
   ]
  },
  {
   "cell_type": "code",
   "execution_count": 1,
   "id": "314944a1",
   "metadata": {},
   "outputs": [
    {
     "name": "stdout",
     "output_type": "stream",
     "text": [
      "2\n",
      "enter 1st name and numbers: append 32\n",
      "enter 1st name and numbers: print\n",
      "[32]\n"
     ]
    }
   ],
   "source": [
    "#list\n",
    "if __name__ == '__main__':\n",
    "    N = int(input())\n",
    "    n=0\n",
    "    l=[]\n",
    "    for i in range(N):\n",
    "        c,*b=input('enter 1st name and numbers: ').split()\n",
    "        b=list(map(int,b))\n",
    "        if c == 'print':\n",
    "            print(l)\n",
    "        elif c == 'pop':\n",
    "            l.pop(-1)\n",
    "        elif c=='reverse':\n",
    "            l.reverse()\n",
    "        elif c== 'sort':\n",
    "            l.sort()\n",
    "        elif c=='append':\n",
    "            l.append(b[0])\n",
    "        elif c== 'insert':\n",
    "            l.insert(b[0],b[1])\n",
    "        elif c=='remove':\n",
    "            n=int(input())\n",
    "            l.remove(n)\n",
    "        else:\n",
    "            print('invalid entry')"
   ]
  },
  {
   "cell_type": "code",
   "execution_count": 4,
   "id": "fe66b226",
   "metadata": {},
   "outputs": [
    {
     "name": "stdout",
     "output_type": "stream",
     "text": [
      "3\n",
      "3 0\n",
      "Error Code: integer division or modulo by zero\n",
      "4 $\n",
      "Error Code: invalid literal for int() with base 10: '$'\n",
      "2 9\n",
      "0\n"
     ]
    }
   ],
   "source": [
    "#exceoted error\n",
    "n=int(input())\n",
    "for i in range(n):\n",
    "    try:\n",
    "        a,b=input().split()\n",
    "        a=list(map(int,a))\n",
    "        b=list(map(int,b))\n",
    "        print(a[0]//b[0])\n",
    "    except ZeroDivisionError as e:\n",
    "        print('Error Code:',e)\n",
    "    except ValueError as v:\n",
    "        print('Error Code:',v)\n"
   ]
  },
  {
   "cell_type": "code",
   "execution_count": 8,
   "id": "04bc1b45",
   "metadata": {},
   "outputs": [
    {
     "name": "stdout",
     "output_type": "stream",
     "text": [
      "3\n",
      "A\n",
      "10\n",
      "B\n",
      "5\n",
      "C\n",
      "3\n",
      "[['A', 10.0], ['B', 5.0], ['C', 3.0]]\n"
     ]
    }
   ],
   "source": [
    "if __name__ == '__main__':\n",
    "    l=[]\n",
    "    for i in range(int(input())):\n",
    "        name = input()\n",
    "        score = float(input())\n",
    "        l.append([name,score])\n",
    "    l.sort()\n",
    "    print(l)"
   ]
  },
  {
   "cell_type": "code",
   "execution_count": null,
   "id": "c6c13679",
   "metadata": {},
   "outputs": [],
   "source": []
  },
  {
   "cell_type": "code",
   "execution_count": null,
   "id": "555548e0",
   "metadata": {},
   "outputs": [],
   "source": []
  }
 ],
 "metadata": {
  "kernelspec": {
   "display_name": "Python 3 (ipykernel)",
   "language": "python",
   "name": "python3"
  },
  "language_info": {
   "codemirror_mode": {
    "name": "ipython",
    "version": 3
   },
   "file_extension": ".py",
   "mimetype": "text/x-python",
   "name": "python",
   "nbconvert_exporter": "python",
   "pygments_lexer": "ipython3",
   "version": "3.9.7"
  }
 },
 "nbformat": 4,
 "nbformat_minor": 5
}
