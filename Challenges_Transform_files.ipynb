{
 "cells": [
  {
   "cell_type": "code",
   "execution_count": 2,
   "id": "fa82866d",
   "metadata": {},
   "outputs": [
    {
     "name": "stdout",
     "output_type": "stream",
     "text": [
      "Yes\n"
     ]
    }
   ],
   "source": [
    "import os \n",
    "import re\n",
    "import shutil\n",
    "CD=\"C:\\\\Users\\\\M.shivaprasadreddy\\\\Documents\"\n",
    "SRC=\"S:\\\\\"\n",
    "os.chdir(SRC)\n",
    "#Python Basic Assignment\n",
    "for file in os.listdir(SRC):\n",
    "    if (\"_\" in file) and  (file.endswith(\".docx\")) and not (\" \" in file) and not (\"Programming\" in file):\n",
    "#         print(file)\n",
    "        name=re.findall(\"[A-Za-z]+\\_\\d\\d|[A-Za-z]+\\_\\d\",file)[0]\n",
    "        ext=re.findall(\"(\\.docx)\",file)[0]\n",
    "        rename=\"Python_Basic_\"+ name + ext\n",
    "#         print(rename)\n",
    "        os.rename(file,rename)\n",
    "    \n",
    "print(\"Done\")\n"
   ]
  },
  {
   "cell_type": "code",
   "execution_count": 64,
   "id": "6561f602",
   "metadata": {},
   "outputs": [
    {
     "name": "stdout",
     "output_type": "stream",
     "text": [
      "Already exist : Python_Programming_Assignment_Basic\n",
      "Already exist : Python_Advance_Programming_Assignment\n",
      "Already exist : Python_Advance_Assignment\n",
      "Already exist : Python_Basic_Assignment\n",
      "Done\n"
     ]
    }
   ],
   "source": [
    "import os \n",
    "import re\n",
    "import shutil\n",
    "CD=\"C:\\\\Users\\\\M.shivaprasadreddy\\\\Documents\"\n",
    "SRC=\"S:\\\\\"\n",
    "os.chdir(SRC)\n",
    "#Rename the file with desired names\n",
    "#Python_Basic_Assignment\n",
    "for file in os.listdir(SRC):\n",
    "    if (\"_\" in file) and  (file.endswith(\".docx\")) and not (\" \" in file) and not (\"Programming\" in file):\n",
    "#         print(file)\n",
    "        name=re.findall(\"([A-Za-z]+\\_[0-9])\",file)[0]#Assignment_1\n",
    "        ext=re.findall(\"(\\.docx)\",file)[0]\n",
    "        rename=\"Python_Basic_\"+ name + ext\n",
    "#         print(rename)\n",
    "        os.rename(file,rename)\n",
    "#Python_Advance_Assignment\n",
    "    elif (\"_\" in file) and  (file.endswith(\".docx\")) and (\" \" in file):\n",
    "#         print(file)\n",
    "        name=re.findall(\"([A-Za-z]+\\_[0-9])\",file)[0]#Assignment_1 (1)\n",
    "        ext=re.findall(\"(\\.docx)\",file)[0]\n",
    "        rename=\"Python_Advance_\"+ name +\" (1)\" + ext\n",
    "        os.rename(file,rename)\n",
    "#Python_Advance_Programming_Assignment\n",
    "    elif not (\"_\" in file) and  (file.endswith(\".docx\")) and not (\" \" in file) and (\"Assignment\" in file):\n",
    "#         print(file)\n",
    "        name=re.findall(\"([A-Za-z0-9]+)\",file)[0]#Assignment1\n",
    "        ext=re.findall(\"(\\.docx)\",file)[0]\n",
    "        rename=\"Python_Advance_Programming_\"+ name + ext\n",
    "        os.rename(file,rename)\n",
    "#Python_Programming_Assignment_Basic \n",
    "    elif (\"_\" in file) and  (file.endswith(\".docx\")) and not (\" \" in file) and (\"Programming\" in file):\n",
    "#         print(file)\n",
    "        name=re.findall(\"([A-Za-z_0-9]+)\",file)[0]#Programming_Assingment1\n",
    "        ext=re.findall(\"(\\.docx)\",file)[0]\n",
    "        rename=\"Python_\"+ name +\"_Basic_\"+ ext\n",
    "        os.rename(file,rename)\n",
    "    else:\n",
    "        pass\n",
    "#Moving files to desired location \n",
    "p=\"Python_Programming_Assignment_Basic\"\n",
    "p1=\"Python_Advance_Programming_Assignment\"\n",
    "p2=\"Python_Advance_Assignment\"\n",
    "p3=\"Python_Basic_Assignment\"\n",
    "newDir(p)\n",
    "newDir(p1)\n",
    "newDir(p2)\n",
    "newDir(p3)\n",
    "CH=os.path.join(CD,p)\n",
    "CH1=os.path.join(CD,p1)\n",
    "CH2=os.path.join(CD,p2)\n",
    "CH3=os.path.join(CD,p3)\n",
    "os.chdir(SRC)\n",
    "for file in os.listdir(SRC):\n",
    "    if (\"_\" in file) and  (file.endswith(\".docx\")) and (\"Basic\" in file) and (\"Programming\" in file) :\n",
    "#         print(file)Python_Programming_Assignment_Basic\n",
    "        shutil.move(file,CH)\n",
    "    elif (\"_\" in file) and  (file.endswith(\".docx\")) and (\"Advance\" in file) and not (\"Programming\" in file) :\n",
    "#         print(file)Python_Advance_Assignment\n",
    "        shutil.move(file,CH2)\n",
    "    elif (\"_\" in file) and  (file.endswith(\".docx\")) and (\"Advance\" in file) and (\"Programming\" in file) :\n",
    "#         print(file)Python_Advance_Programming_Assignment\n",
    "        shutil.move(file,CH1)\n",
    "    elif (\"_\" in file) and  (file.endswith(\".docx\")) and (\"Basic\" in file) and not (\"Programming\" in file) :\n",
    "#         print(file)Python_Basic_Assignment\n",
    "        shutil.move(file,CH3)\n",
    "    else:\n",
    "        pass\n",
    "print(\"Done\")"
   ]
  },
  {
   "cell_type": "code",
   "execution_count": 56,
   "id": "763927c2",
   "metadata": {},
   "outputs": [
    {
     "name": "stdout",
     "output_type": "stream",
     "text": [
      "Dir is Made : Test\n"
     ]
    }
   ],
   "source": [
    "import os \n",
    "# import re\n",
    "# import shutil\n",
    "CD=\"C:\\\\Users\\\\M.shivaprasadreddy\\\\Documents\"\n",
    "SRC=\"S:\\\\\"\n",
    "def newDir(p):\n",
    "    os.chdir(CD)\n",
    "    for file in  os.listdir(CD):\n",
    "        if os.path.exists(p):\n",
    "            print(\"Already exist :\",p)\n",
    "            break\n",
    "        else:\n",
    "            os.makedirs(p)\n",
    "            print(\"Dir is Made :\",p)\n",
    "            break"
   ]
  },
  {
   "cell_type": "code",
   "execution_count": null,
   "id": "583b4b60",
   "metadata": {},
   "outputs": [],
   "source": []
  },
  {
   "cell_type": "code",
   "execution_count": 45,
   "id": "f4dc4d5f",
   "metadata": {},
   "outputs": [
    {
     "name": "stdout",
     "output_type": "stream",
     "text": [
      "Assignment1.docx\n",
      "None\n",
      "Assignment2.docx\n",
      "None\n",
      "Assignment3.docx\n",
      "None\n"
     ]
    }
   ],
   "source": [
    "for file in os.listdir(SRC):#Assignment\n",
    "    if not (\"_\" in file) and  (file.endswith(\".docx\")) and not (\" \" in file) and (\"Assignment\" in file):\n",
    "        print(file)#Python Advance Programming Assignment\n",
    "        name=re.findall(\"([A-Za-z0-9]+)\",file)[0]\n",
    "        ext=re.findall(\"(\\.docx)\",file)[0]\n",
    "        rename=\"Python_Advance_Progrmming_\"+ name + ext\n",
    "        os.rename(file,rename)\n",
    "    else:\n",
    "        pass"
   ]
  },
  {
   "cell_type": "code",
   "execution_count": 5,
   "id": "084222a3",
   "metadata": {},
   "outputs": [
    {
     "name": "stdout",
     "output_type": "stream",
     "text": [
      "Python_Basic_Assignment_1.docx\n",
      "Python_Basic_Assignment_2.docx\n",
      "Python_Basic_Assignment_3.docx\n",
      "Done\n"
     ]
    }
   ],
   "source": [
    "CD=\"C:\\\\Users\\\\M.shivaprasadreddy\\\\Documents\\\\Program_Basic_Assignment\"\n",
    "SRC=\"S:\\\\\"\n",
    "os.chdir(SRC)\n",
    "for file in os.listdir(SRC):\n",
    "    if (\"_\" in file) and  (file.endswith(\".docx\")) and (\"Python\" in file):\n",
    "        print(file)\n",
    "        shutil.move(file,CD)\n",
    "    else:\n",
    "        pass\n",
    "print(\"Done\")"
   ]
  },
  {
   "cell_type": "code",
   "execution_count": 48,
   "id": "c6538fac",
   "metadata": {},
   "outputs": [
    {
     "name": "stdout",
     "output_type": "stream",
     "text": [
      "Programming_Assingment1.docx\n",
      "Programming_Assingment2.docx\n",
      "Programming_Assingment3.docx\n"
     ]
    }
   ],
   "source": [
    "for file in os.listdir(SRC):#Programming_Assingment1\n",
    "    if (\"_\" in file) and  (file.endswith(\".docx\")) and not (\" \" in file) and (\"Programming\" in file):\n",
    "        print(file)#Python Programming Basic Assignment\n",
    "        name=re.findall(\"([A-Za-z_0-9]+)\",file)[0]\n",
    "        ext=re.findall(\"(\\.docx)\",file)[0]\n",
    "        rename=\"Python_Progrmming_\"+ name +\"_Basic_\"+ ext\n",
    "        os.rename(file,rename)\n",
    "    else:\n",
    "        pass"
   ]
  },
  {
   "cell_type": "code",
   "execution_count": 49,
   "id": "1e9a7b64",
   "metadata": {},
   "outputs": [
    {
     "name": "stdout",
     "output_type": "stream",
     "text": [
      "Dir is Made\n",
      "in else\n",
      "in else\n",
      "in else\n",
      "in else\n",
      "in else\n",
      "in else\n",
      "in else\n",
      "in else\n",
      "in else\n",
      "in else\n",
      "Python_Progrmming_Programming_Assingment1_Basic_.docx\n",
      "Python_Progrmming_Programming_Assingment2_Basic_.docx\n",
      "Python_Progrmming_Programming_Assingment3_Basic_.docx\n",
      "in else\n",
      "in else\n",
      "in else\n",
      "in else\n",
      "Done\n"
     ]
    }
   ],
   "source": [
    "CD=\"C:\\\\Users\\\\M.shivaprasadreddy\\\\Documents\"\n",
    "SRC=\"S:\\\\\"\n",
    "os.chdir(CD)\n",
    "p=\"Python_Programming_Assignment_Basic\"\n",
    "for file in  os.listdir(CD):\n",
    "    if os.path.exists(p):\n",
    "        print(\"Yes\")\n",
    "        break\n",
    "    else:\n",
    "        os.makedirs(p)\n",
    "        print(\"Dir is Made\")\n",
    "        break\n",
    "CH=os.path.join(CD,p)\n",
    "os.chdir(SRC)\n",
    "for file in os.listdir(SRC):\n",
    "    if (\"_\" in file) and  (file.endswith(\".docx\")) and (\"Basic\" in file) and (\"Progrmming\" in file) :\n",
    "        print(file)\n",
    "        shutil.move(file,CH)\n",
    "    else:\n",
    "        print(\"in else\")\n",
    "print(\"Done\")"
   ]
  },
  {
   "cell_type": "code",
   "execution_count": 47,
   "id": "b1f49632",
   "metadata": {},
   "outputs": [
    {
     "name": "stdout",
     "output_type": "stream",
     "text": [
      "Yes\n",
      "in else\n",
      "in else\n",
      "in else\n",
      "in else\n",
      "in else\n",
      "in else\n",
      "in else\n",
      "in else\n",
      "in else\n",
      "in else\n",
      "in else\n",
      "in else\n",
      "in else\n",
      "Python_Advance_Progrmming_Assignment1.docx\n",
      "Python_Advance_Progrmming_Assignment2.docx\n",
      "Python_Advance_Progrmming_Assignment3.docx\n",
      "in else\n",
      "in else\n",
      "in else\n",
      "in else\n",
      "Done\n"
     ]
    }
   ],
   "source": [
    "CD=\"C:\\\\Users\\\\M.shivaprasadreddy\\\\Documents\"\n",
    "SRC=\"S:\\\\\"\n",
    "os.chdir(CD)\n",
    "p=\"Python_Advance_Programming_Assignment\"\n",
    "for file in  os.listdir(CD):\n",
    "    if os.path.exists(p):\n",
    "        print(\"Yes\")\n",
    "        break\n",
    "    else:\n",
    "        os.makedirs(p)\n",
    "        print(\"Dir is Made\")\n",
    "        break\n",
    "CH=os.path.join(CD,p)\n",
    "os.chdir(SRC)\n",
    "for file in os.listdir(SRC):\n",
    "    if (\"_\" in file) and  (file.endswith(\".docx\")) and (\"Advance\" in file):\n",
    "        print(file)\n",
    "        shutil.move(file,CH)\n",
    "    else:\n",
    "        print(\"in else\")\n",
    "print(\"Done\")"
   ]
  },
  {
   "cell_type": "code",
   "execution_count": null,
   "id": "165aaa7f",
   "metadata": {},
   "outputs": [],
   "source": []
  },
  {
   "cell_type": "code",
   "execution_count": null,
   "id": "03010f48",
   "metadata": {},
   "outputs": [],
   "source": []
  },
  {
   "cell_type": "code",
   "execution_count": 14,
   "id": "e08292cf",
   "metadata": {},
   "outputs": [
    {
     "name": "stdout",
     "output_type": "stream",
     "text": [
      "No file present in SRC...!\n",
      "No file present in SRC...!\n",
      "No file present in SRC...!\n",
      "No file present in SRC...!\n",
      "No file present in SRC...!\n",
      "Assignment_1 (1).docx\n",
      "Assignment_2 (1).docx\n",
      "Assignment_3 (1).docx\n",
      "No file present in SRC...!\n",
      "No file present in SRC...!\n",
      "No file present in SRC...!\n",
      "No file present in SRC...!\n",
      "No file present in SRC...!\n",
      "No file present in SRC...!\n",
      "No file present in SRC...!\n",
      "No file present in SRC...!\n",
      "No file present in SRC...!\n",
      "No file present in SRC...!\n",
      "No file present in SRC...!\n",
      "No file present in SRC...!\n",
      "No file present in SRC...!\n",
      "No file present in SRC...!\n",
      "No file present in SRC...!\n",
      "Done\n"
     ]
    }
   ],
   "source": [
    "import os \n",
    "import re\n",
    "import shutil\n",
    "CD=\"C:\\\\Users\\\\M.shivaprasadreddy\\\\Documents\"\n",
    "SRC=\"S:\\\\\"\n",
    "os.chdir(SRC)\n",
    "#Python Advance Assignment\n",
    "for file in os.listdir(SRC):#Assignment_2 (1)\n",
    "    if (\"_\" in file) and  (file.endswith(\".docx\")) and (\" \" in file):\n",
    "        print(file)\n",
    "        name=re.findall(\"([A-Za-z]+\\_[0-9])\",file)[0]\n",
    "        ext=re.findall(\"(\\.docx)\",file)[0]\n",
    "        rename=\"Python_Advance_\"+ name +\" (1)\" + ext\n",
    "        os.rename(file,rename)\n",
    "    else:\n",
    "        pass\n",
    "print(\"Done\")"
   ]
  },
  {
   "cell_type": "code",
   "execution_count": 41,
   "id": "94505b02",
   "metadata": {},
   "outputs": [
    {
     "name": "stdout",
     "output_type": "stream",
     "text": [
      "Python_Advance_Assignment_1 (1).docx\n",
      "Python_Advance_Assignment_2 (1).docx\n",
      "Python_Advance_Assignment_3 (1).docx\n",
      "Done\n"
     ]
    }
   ],
   "source": [
    "CD=\"C:\\\\Users\\\\M.shivaprasadreddy\\\\Documents\"\n",
    "SRC=\"S:\\\\\"\n",
    "os.chdir(CD)\n",
    "p=\"Python_Advance_Assignment\"\n",
    "for file in  os.listdir(CD):\n",
    "    if os.path.exists(\"Python_Advance_Assignment\"):\n",
    "        print(\"Yes\")\n",
    "        break\n",
    "    else:\n",
    "        os.makedirs(p)\n",
    "        break\n",
    "CH=os.path.join(CD,p)\n",
    "os.chdir(SRC)\n",
    "for file in os.listdir(SRC):\n",
    "    if (\"_\" in file) and  (file.endswith(\".docx\")) and (\"Advance\" in file):\n",
    "        print(file)\n",
    "        shutil.move(file,CH)\n",
    "    else:\n",
    "        pass\n",
    "print(\"Done\")"
   ]
  },
  {
   "cell_type": "code",
   "execution_count": 40,
   "id": "996e2378",
   "metadata": {},
   "outputs": [
    {
     "name": "stdout",
     "output_type": "stream",
     "text": [
      "Yes\n"
     ]
    }
   ],
   "source": []
  },
  {
   "cell_type": "code",
   "execution_count": null,
   "id": "a7a80115",
   "metadata": {},
   "outputs": [],
   "source": []
  },
  {
   "cell_type": "code",
   "execution_count": 18,
   "id": "3cded5f1",
   "metadata": {},
   "outputs": [],
   "source": [
    "CH=os.path.join(CD,\"Python_Advance_Assignment\")"
   ]
  },
  {
   "cell_type": "code",
   "execution_count": 19,
   "id": "f777f479",
   "metadata": {},
   "outputs": [
    {
     "data": {
      "text/plain": [
       "'C:\\\\Users\\\\M.shivaprasadreddy\\\\Documents\\\\Python_Advance_Assignment'"
      ]
     },
     "execution_count": 19,
     "metadata": {},
     "output_type": "execute_result"
    }
   ],
   "source": [
    "CH"
   ]
  },
  {
   "cell_type": "code",
   "execution_count": 91,
   "id": "be4ac89b",
   "metadata": {},
   "outputs": [
    {
     "data": {
      "text/plain": [
       "'C:\\\\Users\\\\M.shivaprasadreddy\\\\Documents\\\\Program_Basic_Assignment'"
      ]
     },
     "execution_count": 91,
     "metadata": {},
     "output_type": "execute_result"
    }
   ],
   "source": [
    "os.chdir(CD)\n",
    "os.getcwd()"
   ]
  },
  {
   "cell_type": "code",
   "execution_count": 28,
   "id": "7724d69c",
   "metadata": {},
   "outputs": [],
   "source": [
    "import os \n",
    "os.chdir(\"C:\\\\Users\\\\M.shivaprasadreddy\\\\Documents\")\n",
    "os.makedirs(\"Program_Basic_Assignment\")"
   ]
  },
  {
   "cell_type": "code",
   "execution_count": 50,
   "id": "18698556",
   "metadata": {},
   "outputs": [
    {
     "ename": "FileNotFoundError",
     "evalue": "[WinError 2] The system cannot find the file specified: 'C:\\\\Users\\\\M.shivaprasadreddy\\\\Downloads'",
     "output_type": "error",
     "traceback": [
      "\u001b[1;31m---------------------------------------------------------------------------\u001b[0m",
      "\u001b[1;31mFileNotFoundError\u001b[0m                         Traceback (most recent call last)",
      "\u001b[1;32mC:\\Users\\M461F~1.SHI\\AppData\\Local\\Temp/ipykernel_1604/2274423476.py\u001b[0m in \u001b[0;36m<module>\u001b[1;34m\u001b[0m\n\u001b[0;32m      1\u001b[0m \u001b[1;31m# os.chdir(\"C:\\\\Users\\\\M.shivaprasadreddy\\\\Downloads\"\u001b[0m\u001b[1;33m\u001b[0m\u001b[1;33m\u001b[0m\u001b[0m\n\u001b[0;32m      2\u001b[0m \u001b[0mos\u001b[0m\u001b[1;33m.\u001b[0m\u001b[0mgetcwd\u001b[0m\u001b[1;33m(\u001b[0m\u001b[1;33m)\u001b[0m\u001b[1;33m\u001b[0m\u001b[1;33m\u001b[0m\u001b[0m\n\u001b[1;32m----> 3\u001b[1;33m \u001b[0mos\u001b[0m\u001b[1;33m.\u001b[0m\u001b[0mchdir\u001b[0m\u001b[1;33m(\u001b[0m\u001b[1;34m\"C:\\\\Users\\\\M.shivaprasadreddy\\\\Downloads\"\u001b[0m\u001b[1;33m)\u001b[0m\u001b[1;33m\u001b[0m\u001b[1;33m\u001b[0m\u001b[0m\n\u001b[0m",
      "\u001b[1;31mFileNotFoundError\u001b[0m: [WinError 2] The system cannot find the file specified: 'C:\\\\Users\\\\M.shivaprasadreddy\\\\Downloads'"
     ]
    }
   ],
   "source": [
    "# os.chdir(\"C:\\\\Users\\\\M.shivaprasadreddy\\\\Downloads\"\n",
    "os.getcwd()\n",
    "os.chdir(\"C:\\\\Users\\\\M.shivaprasadreddy\\\\Downloads\")"
   ]
  },
  {
   "cell_type": "code",
   "execution_count": 22,
   "id": "0aa0f68a",
   "metadata": {},
   "outputs": [
    {
     "ename": "NameError",
     "evalue": "name 'command' is not defined",
     "output_type": "error",
     "traceback": [
      "\u001b[1;31m---------------------------------------------------------------------------\u001b[0m",
      "\u001b[1;31mNameError\u001b[0m                                 Traceback (most recent call last)",
      "\u001b[1;32mC:\\Users\\M461F~1.SHI\\AppData\\Local\\Temp/ipykernel_1604/1885770853.py\u001b[0m in \u001b[0;36m<module>\u001b[1;34m\u001b[0m\n\u001b[0;32m      1\u001b[0m \u001b[1;32mimport\u001b[0m \u001b[0msubprocess\u001b[0m\u001b[1;33m\u001b[0m\u001b[1;33m\u001b[0m\u001b[0m\n\u001b[1;32m----> 2\u001b[1;33m \u001b[0mprocess\u001b[0m \u001b[1;33m=\u001b[0m \u001b[0msubprocess\u001b[0m\u001b[1;33m.\u001b[0m\u001b[0mPopen\u001b[0m\u001b[1;33m(\u001b[0m\u001b[0mcommand\u001b[0m\u001b[1;33m,\u001b[0m \u001b[0mstdout\u001b[0m\u001b[1;33m=\u001b[0m\u001b[0mtempFile\u001b[0m\u001b[1;33m,\u001b[0m \u001b[0mshell\u001b[0m\u001b[1;33m=\u001b[0m\u001b[1;32mTrue\u001b[0m\u001b[1;33m)\u001b[0m\u001b[1;33m\u001b[0m\u001b[1;33m\u001b[0m\u001b[0m\n\u001b[0m",
      "\u001b[1;31mNameError\u001b[0m: name 'command' is not defined"
     ]
    }
   ],
   "source": [
    "import subprocess\n",
    "process = subprocess.Popen(command, stdout=tempFile, shell=True)"
   ]
  },
  {
   "cell_type": "code",
   "execution_count": 13,
   "id": "5069aafb",
   "metadata": {},
   "outputs": [],
   "source": [
    "os.makedirs(\"Challenges_test\")"
   ]
  },
  {
   "cell_type": "code",
   "execution_count": 14,
   "id": "a0ded80b",
   "metadata": {},
   "outputs": [],
   "source": [
    "os.removedirs(\"Challenges_test\")"
   ]
  },
  {
   "cell_type": "code",
   "execution_count": 28,
   "id": "21203888",
   "metadata": {},
   "outputs": [
    {
     "data": {
      "text/plain": [
       "'C:\\\\Users\\\\M.shivaprasadreddy\\\\Documents'"
      ]
     },
     "execution_count": 28,
     "metadata": {},
     "output_type": "execute_result"
    }
   ],
   "source": [
    "pwd()"
   ]
  },
  {
   "cell_type": "code",
   "execution_count": 8,
   "id": "26c2db60",
   "metadata": {},
   "outputs": [
    {
     "data": {
      "text/plain": [
       "['Arduino',\n",
       " 'books',\n",
       " 'Credit card statements',\n",
       " 'desktop.ini',\n",
       " 'DXC_technology',\n",
       " 'My Music',\n",
       " 'My Pictures',\n",
       " 'my presentations',\n",
       " 'My Videos',\n",
       " 'my_doc',\n",
       " 'Other files',\n",
       " 'Python Scripts',\n",
       " 'Resume',\n",
       " 'SOLIDWORKS Downloads',\n",
       " 'stories',\n",
       " 'text_books',\n",
       " 'Trading Books',\n",
       " 't_hub']"
      ]
     },
     "execution_count": 8,
     "metadata": {},
     "output_type": "execute_result"
    }
   ],
   "source": [
    "os.listdir()"
   ]
  },
  {
   "cell_type": "code",
   "execution_count": 46,
   "id": "d4c71b18",
   "metadata": {},
   "outputs": [],
   "source": [
    "import shutil\n",
    "os.chdir(\"C:\\\\Users\\\\M.shivaprasadreddy\\\\Documents\\\\books\")\n",
    "for i in os.listdir(\"C:\\\\Users\\\\M.shivaprasadreddy\\\\Documents\\\\books\"):\n",
    "    if str(i)==\"3_idiots_final-1.pdf\":\n",
    "        shutil.move(i,\"C:\\\\Users\\\\M.shivaprasadreddy\\\\Documents\\\\Test\")"
   ]
  },
  {
   "cell_type": "code",
   "execution_count": 42,
   "id": "1f0fe658",
   "metadata": {},
   "outputs": [
    {
     "data": {
      "text/plain": [
       "'C:\\\\Users\\\\M.shivaprasadreddy\\\\Documents'"
      ]
     },
     "execution_count": 42,
     "metadata": {},
     "output_type": "execute_result"
    }
   ],
   "source": [
    "os.getcwd()"
   ]
  },
  {
   "cell_type": "code",
   "execution_count": 11,
   "id": "53a3b093",
   "metadata": {},
   "outputs": [
    {
     "name": "stdout",
     "output_type": "stream",
     "text": [
      "['.ipynb_checkpoints', 'Challenges_Transform_files.ipynb']\n"
     ]
    }
   ],
   "source": [
    "import re,os\n",
    "regex=re.compile(\"[Credit card statements]+\")\n",
    "print(os.listdir())\n",
    "for i in os.listdir():\n",
    "    if i==regex:\n",
    "        os.makedirs(\"Test\")"
   ]
  },
  {
   "cell_type": "code",
   "execution_count": 8,
   "id": "3fa3b6f0",
   "metadata": {},
   "outputs": [
    {
     "data": {
      "text/plain": [
       "'C:\\\\Users\\\\M.shivaprasadreddy\\\\Desktop\\\\Python\\\\new\\\\Challenges'"
      ]
     },
     "execution_count": 8,
     "metadata": {},
     "output_type": "execute_result"
    }
   ],
   "source": [
    "os.getcwd()"
   ]
  },
  {
   "cell_type": "code",
   "execution_count": 9,
   "id": "cc0a1a8d",
   "metadata": {},
   "outputs": [
    {
     "data": {
      "text/plain": [
       "'C:\\\\Users\\\\M.shivaprasadreddy\\\\Desktop\\\\Python\\\\new\\\\Challenges'"
      ]
     },
     "execution_count": 9,
     "metadata": {},
     "output_type": "execute_result"
    }
   ],
   "source": [
    "pwd()"
   ]
  },
  {
   "cell_type": "code",
   "execution_count": null,
   "id": "9d436ec6",
   "metadata": {},
   "outputs": [],
   "source": []
  }
 ],
 "metadata": {
  "kernelspec": {
   "display_name": "Python 3 (ipykernel)",
   "language": "python",
   "name": "python3"
  },
  "language_info": {
   "codemirror_mode": {
    "name": "ipython",
    "version": 3
   },
   "file_extension": ".py",
   "mimetype": "text/x-python",
   "name": "python",
   "nbconvert_exporter": "python",
   "pygments_lexer": "ipython3",
   "version": "3.9.7"
  }
 },
 "nbformat": 4,
 "nbformat_minor": 5
}
