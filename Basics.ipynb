{
 "cells": [
  {
   "cell_type": "code",
   "execution_count": 1,
   "id": "8572a6c0",
   "metadata": {},
   "outputs": [
    {
     "name": "stdout",
     "output_type": "stream",
     "text": [
      "hello world\n"
     ]
    }
   ],
   "source": [
    "print('hello world')"
   ]
  },
  {
   "cell_type": "code",
   "execution_count": 34,
   "id": "5627b906",
   "metadata": {},
   "outputs": [
    {
     "name": "stdout",
     "output_type": "stream",
     "text": [
      "enter value a9\n",
      "enter value b2\n",
      "enter value c2\n"
     ]
    }
   ],
   "source": [
    "a=int(input('enter value a'))\n",
    "b=int(input('enter value b'))\n",
    "c=int(input('enter value c'))\n",
    "d=(a+b)/c\n",
    "e=d+7j\n",
    "j=str(e)+'shivaprasadreddy'"
   ]
  },
  {
   "cell_type": "code",
   "execution_count": 32,
   "id": "40f8a1fb",
   "metadata": {},
   "outputs": [
    {
     "data": {
      "text/plain": [
       "'(16.285714285714285+7j)shivaprasadreddy'"
      ]
     },
     "execution_count": 32,
     "metadata": {},
     "output_type": "execute_result"
    }
   ],
   "source": [
    "str(e)+'shivaprasadreddy'\n"
   ]
  },
  {
   "cell_type": "code",
   "execution_count": 33,
   "id": "e6ebd8ff",
   "metadata": {},
   "outputs": [
    {
     "data": {
      "text/plain": [
       "'eshivaprasadreddy'"
      ]
     },
     "execution_count": 33,
     "metadata": {},
     "output_type": "execute_result"
    }
   ],
   "source": [
    "f"
   ]
  },
  {
   "cell_type": "code",
   "execution_count": 23,
   "id": "30461ac5",
   "metadata": {},
   "outputs": [
    {
     "data": {
      "text/plain": [
       "complex"
      ]
     },
     "execution_count": 23,
     "metadata": {},
     "output_type": "execute_result"
    }
   ],
   "source": [
    "type(e)"
   ]
  },
  {
   "cell_type": "code",
   "execution_count": 24,
   "id": "22b2b577",
   "metadata": {},
   "outputs": [],
   "source": [
    "o1=str(e)+'shiva'"
   ]
  },
  {
   "cell_type": "code",
   "execution_count": 25,
   "id": "0bd9ef7a",
   "metadata": {},
   "outputs": [
    {
     "data": {
      "text/plain": [
       "'(16.285714285714285+7j)shiva'"
      ]
     },
     "execution_count": 25,
     "metadata": {},
     "output_type": "execute_result"
    }
   ],
   "source": [
    "o1"
   ]
  },
  {
   "cell_type": "code",
   "execution_count": 35,
   "id": "ccd285a8",
   "metadata": {},
   "outputs": [
    {
     "data": {
      "text/plain": [
       "'(5.5+7j)shivaprasadreddy'"
      ]
     },
     "execution_count": 35,
     "metadata": {},
     "output_type": "execute_result"
    }
   ],
   "source": [
    "j\n"
   ]
  },
  {
   "cell_type": "code",
   "execution_count": 4,
   "id": "88dbb634",
   "metadata": {},
   "outputs": [
    {
     "data": {
      "text/plain": [
       "11"
      ]
     },
     "execution_count": 4,
     "metadata": {},
     "output_type": "execute_result"
    }
   ],
   "source": [
    "s='my name is shiva prasad reddy find the name in this statement'\n",
    "s.find('shiva')"
   ]
  },
  {
   "cell_type": "code",
   "execution_count": 6,
   "id": "3d50cdcc",
   "metadata": {},
   "outputs": [
    {
     "data": {
      "text/plain": [
       "'MY NAME IS SHIVA PRASAD REDDY FIND THE NAME IN THIS STATEMENT'"
      ]
     },
     "execution_count": 6,
     "metadata": {},
     "output_type": "execute_result"
    }
   ],
   "source": [
    "s.upper()"
   ]
  },
  {
   "cell_type": "code",
   "execution_count": 7,
   "id": "b00b74dd",
   "metadata": {},
   "outputs": [
    {
     "data": {
      "text/plain": [
       "'my name is shiva prasad reddy find the name in this statement'"
      ]
     },
     "execution_count": 7,
     "metadata": {},
     "output_type": "execute_result"
    }
   ],
   "source": [
    "s.lower()"
   ]
  },
  {
   "cell_type": "code",
   "execution_count": 8,
   "id": "f7a6110d",
   "metadata": {},
   "outputs": [
    {
     "data": {
      "text/plain": [
       "'my name is shiva prasad reddy find the name in this statement'"
      ]
     },
     "execution_count": 8,
     "metadata": {},
     "output_type": "execute_result"
    }
   ],
   "source": [
    "s.strip()"
   ]
  },
  {
   "cell_type": "code",
   "execution_count": 11,
   "id": "9d62b89f",
   "metadata": {},
   "outputs": [
    {
     "data": {
      "text/plain": [
       "'mvijayayvijaya vijayanvijayaavijayamvijayaevijaya vijayaivijayasvijaya vijayasvijayahvijayaivijayavvijayaavijaya vijayapvijayarvijayaavijayasvijayaavijayadvijaya vijayarvijayaevijayadvijayadvijayayvijaya vijayafvijayaivijayanvijayadvijaya vijayatvijayahvijayaevijaya vijayanvijayaavijayamvijayaevijaya vijayaivijayanvijaya vijayatvijayahvijayaivijayasvijaya vijayasvijayatvijayaavijayatvijayaevijayamvijayaevijayanvijayat'"
      ]
     },
     "execution_count": 11,
     "metadata": {},
     "output_type": "execute_result"
    }
   ],
   "source": [
    "'vijaya'.join(s)"
   ]
  },
  {
   "cell_type": "code",
   "execution_count": 31,
   "id": "676ab811",
   "metadata": {},
   "outputs": [
    {
     "name": "stdout",
     "output_type": "stream",
     "text": [
      "we are all part of full stack\n",
      "4\n",
      "3\n",
      "7\n",
      "12\n",
      "26\n",
      "we shivre shivll pshivrt of full stshivck\n",
      "['we', 'are', 'all', 'part', 'of', 'full', 'stack']\n"
     ]
    }
   ],
   "source": [
    "a='we are all part of full stack'\n",
    "print(a.lower())\n",
    "print(a.count('a'))\n",
    "for i in range(len(a)):\n",
    "    if a[i]=='a':\n",
    "        print(i)\n",
    "print(a.replace('a','shiv'))\n",
    "print(a.split())\n",
    "\n"
   ]
  },
  {
   "cell_type": "code",
   "execution_count": 8,
   "id": "a822a0ba",
   "metadata": {},
   "outputs": [
    {
     "name": "stdout",
     "output_type": "stream",
     "text": [
      "a\n",
      "v\n",
      "i\n",
      "h\n",
      "s\n"
     ]
    }
   ],
   "source": [
    "s='shiva'\n",
    "for i in range(1,len(s)+1):\n",
    "    print(s[-i])"
   ]
  },
  {
   "cell_type": "code",
   "execution_count": 2,
   "id": "6898544e",
   "metadata": {},
   "outputs": [
    {
     "name": "stdout",
     "output_type": "stream",
     "text": [
      "3\n"
     ]
    }
   ],
   "source": []
  },
  {
   "cell_type": "code",
   "execution_count": 17,
   "id": "dfa49e15",
   "metadata": {},
   "outputs": [
    {
     "name": "stdout",
     "output_type": "stream",
     "text": [
      "shiva 0\n",
      "prasad 3\n",
      "shiva 4\n",
      "kid 0\n",
      "child 1\n",
      "cat 0\n",
      "data 1\n",
      "wanted 3\n",
      "[1, [23, 3], [3, 82], [271]]\n",
      "Wall time: 0 ns\n"
     ]
    }
   ],
   "source": [
    "%%time\n",
    "l=[1,['shiva',23,3,'prasad','shiva'],['kid','child',3,82,],['cat','data',271,'wanted']]\n",
    "#l.insert(1,'write a letter')\n",
    "#l.insert(1,'8+5j')\n",
    "#print(l)\n",
    "for i in l:\n",
    "    if type(i) is list:\n",
    "        #print(i)\n",
    "        j=0\n",
    "        while j < len(i):\n",
    "            if type(i[j])==str:\n",
    "                #print(j)\n",
    "                print(i[j],j)\n",
    "                \n",
    "            j=j+1\n",
    "        j=0\n",
    "        while j < len(i):\n",
    "            if type(i[j]) == str:\n",
    "                i.remove(i[j])\n",
    "                continue\n",
    "            j = j +1\n",
    "print(l)\n",
    "\n",
    "\n",
    "                "
   ]
  },
  {
   "cell_type": "code",
   "execution_count": null,
   "id": "640cde81",
   "metadata": {},
   "outputs": [],
   "source": [
    "l=[1,['shiva',23,3,'prasad','shiva'],['kid','child',3,82,],['cat','data',271,'wanted']]\n",
    "print(len(l[2]))"
   ]
  },
  {
   "cell_type": "code",
   "execution_count": 15,
   "id": "062e995b",
   "metadata": {},
   "outputs": [
    {
     "name": "stdout",
     "output_type": "stream",
     "text": [
      "Found duplicate value at index 8 which matches with value at index position 1\n",
      "Found duplicate value at index 4 which matches with value at index position 4\n",
      "Found duplicate value at index 6 which matches with value at index position 5\n"
     ]
    }
   ],
   "source": [
    "l=[1,2,3,4,4,5,5,6,1]\n",
    "\n",
    "for i in range (0,len(l)):\n",
    "\n",
    "    for x in range (i+1,len(l)):\n",
    "\n",
    "        if l[i] == l[x] :\n",
    "\n",
    "            print ('Found duplicate value at index '+str(x)+' which matches with value at index position '+str(l[i]))"
   ]
  },
  {
   "cell_type": "code",
   "execution_count": 2,
   "id": "f8a511c9",
   "metadata": {},
   "outputs": [
    {
     "name": "stdout",
     "output_type": "stream",
     "text": [
      "plz enter the paragragh :shivaprasdredy shuvaprasd reddu \n",
      "this is list values    : ['s', 'h', 'i', 'v', 'a', 'p', 'r', 'a', 's', 'd', 'r', 'e', 'd', 'y', ' ', 's', 'h', 'u', 'v', 'a', 'p', 'r', 'a', 's', 'd', ' ', 'r', 'e', 'd', 'd', 'u', ' ']\n",
      "this is a set values   : {'r', 'e', 's', 'v', 'u', 'p', ' ', 'a', 'h', 'y', 'd', 'i'}\n",
      "('s', 'h', 'i', 'v', 'a', 'p', 'r', 'd', 'e', 'y', ' ', 'u')\n",
      "['shiva', 'shiva', 'shiva', 'shiva', 'shiva', 'shiva', 'shiva', 'shiva', 'shiva', 'shiva', 'shiva', 'shiva']\n",
      "{'s': 'shiva', 'h': 'shiva', 'i': 'shiva', 'v': 'shiva', 'a': 'shiva', 'p': 'shiva', 'r': 'shiva', 'd': 'shiva', 'e': 'shiva', 'y': 'shiva', ' ': 'shiva', 'u': 'shiva'}\n"
     ]
    }
   ],
   "source": [
    "# tuple set dic\n",
    "p=input('plz enter the paragragh :')\n",
    "l=list(p)\n",
    "s=set(l)\n",
    "print('this is list values    :',l)\n",
    "print( 'this is a set values   :',s)\n",
    "d={i:'shiva' for i in l}\n",
    "t=tuple(d.keys())\n",
    "print(t)\n",
    "l1=list(d.values())\n",
    "print(l1)\n",
    "print(d)"
   ]
  },
  {
   "cell_type": "code",
   "execution_count": 36,
   "id": "e7a62a49",
   "metadata": {},
   "outputs": [],
   "source": [
    "def adding_lists(*args, **kwargs, ):\n",
    "    '''l=[]\n",
    "    for i in arg:\n",
    "        if type(i) is list:\n",
    "            l=l+i'''\n",
    "    return args\n",
    "    return kwargs\n"
   ]
  },
  {
   "cell_type": "code",
   "execution_count": 40,
   "id": "2d2e4c1c",
   "metadata": {},
   "outputs": [
    {
     "ename": "SyntaxError",
     "evalue": "positional argument follows keyword argument (Temp/ipykernel_11424/3333851674.py, line 1)",
     "output_type": "error",
     "traceback": [
      "\u001b[1;36m  File \u001b[1;32m\"C:\\Users\\M461F~1.SHI\\AppData\\Local\\Temp/ipykernel_11424/3333851674.py\"\u001b[1;36m, line \u001b[1;32m1\u001b[0m\n\u001b[1;33m    adding_lists(a=2, 'aefd', 9)\u001b[0m\n\u001b[1;37m                               ^\u001b[0m\n\u001b[1;31mSyntaxError\u001b[0m\u001b[1;31m:\u001b[0m positional argument follows keyword argument\n"
     ]
    }
   ],
   "source": [
    "adding_lists(a=2, 'aefd', 9)"
   ]
  },
  {
   "cell_type": "code",
   "execution_count": 51,
   "id": "ff598c66",
   "metadata": {},
   "outputs": [],
   "source": [
    "# function seperating data types\n",
    "def seperate(*args):\n",
    "    se={}\n",
    "    print(type(se))\n",
    "    for i in args:\n",
    "        if type(i) in se:\n",
    "            se[type(i)].append(i)\n",
    "        else:\n",
    "            se[type(i)]= [i]\n",
    "    return se"
   ]
  },
  {
   "cell_type": "code",
   "execution_count": 56,
   "id": "54caa08d",
   "metadata": {},
   "outputs": [
    {
     "name": "stdout",
     "output_type": "stream",
     "text": [
      "<class 'dict'>\n"
     ]
    },
    {
     "data": {
      "text/plain": [
       "{int: [21, 24],\n",
       " str: ['sdj'],\n",
       " complex: [(3+3j), (3+8j)],\n",
       " tuple: [('dww', 2), (2, 'ssf')],\n",
       " list: [[1, 3, 1, 'sd']],\n",
       " set: [{21, 31, 'hja'}],\n",
       " bool: [True]}"
      ]
     },
     "execution_count": 56,
     "metadata": {},
     "output_type": "execute_result"
    }
   ],
   "source": [
    "seperate(21,'sdj',3+3j,('dww',2),[1,3,1,'sd'],{21,31,'hja'},24,3+8j,(2,'ssf'),True)"
   ]
  },
  {
   "cell_type": "code",
   "execution_count": 49,
   "id": "5325bbb8",
   "metadata": {},
   "outputs": [
    {
     "ename": "NameError",
     "evalue": "name 'se' is not defined",
     "output_type": "error",
     "traceback": [
      "\u001b[1;31m---------------------------------------------------------------------------\u001b[0m",
      "\u001b[1;31mNameError\u001b[0m                                 Traceback (most recent call last)",
      "\u001b[1;32mC:\\Users\\M461F~1.SHI\\AppData\\Local\\Temp/ipykernel_11424/2408478289.py\u001b[0m in \u001b[0;36m<module>\u001b[1;34m\u001b[0m\n\u001b[1;32m----> 1\u001b[1;33m \u001b[0mtype\u001b[0m\u001b[1;33m(\u001b[0m\u001b[0mse\u001b[0m\u001b[1;33m)\u001b[0m\u001b[1;33m\u001b[0m\u001b[1;33m\u001b[0m\u001b[0m\n\u001b[0m",
      "\u001b[1;31mNameError\u001b[0m: name 'se' is not defined"
     ]
    }
   ],
   "source": [
    "type(se)"
   ]
  },
  {
   "cell_type": "code",
   "execution_count": 1,
   "id": "c379f14a",
   "metadata": {},
   "outputs": [],
   "source": [
    "def fun(a,b):\n",
    "    sl=input('enter any one of the operater +,-,*,%,/ :')\n",
    "    i=0\n",
    "    if sl == '+':# when we using 'is'in place of == its giving any error or warng\n",
    "        return a+b\n",
    "    elif sl == '-':\n",
    "        return a-b\n",
    "    elif sl == '*':\n",
    "        return a*b\n",
    "    elif sl == '%':\n",
    "        return a%b\n",
    "    elif sl == '/':\n",
    "        return a/b\n",
    "    else:\n",
    "        print('plz enter valid opertr')\n",
    "         "
   ]
  },
  {
   "cell_type": "code",
   "execution_count": 2,
   "id": "ad842813",
   "metadata": {},
   "outputs": [
    {
     "name": "stdout",
     "output_type": "stream",
     "text": [
      "enter any one of the operater +,-,*,%,/ :*\n"
     ]
    },
    {
     "data": {
      "text/plain": [
       "100"
      ]
     },
     "execution_count": 2,
     "metadata": {},
     "output_type": "execute_result"
    }
   ],
   "source": [
    "fun(10,10)"
   ]
  },
  {
   "cell_type": "code",
   "execution_count": 5,
   "id": "d2fc6133",
   "metadata": {},
   "outputs": [],
   "source": [
    "def tri(b,h):\n",
    "    return 0.5*b*h"
   ]
  },
  {
   "cell_type": "code",
   "execution_count": 6,
   "id": "2c4d3612",
   "metadata": {},
   "outputs": [
    {
     "data": {
      "text/plain": [
       "50.0"
      ]
     },
     "execution_count": 6,
     "metadata": {},
     "output_type": "execute_result"
    }
   ],
   "source": [
    "tri(10,10)"
   ]
  },
  {
   "cell_type": "code",
   "execution_count": 7,
   "id": "02821fcb",
   "metadata": {},
   "outputs": [],
   "source": [
    "def swap(s,a):\n",
    "    return a,s"
   ]
  },
  {
   "cell_type": "code",
   "execution_count": 9,
   "id": "45866404",
   "metadata": {},
   "outputs": [
    {
     "data": {
      "text/plain": [
       "('Anu', 'shiva')"
      ]
     },
     "execution_count": 9,
     "metadata": {},
     "output_type": "execute_result"
    }
   ],
   "source": [
    "swap('shiva','Anu')"
   ]
  },
  {
   "cell_type": "code",
   "execution_count": 39,
   "id": "99fa220e",
   "metadata": {},
   "outputs": [
    {
     "name": "stdout",
     "output_type": "stream",
     "text": [
      "plz enter name 1st shiva 124 14212 12412\n",
      "shiva [124.0, 14212.0, 12412.0]\n"
     ]
    }
   ],
   "source": [
    "# percentage\n",
    "name, *line = input('plz enter name 1st').split()\n",
    "scores = list(map(float, line))\n",
    "print(name,scores)"
   ]
  },
  {
   "cell_type": "code",
   "execution_count": 35,
   "id": "ac139652",
   "metadata": {},
   "outputs": [
    {
     "name": "stdout",
     "output_type": "stream",
     "text": [
      "ewwhfskd  osfhdo \n",
      "<class 'list'>\n"
     ]
    }
   ],
   "source": [
    "line = input().split()\n",
    "#scores = list(map(float, line))\n",
    "print(type(line))"
   ]
  },
  {
   "cell_type": "code",
   "execution_count": 47,
   "id": "04222300",
   "metadata": {},
   "outputs": [
    {
     "name": "stdout",
     "output_type": "stream",
     "text": [
      "340203 2034082 0238408 0384082 203840 223048 \n",
      "[340203, 2034082, 238408, 384082, 203840, 223048]\n"
     ]
    }
   ],
   "source": [
    "l=input().split()\n",
    "a=list(map(int,l))\n",
    "print(a)"
   ]
  },
  {
   "cell_type": "code",
   "execution_count": 49,
   "id": "2c8a75e7",
   "metadata": {},
   "outputs": [
    {
     "name": "stdout",
     "output_type": "stream",
     "text": [
      "2\n",
      "shiva 23 34 65 43\n",
      "{'shiva': [23.0, 34.0, 65.0, 43.0]}\n",
      "shiva\n",
      "{'shiva': []}\n",
      "shiva\n"
     ]
    }
   ],
   "source": [
    "if __name__ == '__main__':\n",
    "    n = int(input())\n",
    "    student_marks = {}\n",
    "    for _ in range(n):\n",
    "        name, *line = input().split()\n",
    "        scores = list(map(float, line))\n",
    "        student_marks[name] = scores\n",
    "        print(student_marks)\n",
    "    query_name = input()"
   ]
  },
  {
   "cell_type": "code",
   "execution_count": 78,
   "id": "79220f52",
   "metadata": {},
   "outputs": [
    {
     "name": "stdout",
     "output_type": "stream",
     "text": [
      "2\n",
      "Harsh 25 26.5 28\n",
      "Anurag 26 28 30\n",
      "Harsh\n",
      "the total is:  79.5\n",
      "26.5\n"
     ]
    }
   ],
   "source": [
    "if __name__ == '__main__':\n",
    "    n = int(input())\n",
    "    student_marks = {}\n",
    "    for _ in range(n):\n",
    "        name, *line = input().split()\n",
    "        scores = list(map(float, line))\n",
    "        student_marks[name] = scores\n",
    "    query_name = input()\n",
    "    avg=0\n",
    "    c=0\n",
    "    for i in student_marks[query_name]:\n",
    "            c=c+i\n",
    "    print(\"the total is: \", c)\n",
    "    avg=c/(len(scores))\n",
    "    print(avg)"
   ]
  },
  {
   "cell_type": "code",
   "execution_count": 66,
   "id": "2fba335c",
   "metadata": {},
   "outputs": [
    {
     "name": "stdout",
     "output_type": "stream",
     "text": [
      "25 26.5 28\n",
      "3\n",
      "26.5\n"
     ]
    }
   ],
   "source": [
    "a=input().split()\n",
    "b=list(map(float,a))\n",
    "c=0\n",
    "for i in range(len(b)):\n",
    "    #print(b[i])\n",
    "    c=c+b[i]\n",
    "avg=c/(len(b))\n",
    "print(len(b))\n",
    "    #sum=sum(b[i])\n",
    "#print(c)\n",
    "print(avg)"
   ]
  },
  {
   "cell_type": "code",
   "execution_count": null,
   "id": "9f623fc3",
   "metadata": {},
   "outputs": [],
   "source": []
  }
 ],
 "metadata": {
  "kernelspec": {
   "display_name": "Python 3 (ipykernel)",
   "language": "python",
   "name": "python3"
  },
  "language_info": {
   "codemirror_mode": {
    "name": "ipython",
    "version": 3
   },
   "file_extension": ".py",
   "mimetype": "text/x-python",
   "name": "python",
   "nbconvert_exporter": "python",
   "pygments_lexer": "ipython3",
   "version": "3.9.7"
  }
 },
 "nbformat": 4,
 "nbformat_minor": 5
}
